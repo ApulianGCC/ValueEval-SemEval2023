{
  "nbformat": 4,
  "nbformat_minor": 0,
  "metadata": {
    "colab": {
      "provenance": [],
      "collapsed_sections": [
        "USOvUivPptEV",
        "aHdDe75nEZVd",
        "jjXvxqe7MUD0",
        "j3N1PQer_pUX",
        "NmLrCxOc6ko2",
        "C1gtmT_044BO",
        "-l1Ag9XJSkNz",
        "K54r390r4RN8",
        "XfO1a0Dnnbvk",
        "qoFnElEXD748",
        "9sUGIlNKmJmb",
        "pOiUZtiQX4EH",
        "6KzWSbdHmbrH"
      ]
    },
    "kernelspec": {
      "name": "python3",
      "display_name": "Python 3"
    },
    "language_info": {
      "name": "python"
    },
    "accelerator": "GPU",
    "gpuClass": "standard",
    "widgets": {
      "application/vnd.jupyter.widget-state+json": {
        "56967fc9efcf408d8b7c307116d94adc": {
          "model_module": "@jupyter-widgets/controls",
          "model_name": "HBoxModel",
          "model_module_version": "1.5.0",
          "state": {
            "_dom_classes": [],
            "_model_module": "@jupyter-widgets/controls",
            "_model_module_version": "1.5.0",
            "_model_name": "HBoxModel",
            "_view_count": null,
            "_view_module": "@jupyter-widgets/controls",
            "_view_module_version": "1.5.0",
            "_view_name": "HBoxView",
            "box_style": "",
            "children": [
              "IPY_MODEL_d41b090595654132830274c182d88374",
              "IPY_MODEL_5dd7f2665f7e4cfeb38df436d20635ea",
              "IPY_MODEL_19a033eb060542b2aaff3f1246aa3b1a"
            ],
            "layout": "IPY_MODEL_14993e2abb404cb9be8ab913993fb95e"
          }
        },
        "d41b090595654132830274c182d88374": {
          "model_module": "@jupyter-widgets/controls",
          "model_name": "HTMLModel",
          "model_module_version": "1.5.0",
          "state": {
            "_dom_classes": [],
            "_model_module": "@jupyter-widgets/controls",
            "_model_module_version": "1.5.0",
            "_model_name": "HTMLModel",
            "_view_count": null,
            "_view_module": "@jupyter-widgets/controls",
            "_view_module_version": "1.5.0",
            "_view_name": "HTMLView",
            "description": "",
            "description_tooltip": null,
            "layout": "IPY_MODEL_33b2ece2b10e44409aab00fc0ee7b6dc",
            "placeholder": "​",
            "style": "IPY_MODEL_dac176b3166d4c9eb0628b8e398947ad",
            "value": "Downloading: 100%"
          }
        },
        "5dd7f2665f7e4cfeb38df436d20635ea": {
          "model_module": "@jupyter-widgets/controls",
          "model_name": "FloatProgressModel",
          "model_module_version": "1.5.0",
          "state": {
            "_dom_classes": [],
            "_model_module": "@jupyter-widgets/controls",
            "_model_module_version": "1.5.0",
            "_model_name": "FloatProgressModel",
            "_view_count": null,
            "_view_module": "@jupyter-widgets/controls",
            "_view_module_version": "1.5.0",
            "_view_name": "ProgressView",
            "bar_style": "success",
            "description": "",
            "description_tooltip": null,
            "layout": "IPY_MODEL_23c974169eee4f44a42a45f90d23d0ea",
            "max": 1386,
            "min": 0,
            "orientation": "horizontal",
            "style": "IPY_MODEL_c3b7399c2b1f40e889b8be944db50633",
            "value": 1386
          }
        },
        "19a033eb060542b2aaff3f1246aa3b1a": {
          "model_module": "@jupyter-widgets/controls",
          "model_name": "HTMLModel",
          "model_module_version": "1.5.0",
          "state": {
            "_dom_classes": [],
            "_model_module": "@jupyter-widgets/controls",
            "_model_module_version": "1.5.0",
            "_model_name": "HTMLModel",
            "_view_count": null,
            "_view_module": "@jupyter-widgets/controls",
            "_view_module_version": "1.5.0",
            "_view_name": "HTMLView",
            "description": "",
            "description_tooltip": null,
            "layout": "IPY_MODEL_342f465f5b82430fad16e1fb3e5875ef",
            "placeholder": "​",
            "style": "IPY_MODEL_01ab45d574444e80a6a6a6d7e513df02",
            "value": " 1.39k/1.39k [00:00&lt;00:00, 31.1kB/s]"
          }
        },
        "14993e2abb404cb9be8ab913993fb95e": {
          "model_module": "@jupyter-widgets/base",
          "model_name": "LayoutModel",
          "model_module_version": "1.2.0",
          "state": {
            "_model_module": "@jupyter-widgets/base",
            "_model_module_version": "1.2.0",
            "_model_name": "LayoutModel",
            "_view_count": null,
            "_view_module": "@jupyter-widgets/base",
            "_view_module_version": "1.2.0",
            "_view_name": "LayoutView",
            "align_content": null,
            "align_items": null,
            "align_self": null,
            "border": null,
            "bottom": null,
            "display": null,
            "flex": null,
            "flex_flow": null,
            "grid_area": null,
            "grid_auto_columns": null,
            "grid_auto_flow": null,
            "grid_auto_rows": null,
            "grid_column": null,
            "grid_gap": null,
            "grid_row": null,
            "grid_template_areas": null,
            "grid_template_columns": null,
            "grid_template_rows": null,
            "height": null,
            "justify_content": null,
            "justify_items": null,
            "left": null,
            "margin": null,
            "max_height": null,
            "max_width": null,
            "min_height": null,
            "min_width": null,
            "object_fit": null,
            "object_position": null,
            "order": null,
            "overflow": null,
            "overflow_x": null,
            "overflow_y": null,
            "padding": null,
            "right": null,
            "top": null,
            "visibility": null,
            "width": null
          }
        },
        "33b2ece2b10e44409aab00fc0ee7b6dc": {
          "model_module": "@jupyter-widgets/base",
          "model_name": "LayoutModel",
          "model_module_version": "1.2.0",
          "state": {
            "_model_module": "@jupyter-widgets/base",
            "_model_module_version": "1.2.0",
            "_model_name": "LayoutModel",
            "_view_count": null,
            "_view_module": "@jupyter-widgets/base",
            "_view_module_version": "1.2.0",
            "_view_name": "LayoutView",
            "align_content": null,
            "align_items": null,
            "align_self": null,
            "border": null,
            "bottom": null,
            "display": null,
            "flex": null,
            "flex_flow": null,
            "grid_area": null,
            "grid_auto_columns": null,
            "grid_auto_flow": null,
            "grid_auto_rows": null,
            "grid_column": null,
            "grid_gap": null,
            "grid_row": null,
            "grid_template_areas": null,
            "grid_template_columns": null,
            "grid_template_rows": null,
            "height": null,
            "justify_content": null,
            "justify_items": null,
            "left": null,
            "margin": null,
            "max_height": null,
            "max_width": null,
            "min_height": null,
            "min_width": null,
            "object_fit": null,
            "object_position": null,
            "order": null,
            "overflow": null,
            "overflow_x": null,
            "overflow_y": null,
            "padding": null,
            "right": null,
            "top": null,
            "visibility": null,
            "width": null
          }
        },
        "dac176b3166d4c9eb0628b8e398947ad": {
          "model_module": "@jupyter-widgets/controls",
          "model_name": "DescriptionStyleModel",
          "model_module_version": "1.5.0",
          "state": {
            "_model_module": "@jupyter-widgets/controls",
            "_model_module_version": "1.5.0",
            "_model_name": "DescriptionStyleModel",
            "_view_count": null,
            "_view_module": "@jupyter-widgets/base",
            "_view_module_version": "1.2.0",
            "_view_name": "StyleView",
            "description_width": ""
          }
        },
        "23c974169eee4f44a42a45f90d23d0ea": {
          "model_module": "@jupyter-widgets/base",
          "model_name": "LayoutModel",
          "model_module_version": "1.2.0",
          "state": {
            "_model_module": "@jupyter-widgets/base",
            "_model_module_version": "1.2.0",
            "_model_name": "LayoutModel",
            "_view_count": null,
            "_view_module": "@jupyter-widgets/base",
            "_view_module_version": "1.2.0",
            "_view_name": "LayoutView",
            "align_content": null,
            "align_items": null,
            "align_self": null,
            "border": null,
            "bottom": null,
            "display": null,
            "flex": null,
            "flex_flow": null,
            "grid_area": null,
            "grid_auto_columns": null,
            "grid_auto_flow": null,
            "grid_auto_rows": null,
            "grid_column": null,
            "grid_gap": null,
            "grid_row": null,
            "grid_template_areas": null,
            "grid_template_columns": null,
            "grid_template_rows": null,
            "height": null,
            "justify_content": null,
            "justify_items": null,
            "left": null,
            "margin": null,
            "max_height": null,
            "max_width": null,
            "min_height": null,
            "min_width": null,
            "object_fit": null,
            "object_position": null,
            "order": null,
            "overflow": null,
            "overflow_x": null,
            "overflow_y": null,
            "padding": null,
            "right": null,
            "top": null,
            "visibility": null,
            "width": null
          }
        },
        "c3b7399c2b1f40e889b8be944db50633": {
          "model_module": "@jupyter-widgets/controls",
          "model_name": "ProgressStyleModel",
          "model_module_version": "1.5.0",
          "state": {
            "_model_module": "@jupyter-widgets/controls",
            "_model_module_version": "1.5.0",
            "_model_name": "ProgressStyleModel",
            "_view_count": null,
            "_view_module": "@jupyter-widgets/base",
            "_view_module_version": "1.2.0",
            "_view_name": "StyleView",
            "bar_color": null,
            "description_width": ""
          }
        },
        "342f465f5b82430fad16e1fb3e5875ef": {
          "model_module": "@jupyter-widgets/base",
          "model_name": "LayoutModel",
          "model_module_version": "1.2.0",
          "state": {
            "_model_module": "@jupyter-widgets/base",
            "_model_module_version": "1.2.0",
            "_model_name": "LayoutModel",
            "_view_count": null,
            "_view_module": "@jupyter-widgets/base",
            "_view_module_version": "1.2.0",
            "_view_name": "LayoutView",
            "align_content": null,
            "align_items": null,
            "align_self": null,
            "border": null,
            "bottom": null,
            "display": null,
            "flex": null,
            "flex_flow": null,
            "grid_area": null,
            "grid_auto_columns": null,
            "grid_auto_flow": null,
            "grid_auto_rows": null,
            "grid_column": null,
            "grid_gap": null,
            "grid_row": null,
            "grid_template_areas": null,
            "grid_template_columns": null,
            "grid_template_rows": null,
            "height": null,
            "justify_content": null,
            "justify_items": null,
            "left": null,
            "margin": null,
            "max_height": null,
            "max_width": null,
            "min_height": null,
            "min_width": null,
            "object_fit": null,
            "object_position": null,
            "order": null,
            "overflow": null,
            "overflow_x": null,
            "overflow_y": null,
            "padding": null,
            "right": null,
            "top": null,
            "visibility": null,
            "width": null
          }
        },
        "01ab45d574444e80a6a6a6d7e513df02": {
          "model_module": "@jupyter-widgets/controls",
          "model_name": "DescriptionStyleModel",
          "model_module_version": "1.5.0",
          "state": {
            "_model_module": "@jupyter-widgets/controls",
            "_model_module_version": "1.5.0",
            "_model_name": "DescriptionStyleModel",
            "_view_count": null,
            "_view_module": "@jupyter-widgets/base",
            "_view_module_version": "1.2.0",
            "_view_name": "StyleView",
            "description_width": ""
          }
        },
        "606464a6ae0743d3821397058b906590": {
          "model_module": "@jupyter-widgets/controls",
          "model_name": "HBoxModel",
          "model_module_version": "1.5.0",
          "state": {
            "_dom_classes": [],
            "_model_module": "@jupyter-widgets/controls",
            "_model_module_version": "1.5.0",
            "_model_name": "HBoxModel",
            "_view_count": null,
            "_view_module": "@jupyter-widgets/controls",
            "_view_module_version": "1.5.0",
            "_view_name": "HBoxView",
            "box_style": "",
            "children": [
              "IPY_MODEL_ba7bac1d9fe8468ebdb15b12615bae5e",
              "IPY_MODEL_739482c4392d4fb48963095b98248828",
              "IPY_MODEL_6ebc400961a340a2a13ee4ff40f827a7"
            ],
            "layout": "IPY_MODEL_2890588fd9f944778a503a715503db91"
          }
        },
        "ba7bac1d9fe8468ebdb15b12615bae5e": {
          "model_module": "@jupyter-widgets/controls",
          "model_name": "HTMLModel",
          "model_module_version": "1.5.0",
          "state": {
            "_dom_classes": [],
            "_model_module": "@jupyter-widgets/controls",
            "_model_module_version": "1.5.0",
            "_model_name": "HTMLModel",
            "_view_count": null,
            "_view_module": "@jupyter-widgets/controls",
            "_view_module_version": "1.5.0",
            "_view_name": "HTMLView",
            "description": "",
            "description_tooltip": null,
            "layout": "IPY_MODEL_7b14e15ad6f04b929865497a7173a44f",
            "placeholder": "​",
            "style": "IPY_MODEL_754f78922c5a4792b6052d8d53cb8cb9",
            "value": "Downloading: 100%"
          }
        },
        "739482c4392d4fb48963095b98248828": {
          "model_module": "@jupyter-widgets/controls",
          "model_name": "FloatProgressModel",
          "model_module_version": "1.5.0",
          "state": {
            "_dom_classes": [],
            "_model_module": "@jupyter-widgets/controls",
            "_model_module_version": "1.5.0",
            "_model_name": "FloatProgressModel",
            "_view_count": null,
            "_view_module": "@jupyter-widgets/controls",
            "_view_module_version": "1.5.0",
            "_view_name": "ProgressView",
            "bar_style": "success",
            "description": "",
            "description_tooltip": null,
            "layout": "IPY_MODEL_f6eb12782232497dafb3b119028b3fdf",
            "max": 242085627,
            "min": 0,
            "orientation": "horizontal",
            "style": "IPY_MODEL_b8a1eb05360843aab92151fdace8d8aa",
            "value": 242085627
          }
        },
        "6ebc400961a340a2a13ee4ff40f827a7": {
          "model_module": "@jupyter-widgets/controls",
          "model_name": "HTMLModel",
          "model_module_version": "1.5.0",
          "state": {
            "_dom_classes": [],
            "_model_module": "@jupyter-widgets/controls",
            "_model_module_version": "1.5.0",
            "_model_name": "HTMLModel",
            "_view_count": null,
            "_view_module": "@jupyter-widgets/controls",
            "_view_module_version": "1.5.0",
            "_view_name": "HTMLView",
            "description": "",
            "description_tooltip": null,
            "layout": "IPY_MODEL_6eb6f353aa664875a840450cc21f6343",
            "placeholder": "​",
            "style": "IPY_MODEL_8d352e083efe4aeea51031cca25e949b",
            "value": " 242M/242M [00:14&lt;00:00, 30.8MB/s]"
          }
        },
        "2890588fd9f944778a503a715503db91": {
          "model_module": "@jupyter-widgets/base",
          "model_name": "LayoutModel",
          "model_module_version": "1.2.0",
          "state": {
            "_model_module": "@jupyter-widgets/base",
            "_model_module_version": "1.2.0",
            "_model_name": "LayoutModel",
            "_view_count": null,
            "_view_module": "@jupyter-widgets/base",
            "_view_module_version": "1.2.0",
            "_view_name": "LayoutView",
            "align_content": null,
            "align_items": null,
            "align_self": null,
            "border": null,
            "bottom": null,
            "display": null,
            "flex": null,
            "flex_flow": null,
            "grid_area": null,
            "grid_auto_columns": null,
            "grid_auto_flow": null,
            "grid_auto_rows": null,
            "grid_column": null,
            "grid_gap": null,
            "grid_row": null,
            "grid_template_areas": null,
            "grid_template_columns": null,
            "grid_template_rows": null,
            "height": null,
            "justify_content": null,
            "justify_items": null,
            "left": null,
            "margin": null,
            "max_height": null,
            "max_width": null,
            "min_height": null,
            "min_width": null,
            "object_fit": null,
            "object_position": null,
            "order": null,
            "overflow": null,
            "overflow_x": null,
            "overflow_y": null,
            "padding": null,
            "right": null,
            "top": null,
            "visibility": null,
            "width": null
          }
        },
        "7b14e15ad6f04b929865497a7173a44f": {
          "model_module": "@jupyter-widgets/base",
          "model_name": "LayoutModel",
          "model_module_version": "1.2.0",
          "state": {
            "_model_module": "@jupyter-widgets/base",
            "_model_module_version": "1.2.0",
            "_model_name": "LayoutModel",
            "_view_count": null,
            "_view_module": "@jupyter-widgets/base",
            "_view_module_version": "1.2.0",
            "_view_name": "LayoutView",
            "align_content": null,
            "align_items": null,
            "align_self": null,
            "border": null,
            "bottom": null,
            "display": null,
            "flex": null,
            "flex_flow": null,
            "grid_area": null,
            "grid_auto_columns": null,
            "grid_auto_flow": null,
            "grid_auto_rows": null,
            "grid_column": null,
            "grid_gap": null,
            "grid_row": null,
            "grid_template_areas": null,
            "grid_template_columns": null,
            "grid_template_rows": null,
            "height": null,
            "justify_content": null,
            "justify_items": null,
            "left": null,
            "margin": null,
            "max_height": null,
            "max_width": null,
            "min_height": null,
            "min_width": null,
            "object_fit": null,
            "object_position": null,
            "order": null,
            "overflow": null,
            "overflow_x": null,
            "overflow_y": null,
            "padding": null,
            "right": null,
            "top": null,
            "visibility": null,
            "width": null
          }
        },
        "754f78922c5a4792b6052d8d53cb8cb9": {
          "model_module": "@jupyter-widgets/controls",
          "model_name": "DescriptionStyleModel",
          "model_module_version": "1.5.0",
          "state": {
            "_model_module": "@jupyter-widgets/controls",
            "_model_module_version": "1.5.0",
            "_model_name": "DescriptionStyleModel",
            "_view_count": null,
            "_view_module": "@jupyter-widgets/base",
            "_view_module_version": "1.2.0",
            "_view_name": "StyleView",
            "description_width": ""
          }
        },
        "f6eb12782232497dafb3b119028b3fdf": {
          "model_module": "@jupyter-widgets/base",
          "model_name": "LayoutModel",
          "model_module_version": "1.2.0",
          "state": {
            "_model_module": "@jupyter-widgets/base",
            "_model_module_version": "1.2.0",
            "_model_name": "LayoutModel",
            "_view_count": null,
            "_view_module": "@jupyter-widgets/base",
            "_view_module_version": "1.2.0",
            "_view_name": "LayoutView",
            "align_content": null,
            "align_items": null,
            "align_self": null,
            "border": null,
            "bottom": null,
            "display": null,
            "flex": null,
            "flex_flow": null,
            "grid_area": null,
            "grid_auto_columns": null,
            "grid_auto_flow": null,
            "grid_auto_rows": null,
            "grid_column": null,
            "grid_gap": null,
            "grid_row": null,
            "grid_template_areas": null,
            "grid_template_columns": null,
            "grid_template_rows": null,
            "height": null,
            "justify_content": null,
            "justify_items": null,
            "left": null,
            "margin": null,
            "max_height": null,
            "max_width": null,
            "min_height": null,
            "min_width": null,
            "object_fit": null,
            "object_position": null,
            "order": null,
            "overflow": null,
            "overflow_x": null,
            "overflow_y": null,
            "padding": null,
            "right": null,
            "top": null,
            "visibility": null,
            "width": null
          }
        },
        "b8a1eb05360843aab92151fdace8d8aa": {
          "model_module": "@jupyter-widgets/controls",
          "model_name": "ProgressStyleModel",
          "model_module_version": "1.5.0",
          "state": {
            "_model_module": "@jupyter-widgets/controls",
            "_model_module_version": "1.5.0",
            "_model_name": "ProgressStyleModel",
            "_view_count": null,
            "_view_module": "@jupyter-widgets/base",
            "_view_module_version": "1.2.0",
            "_view_name": "StyleView",
            "bar_color": null,
            "description_width": ""
          }
        },
        "6eb6f353aa664875a840450cc21f6343": {
          "model_module": "@jupyter-widgets/base",
          "model_name": "LayoutModel",
          "model_module_version": "1.2.0",
          "state": {
            "_model_module": "@jupyter-widgets/base",
            "_model_module_version": "1.2.0",
            "_model_name": "LayoutModel",
            "_view_count": null,
            "_view_module": "@jupyter-widgets/base",
            "_view_module_version": "1.2.0",
            "_view_name": "LayoutView",
            "align_content": null,
            "align_items": null,
            "align_self": null,
            "border": null,
            "bottom": null,
            "display": null,
            "flex": null,
            "flex_flow": null,
            "grid_area": null,
            "grid_auto_columns": null,
            "grid_auto_flow": null,
            "grid_auto_rows": null,
            "grid_column": null,
            "grid_gap": null,
            "grid_row": null,
            "grid_template_areas": null,
            "grid_template_columns": null,
            "grid_template_rows": null,
            "height": null,
            "justify_content": null,
            "justify_items": null,
            "left": null,
            "margin": null,
            "max_height": null,
            "max_width": null,
            "min_height": null,
            "min_width": null,
            "object_fit": null,
            "object_position": null,
            "order": null,
            "overflow": null,
            "overflow_x": null,
            "overflow_y": null,
            "padding": null,
            "right": null,
            "top": null,
            "visibility": null,
            "width": null
          }
        },
        "8d352e083efe4aeea51031cca25e949b": {
          "model_module": "@jupyter-widgets/controls",
          "model_name": "DescriptionStyleModel",
          "model_module_version": "1.5.0",
          "state": {
            "_model_module": "@jupyter-widgets/controls",
            "_model_module_version": "1.5.0",
            "_model_name": "DescriptionStyleModel",
            "_view_count": null,
            "_view_module": "@jupyter-widgets/base",
            "_view_module_version": "1.2.0",
            "_view_name": "StyleView",
            "description_width": ""
          }
        },
        "50c5e2440f454ab98457fd93e3d424ff": {
          "model_module": "@jupyter-widgets/controls",
          "model_name": "HBoxModel",
          "model_module_version": "1.5.0",
          "state": {
            "_dom_classes": [],
            "_model_module": "@jupyter-widgets/controls",
            "_model_module_version": "1.5.0",
            "_model_name": "HBoxModel",
            "_view_count": null,
            "_view_module": "@jupyter-widgets/controls",
            "_view_module_version": "1.5.0",
            "_view_name": "HBoxView",
            "box_style": "",
            "children": [
              "IPY_MODEL_adca51f933aa4953acef1591d90b1d10",
              "IPY_MODEL_68ae304a906642c99c28a3ecb2e080a3",
              "IPY_MODEL_763fe47630214520ad448f04403bfb5e"
            ],
            "layout": "IPY_MODEL_f8ebb328dbb6417e9391321466150789"
          }
        },
        "adca51f933aa4953acef1591d90b1d10": {
          "model_module": "@jupyter-widgets/controls",
          "model_name": "HTMLModel",
          "model_module_version": "1.5.0",
          "state": {
            "_dom_classes": [],
            "_model_module": "@jupyter-widgets/controls",
            "_model_module_version": "1.5.0",
            "_model_name": "HTMLModel",
            "_view_count": null,
            "_view_module": "@jupyter-widgets/controls",
            "_view_module_version": "1.5.0",
            "_view_name": "HTMLView",
            "description": "",
            "description_tooltip": null,
            "layout": "IPY_MODEL_1515abb463844be183386a5363ca38c7",
            "placeholder": "​",
            "style": "IPY_MODEL_e27a9234944a4192b8e38a3f46545fab",
            "value": "Downloading: 100%"
          }
        },
        "68ae304a906642c99c28a3ecb2e080a3": {
          "model_module": "@jupyter-widgets/controls",
          "model_name": "FloatProgressModel",
          "model_module_version": "1.5.0",
          "state": {
            "_dom_classes": [],
            "_model_module": "@jupyter-widgets/controls",
            "_model_module_version": "1.5.0",
            "_model_name": "FloatProgressModel",
            "_view_count": null,
            "_view_module": "@jupyter-widgets/controls",
            "_view_module_version": "1.5.0",
            "_view_name": "ProgressView",
            "bar_style": "success",
            "description": "",
            "description_tooltip": null,
            "layout": "IPY_MODEL_4d42b160e8f44b179bef41c1704e8cfb",
            "max": 791656,
            "min": 0,
            "orientation": "horizontal",
            "style": "IPY_MODEL_80747a2e8aa04b048d74cb4db11cb0e6",
            "value": 791656
          }
        },
        "763fe47630214520ad448f04403bfb5e": {
          "model_module": "@jupyter-widgets/controls",
          "model_name": "HTMLModel",
          "model_module_version": "1.5.0",
          "state": {
            "_dom_classes": [],
            "_model_module": "@jupyter-widgets/controls",
            "_model_module_version": "1.5.0",
            "_model_name": "HTMLModel",
            "_view_count": null,
            "_view_module": "@jupyter-widgets/controls",
            "_view_module_version": "1.5.0",
            "_view_name": "HTMLView",
            "description": "",
            "description_tooltip": null,
            "layout": "IPY_MODEL_936b15bb9b2a4f1886222f182c62d8df",
            "placeholder": "​",
            "style": "IPY_MODEL_ca80ec77193641b79c357dd82c3c77eb",
            "value": " 792k/792k [00:00&lt;00:00, 8.26MB/s]"
          }
        },
        "f8ebb328dbb6417e9391321466150789": {
          "model_module": "@jupyter-widgets/base",
          "model_name": "LayoutModel",
          "model_module_version": "1.2.0",
          "state": {
            "_model_module": "@jupyter-widgets/base",
            "_model_module_version": "1.2.0",
            "_model_name": "LayoutModel",
            "_view_count": null,
            "_view_module": "@jupyter-widgets/base",
            "_view_module_version": "1.2.0",
            "_view_name": "LayoutView",
            "align_content": null,
            "align_items": null,
            "align_self": null,
            "border": null,
            "bottom": null,
            "display": null,
            "flex": null,
            "flex_flow": null,
            "grid_area": null,
            "grid_auto_columns": null,
            "grid_auto_flow": null,
            "grid_auto_rows": null,
            "grid_column": null,
            "grid_gap": null,
            "grid_row": null,
            "grid_template_areas": null,
            "grid_template_columns": null,
            "grid_template_rows": null,
            "height": null,
            "justify_content": null,
            "justify_items": null,
            "left": null,
            "margin": null,
            "max_height": null,
            "max_width": null,
            "min_height": null,
            "min_width": null,
            "object_fit": null,
            "object_position": null,
            "order": null,
            "overflow": null,
            "overflow_x": null,
            "overflow_y": null,
            "padding": null,
            "right": null,
            "top": null,
            "visibility": null,
            "width": null
          }
        },
        "1515abb463844be183386a5363ca38c7": {
          "model_module": "@jupyter-widgets/base",
          "model_name": "LayoutModel",
          "model_module_version": "1.2.0",
          "state": {
            "_model_module": "@jupyter-widgets/base",
            "_model_module_version": "1.2.0",
            "_model_name": "LayoutModel",
            "_view_count": null,
            "_view_module": "@jupyter-widgets/base",
            "_view_module_version": "1.2.0",
            "_view_name": "LayoutView",
            "align_content": null,
            "align_items": null,
            "align_self": null,
            "border": null,
            "bottom": null,
            "display": null,
            "flex": null,
            "flex_flow": null,
            "grid_area": null,
            "grid_auto_columns": null,
            "grid_auto_flow": null,
            "grid_auto_rows": null,
            "grid_column": null,
            "grid_gap": null,
            "grid_row": null,
            "grid_template_areas": null,
            "grid_template_columns": null,
            "grid_template_rows": null,
            "height": null,
            "justify_content": null,
            "justify_items": null,
            "left": null,
            "margin": null,
            "max_height": null,
            "max_width": null,
            "min_height": null,
            "min_width": null,
            "object_fit": null,
            "object_position": null,
            "order": null,
            "overflow": null,
            "overflow_x": null,
            "overflow_y": null,
            "padding": null,
            "right": null,
            "top": null,
            "visibility": null,
            "width": null
          }
        },
        "e27a9234944a4192b8e38a3f46545fab": {
          "model_module": "@jupyter-widgets/controls",
          "model_name": "DescriptionStyleModel",
          "model_module_version": "1.5.0",
          "state": {
            "_model_module": "@jupyter-widgets/controls",
            "_model_module_version": "1.5.0",
            "_model_name": "DescriptionStyleModel",
            "_view_count": null,
            "_view_module": "@jupyter-widgets/base",
            "_view_module_version": "1.2.0",
            "_view_name": "StyleView",
            "description_width": ""
          }
        },
        "4d42b160e8f44b179bef41c1704e8cfb": {
          "model_module": "@jupyter-widgets/base",
          "model_name": "LayoutModel",
          "model_module_version": "1.2.0",
          "state": {
            "_model_module": "@jupyter-widgets/base",
            "_model_module_version": "1.2.0",
            "_model_name": "LayoutModel",
            "_view_count": null,
            "_view_module": "@jupyter-widgets/base",
            "_view_module_version": "1.2.0",
            "_view_name": "LayoutView",
            "align_content": null,
            "align_items": null,
            "align_self": null,
            "border": null,
            "bottom": null,
            "display": null,
            "flex": null,
            "flex_flow": null,
            "grid_area": null,
            "grid_auto_columns": null,
            "grid_auto_flow": null,
            "grid_auto_rows": null,
            "grid_column": null,
            "grid_gap": null,
            "grid_row": null,
            "grid_template_areas": null,
            "grid_template_columns": null,
            "grid_template_rows": null,
            "height": null,
            "justify_content": null,
            "justify_items": null,
            "left": null,
            "margin": null,
            "max_height": null,
            "max_width": null,
            "min_height": null,
            "min_width": null,
            "object_fit": null,
            "object_position": null,
            "order": null,
            "overflow": null,
            "overflow_x": null,
            "overflow_y": null,
            "padding": null,
            "right": null,
            "top": null,
            "visibility": null,
            "width": null
          }
        },
        "80747a2e8aa04b048d74cb4db11cb0e6": {
          "model_module": "@jupyter-widgets/controls",
          "model_name": "ProgressStyleModel",
          "model_module_version": "1.5.0",
          "state": {
            "_model_module": "@jupyter-widgets/controls",
            "_model_module_version": "1.5.0",
            "_model_name": "ProgressStyleModel",
            "_view_count": null,
            "_view_module": "@jupyter-widgets/base",
            "_view_module_version": "1.2.0",
            "_view_name": "StyleView",
            "bar_color": null,
            "description_width": ""
          }
        },
        "936b15bb9b2a4f1886222f182c62d8df": {
          "model_module": "@jupyter-widgets/base",
          "model_name": "LayoutModel",
          "model_module_version": "1.2.0",
          "state": {
            "_model_module": "@jupyter-widgets/base",
            "_model_module_version": "1.2.0",
            "_model_name": "LayoutModel",
            "_view_count": null,
            "_view_module": "@jupyter-widgets/base",
            "_view_module_version": "1.2.0",
            "_view_name": "LayoutView",
            "align_content": null,
            "align_items": null,
            "align_self": null,
            "border": null,
            "bottom": null,
            "display": null,
            "flex": null,
            "flex_flow": null,
            "grid_area": null,
            "grid_auto_columns": null,
            "grid_auto_flow": null,
            "grid_auto_rows": null,
            "grid_column": null,
            "grid_gap": null,
            "grid_row": null,
            "grid_template_areas": null,
            "grid_template_columns": null,
            "grid_template_rows": null,
            "height": null,
            "justify_content": null,
            "justify_items": null,
            "left": null,
            "margin": null,
            "max_height": null,
            "max_width": null,
            "min_height": null,
            "min_width": null,
            "object_fit": null,
            "object_position": null,
            "order": null,
            "overflow": null,
            "overflow_x": null,
            "overflow_y": null,
            "padding": null,
            "right": null,
            "top": null,
            "visibility": null,
            "width": null
          }
        },
        "ca80ec77193641b79c357dd82c3c77eb": {
          "model_module": "@jupyter-widgets/controls",
          "model_name": "DescriptionStyleModel",
          "model_module_version": "1.5.0",
          "state": {
            "_model_module": "@jupyter-widgets/controls",
            "_model_module_version": "1.5.0",
            "_model_name": "DescriptionStyleModel",
            "_view_count": null,
            "_view_module": "@jupyter-widgets/base",
            "_view_module_version": "1.2.0",
            "_view_name": "StyleView",
            "description_width": ""
          }
        },
        "e7b2c0fed3114aa6ba7d398011eb4efb": {
          "model_module": "@jupyter-widgets/controls",
          "model_name": "HBoxModel",
          "model_module_version": "1.5.0",
          "state": {
            "_dom_classes": [],
            "_model_module": "@jupyter-widgets/controls",
            "_model_module_version": "1.5.0",
            "_model_name": "HBoxModel",
            "_view_count": null,
            "_view_module": "@jupyter-widgets/controls",
            "_view_module_version": "1.5.0",
            "_view_name": "HBoxView",
            "box_style": "",
            "children": [
              "IPY_MODEL_9ab5de3d06b34dbea2dbffc2e16aab0f",
              "IPY_MODEL_3310450f32124c58bcd84430f0812846",
              "IPY_MODEL_5e83eb935f1b4849ab98212c4eebf541"
            ],
            "layout": "IPY_MODEL_fd25229f178544c8901b5f93398b3929"
          }
        },
        "9ab5de3d06b34dbea2dbffc2e16aab0f": {
          "model_module": "@jupyter-widgets/controls",
          "model_name": "HTMLModel",
          "model_module_version": "1.5.0",
          "state": {
            "_dom_classes": [],
            "_model_module": "@jupyter-widgets/controls",
            "_model_module_version": "1.5.0",
            "_model_name": "HTMLModel",
            "_view_count": null,
            "_view_module": "@jupyter-widgets/controls",
            "_view_module_version": "1.5.0",
            "_view_name": "HTMLView",
            "description": "",
            "description_tooltip": null,
            "layout": "IPY_MODEL_72ab2f36f59547ecb1b2b1d5332a50e1",
            "placeholder": "​",
            "style": "IPY_MODEL_56fc56fcf88e4fa4b400a5f5ef3ce12f",
            "value": "Downloading: 100%"
          }
        },
        "3310450f32124c58bcd84430f0812846": {
          "model_module": "@jupyter-widgets/controls",
          "model_name": "FloatProgressModel",
          "model_module_version": "1.5.0",
          "state": {
            "_dom_classes": [],
            "_model_module": "@jupyter-widgets/controls",
            "_model_module_version": "1.5.0",
            "_model_name": "FloatProgressModel",
            "_view_count": null,
            "_view_module": "@jupyter-widgets/controls",
            "_view_module_version": "1.5.0",
            "_view_name": "ProgressView",
            "bar_style": "success",
            "description": "",
            "description_tooltip": null,
            "layout": "IPY_MODEL_ad07bb3eae6142c4975cafcbc4850b3d",
            "max": 1786,
            "min": 0,
            "orientation": "horizontal",
            "style": "IPY_MODEL_6d142205d23e44bb92708a26ca409e5c",
            "value": 1786
          }
        },
        "5e83eb935f1b4849ab98212c4eebf541": {
          "model_module": "@jupyter-widgets/controls",
          "model_name": "HTMLModel",
          "model_module_version": "1.5.0",
          "state": {
            "_dom_classes": [],
            "_model_module": "@jupyter-widgets/controls",
            "_model_module_version": "1.5.0",
            "_model_name": "HTMLModel",
            "_view_count": null,
            "_view_module": "@jupyter-widgets/controls",
            "_view_module_version": "1.5.0",
            "_view_name": "HTMLView",
            "description": "",
            "description_tooltip": null,
            "layout": "IPY_MODEL_b4a29e3c29d0408d85df23dd5a640ce9",
            "placeholder": "​",
            "style": "IPY_MODEL_0a22ed2ece604aff85351a4fe57b8cbb",
            "value": " 1.79k/1.79k [00:00&lt;00:00, 71.4kB/s]"
          }
        },
        "fd25229f178544c8901b5f93398b3929": {
          "model_module": "@jupyter-widgets/base",
          "model_name": "LayoutModel",
          "model_module_version": "1.2.0",
          "state": {
            "_model_module": "@jupyter-widgets/base",
            "_model_module_version": "1.2.0",
            "_model_name": "LayoutModel",
            "_view_count": null,
            "_view_module": "@jupyter-widgets/base",
            "_view_module_version": "1.2.0",
            "_view_name": "LayoutView",
            "align_content": null,
            "align_items": null,
            "align_self": null,
            "border": null,
            "bottom": null,
            "display": null,
            "flex": null,
            "flex_flow": null,
            "grid_area": null,
            "grid_auto_columns": null,
            "grid_auto_flow": null,
            "grid_auto_rows": null,
            "grid_column": null,
            "grid_gap": null,
            "grid_row": null,
            "grid_template_areas": null,
            "grid_template_columns": null,
            "grid_template_rows": null,
            "height": null,
            "justify_content": null,
            "justify_items": null,
            "left": null,
            "margin": null,
            "max_height": null,
            "max_width": null,
            "min_height": null,
            "min_width": null,
            "object_fit": null,
            "object_position": null,
            "order": null,
            "overflow": null,
            "overflow_x": null,
            "overflow_y": null,
            "padding": null,
            "right": null,
            "top": null,
            "visibility": null,
            "width": null
          }
        },
        "72ab2f36f59547ecb1b2b1d5332a50e1": {
          "model_module": "@jupyter-widgets/base",
          "model_name": "LayoutModel",
          "model_module_version": "1.2.0",
          "state": {
            "_model_module": "@jupyter-widgets/base",
            "_model_module_version": "1.2.0",
            "_model_name": "LayoutModel",
            "_view_count": null,
            "_view_module": "@jupyter-widgets/base",
            "_view_module_version": "1.2.0",
            "_view_name": "LayoutView",
            "align_content": null,
            "align_items": null,
            "align_self": null,
            "border": null,
            "bottom": null,
            "display": null,
            "flex": null,
            "flex_flow": null,
            "grid_area": null,
            "grid_auto_columns": null,
            "grid_auto_flow": null,
            "grid_auto_rows": null,
            "grid_column": null,
            "grid_gap": null,
            "grid_row": null,
            "grid_template_areas": null,
            "grid_template_columns": null,
            "grid_template_rows": null,
            "height": null,
            "justify_content": null,
            "justify_items": null,
            "left": null,
            "margin": null,
            "max_height": null,
            "max_width": null,
            "min_height": null,
            "min_width": null,
            "object_fit": null,
            "object_position": null,
            "order": null,
            "overflow": null,
            "overflow_x": null,
            "overflow_y": null,
            "padding": null,
            "right": null,
            "top": null,
            "visibility": null,
            "width": null
          }
        },
        "56fc56fcf88e4fa4b400a5f5ef3ce12f": {
          "model_module": "@jupyter-widgets/controls",
          "model_name": "DescriptionStyleModel",
          "model_module_version": "1.5.0",
          "state": {
            "_model_module": "@jupyter-widgets/controls",
            "_model_module_version": "1.5.0",
            "_model_name": "DescriptionStyleModel",
            "_view_count": null,
            "_view_module": "@jupyter-widgets/base",
            "_view_module_version": "1.2.0",
            "_view_name": "StyleView",
            "description_width": ""
          }
        },
        "ad07bb3eae6142c4975cafcbc4850b3d": {
          "model_module": "@jupyter-widgets/base",
          "model_name": "LayoutModel",
          "model_module_version": "1.2.0",
          "state": {
            "_model_module": "@jupyter-widgets/base",
            "_model_module_version": "1.2.0",
            "_model_name": "LayoutModel",
            "_view_count": null,
            "_view_module": "@jupyter-widgets/base",
            "_view_module_version": "1.2.0",
            "_view_name": "LayoutView",
            "align_content": null,
            "align_items": null,
            "align_self": null,
            "border": null,
            "bottom": null,
            "display": null,
            "flex": null,
            "flex_flow": null,
            "grid_area": null,
            "grid_auto_columns": null,
            "grid_auto_flow": null,
            "grid_auto_rows": null,
            "grid_column": null,
            "grid_gap": null,
            "grid_row": null,
            "grid_template_areas": null,
            "grid_template_columns": null,
            "grid_template_rows": null,
            "height": null,
            "justify_content": null,
            "justify_items": null,
            "left": null,
            "margin": null,
            "max_height": null,
            "max_width": null,
            "min_height": null,
            "min_width": null,
            "object_fit": null,
            "object_position": null,
            "order": null,
            "overflow": null,
            "overflow_x": null,
            "overflow_y": null,
            "padding": null,
            "right": null,
            "top": null,
            "visibility": null,
            "width": null
          }
        },
        "6d142205d23e44bb92708a26ca409e5c": {
          "model_module": "@jupyter-widgets/controls",
          "model_name": "ProgressStyleModel",
          "model_module_version": "1.5.0",
          "state": {
            "_model_module": "@jupyter-widgets/controls",
            "_model_module_version": "1.5.0",
            "_model_name": "ProgressStyleModel",
            "_view_count": null,
            "_view_module": "@jupyter-widgets/base",
            "_view_module_version": "1.2.0",
            "_view_name": "StyleView",
            "bar_color": null,
            "description_width": ""
          }
        },
        "b4a29e3c29d0408d85df23dd5a640ce9": {
          "model_module": "@jupyter-widgets/base",
          "model_name": "LayoutModel",
          "model_module_version": "1.2.0",
          "state": {
            "_model_module": "@jupyter-widgets/base",
            "_model_module_version": "1.2.0",
            "_model_name": "LayoutModel",
            "_view_count": null,
            "_view_module": "@jupyter-widgets/base",
            "_view_module_version": "1.2.0",
            "_view_name": "LayoutView",
            "align_content": null,
            "align_items": null,
            "align_self": null,
            "border": null,
            "bottom": null,
            "display": null,
            "flex": null,
            "flex_flow": null,
            "grid_area": null,
            "grid_auto_columns": null,
            "grid_auto_flow": null,
            "grid_auto_rows": null,
            "grid_column": null,
            "grid_gap": null,
            "grid_row": null,
            "grid_template_areas": null,
            "grid_template_columns": null,
            "grid_template_rows": null,
            "height": null,
            "justify_content": null,
            "justify_items": null,
            "left": null,
            "margin": null,
            "max_height": null,
            "max_width": null,
            "min_height": null,
            "min_width": null,
            "object_fit": null,
            "object_position": null,
            "order": null,
            "overflow": null,
            "overflow_x": null,
            "overflow_y": null,
            "padding": null,
            "right": null,
            "top": null,
            "visibility": null,
            "width": null
          }
        },
        "0a22ed2ece604aff85351a4fe57b8cbb": {
          "model_module": "@jupyter-widgets/controls",
          "model_name": "DescriptionStyleModel",
          "model_module_version": "1.5.0",
          "state": {
            "_model_module": "@jupyter-widgets/controls",
            "_model_module_version": "1.5.0",
            "_model_name": "DescriptionStyleModel",
            "_view_count": null,
            "_view_module": "@jupyter-widgets/base",
            "_view_module_version": "1.2.0",
            "_view_name": "StyleView",
            "description_width": ""
          }
        },
        "d590b1edcca3472887abfd97fffeda4a": {
          "model_module": "@jupyter-widgets/controls",
          "model_name": "HBoxModel",
          "model_module_version": "1.5.0",
          "state": {
            "_dom_classes": [],
            "_model_module": "@jupyter-widgets/controls",
            "_model_module_version": "1.5.0",
            "_model_name": "HBoxModel",
            "_view_count": null,
            "_view_module": "@jupyter-widgets/controls",
            "_view_module_version": "1.5.0",
            "_view_name": "HBoxView",
            "box_style": "",
            "children": [
              "IPY_MODEL_eaf266a8bc7d4b4297c16c20c73fc683",
              "IPY_MODEL_44339603f1b1484dbf21fab49a820a5c",
              "IPY_MODEL_9370498c41964f77a1f832f4500b898f"
            ],
            "layout": "IPY_MODEL_5def020b5c39465b9b04df6ded332466"
          }
        },
        "eaf266a8bc7d4b4297c16c20c73fc683": {
          "model_module": "@jupyter-widgets/controls",
          "model_name": "HTMLModel",
          "model_module_version": "1.5.0",
          "state": {
            "_dom_classes": [],
            "_model_module": "@jupyter-widgets/controls",
            "_model_module_version": "1.5.0",
            "_model_name": "HTMLModel",
            "_view_count": null,
            "_view_module": "@jupyter-widgets/controls",
            "_view_module_version": "1.5.0",
            "_view_name": "HTMLView",
            "description": "",
            "description_tooltip": null,
            "layout": "IPY_MODEL_4b9f62a857af44f6b63ca97778081684",
            "placeholder": "​",
            "style": "IPY_MODEL_5e4c51d461e34de19b754ed456d32f2e",
            "value": "Downloading: 100%"
          }
        },
        "44339603f1b1484dbf21fab49a820a5c": {
          "model_module": "@jupyter-widgets/controls",
          "model_name": "FloatProgressModel",
          "model_module_version": "1.5.0",
          "state": {
            "_dom_classes": [],
            "_model_module": "@jupyter-widgets/controls",
            "_model_module_version": "1.5.0",
            "_model_name": "FloatProgressModel",
            "_view_count": null,
            "_view_module": "@jupyter-widgets/controls",
            "_view_module_version": "1.5.0",
            "_view_name": "ProgressView",
            "bar_style": "success",
            "description": "",
            "description_tooltip": null,
            "layout": "IPY_MODEL_d70254d9f31c476a894807ad76fa73b5",
            "max": 1965,
            "min": 0,
            "orientation": "horizontal",
            "style": "IPY_MODEL_673a27c5fd4f4e2aa7bdf03f212bae16",
            "value": 1965
          }
        },
        "9370498c41964f77a1f832f4500b898f": {
          "model_module": "@jupyter-widgets/controls",
          "model_name": "HTMLModel",
          "model_module_version": "1.5.0",
          "state": {
            "_dom_classes": [],
            "_model_module": "@jupyter-widgets/controls",
            "_model_module_version": "1.5.0",
            "_model_name": "HTMLModel",
            "_view_count": null,
            "_view_module": "@jupyter-widgets/controls",
            "_view_module_version": "1.5.0",
            "_view_name": "HTMLView",
            "description": "",
            "description_tooltip": null,
            "layout": "IPY_MODEL_a8c5d6ae82ac44b8b2fb75541bd657c1",
            "placeholder": "​",
            "style": "IPY_MODEL_8510d18d2d474c9581d435ce4ce9ff05",
            "value": " 1.97k/1.97k [00:00&lt;00:00, 48.3kB/s]"
          }
        },
        "5def020b5c39465b9b04df6ded332466": {
          "model_module": "@jupyter-widgets/base",
          "model_name": "LayoutModel",
          "model_module_version": "1.2.0",
          "state": {
            "_model_module": "@jupyter-widgets/base",
            "_model_module_version": "1.2.0",
            "_model_name": "LayoutModel",
            "_view_count": null,
            "_view_module": "@jupyter-widgets/base",
            "_view_module_version": "1.2.0",
            "_view_name": "LayoutView",
            "align_content": null,
            "align_items": null,
            "align_self": null,
            "border": null,
            "bottom": null,
            "display": null,
            "flex": null,
            "flex_flow": null,
            "grid_area": null,
            "grid_auto_columns": null,
            "grid_auto_flow": null,
            "grid_auto_rows": null,
            "grid_column": null,
            "grid_gap": null,
            "grid_row": null,
            "grid_template_areas": null,
            "grid_template_columns": null,
            "grid_template_rows": null,
            "height": null,
            "justify_content": null,
            "justify_items": null,
            "left": null,
            "margin": null,
            "max_height": null,
            "max_width": null,
            "min_height": null,
            "min_width": null,
            "object_fit": null,
            "object_position": null,
            "order": null,
            "overflow": null,
            "overflow_x": null,
            "overflow_y": null,
            "padding": null,
            "right": null,
            "top": null,
            "visibility": null,
            "width": null
          }
        },
        "4b9f62a857af44f6b63ca97778081684": {
          "model_module": "@jupyter-widgets/base",
          "model_name": "LayoutModel",
          "model_module_version": "1.2.0",
          "state": {
            "_model_module": "@jupyter-widgets/base",
            "_model_module_version": "1.2.0",
            "_model_name": "LayoutModel",
            "_view_count": null,
            "_view_module": "@jupyter-widgets/base",
            "_view_module_version": "1.2.0",
            "_view_name": "LayoutView",
            "align_content": null,
            "align_items": null,
            "align_self": null,
            "border": null,
            "bottom": null,
            "display": null,
            "flex": null,
            "flex_flow": null,
            "grid_area": null,
            "grid_auto_columns": null,
            "grid_auto_flow": null,
            "grid_auto_rows": null,
            "grid_column": null,
            "grid_gap": null,
            "grid_row": null,
            "grid_template_areas": null,
            "grid_template_columns": null,
            "grid_template_rows": null,
            "height": null,
            "justify_content": null,
            "justify_items": null,
            "left": null,
            "margin": null,
            "max_height": null,
            "max_width": null,
            "min_height": null,
            "min_width": null,
            "object_fit": null,
            "object_position": null,
            "order": null,
            "overflow": null,
            "overflow_x": null,
            "overflow_y": null,
            "padding": null,
            "right": null,
            "top": null,
            "visibility": null,
            "width": null
          }
        },
        "5e4c51d461e34de19b754ed456d32f2e": {
          "model_module": "@jupyter-widgets/controls",
          "model_name": "DescriptionStyleModel",
          "model_module_version": "1.5.0",
          "state": {
            "_model_module": "@jupyter-widgets/controls",
            "_model_module_version": "1.5.0",
            "_model_name": "DescriptionStyleModel",
            "_view_count": null,
            "_view_module": "@jupyter-widgets/base",
            "_view_module_version": "1.2.0",
            "_view_name": "StyleView",
            "description_width": ""
          }
        },
        "d70254d9f31c476a894807ad76fa73b5": {
          "model_module": "@jupyter-widgets/base",
          "model_name": "LayoutModel",
          "model_module_version": "1.2.0",
          "state": {
            "_model_module": "@jupyter-widgets/base",
            "_model_module_version": "1.2.0",
            "_model_name": "LayoutModel",
            "_view_count": null,
            "_view_module": "@jupyter-widgets/base",
            "_view_module_version": "1.2.0",
            "_view_name": "LayoutView",
            "align_content": null,
            "align_items": null,
            "align_self": null,
            "border": null,
            "bottom": null,
            "display": null,
            "flex": null,
            "flex_flow": null,
            "grid_area": null,
            "grid_auto_columns": null,
            "grid_auto_flow": null,
            "grid_auto_rows": null,
            "grid_column": null,
            "grid_gap": null,
            "grid_row": null,
            "grid_template_areas": null,
            "grid_template_columns": null,
            "grid_template_rows": null,
            "height": null,
            "justify_content": null,
            "justify_items": null,
            "left": null,
            "margin": null,
            "max_height": null,
            "max_width": null,
            "min_height": null,
            "min_width": null,
            "object_fit": null,
            "object_position": null,
            "order": null,
            "overflow": null,
            "overflow_x": null,
            "overflow_y": null,
            "padding": null,
            "right": null,
            "top": null,
            "visibility": null,
            "width": null
          }
        },
        "673a27c5fd4f4e2aa7bdf03f212bae16": {
          "model_module": "@jupyter-widgets/controls",
          "model_name": "ProgressStyleModel",
          "model_module_version": "1.5.0",
          "state": {
            "_model_module": "@jupyter-widgets/controls",
            "_model_module_version": "1.5.0",
            "_model_name": "ProgressStyleModel",
            "_view_count": null,
            "_view_module": "@jupyter-widgets/base",
            "_view_module_version": "1.2.0",
            "_view_name": "StyleView",
            "bar_color": null,
            "description_width": ""
          }
        },
        "a8c5d6ae82ac44b8b2fb75541bd657c1": {
          "model_module": "@jupyter-widgets/base",
          "model_name": "LayoutModel",
          "model_module_version": "1.2.0",
          "state": {
            "_model_module": "@jupyter-widgets/base",
            "_model_module_version": "1.2.0",
            "_model_name": "LayoutModel",
            "_view_count": null,
            "_view_module": "@jupyter-widgets/base",
            "_view_module_version": "1.2.0",
            "_view_name": "LayoutView",
            "align_content": null,
            "align_items": null,
            "align_self": null,
            "border": null,
            "bottom": null,
            "display": null,
            "flex": null,
            "flex_flow": null,
            "grid_area": null,
            "grid_auto_columns": null,
            "grid_auto_flow": null,
            "grid_auto_rows": null,
            "grid_column": null,
            "grid_gap": null,
            "grid_row": null,
            "grid_template_areas": null,
            "grid_template_columns": null,
            "grid_template_rows": null,
            "height": null,
            "justify_content": null,
            "justify_items": null,
            "left": null,
            "margin": null,
            "max_height": null,
            "max_width": null,
            "min_height": null,
            "min_width": null,
            "object_fit": null,
            "object_position": null,
            "order": null,
            "overflow": null,
            "overflow_x": null,
            "overflow_y": null,
            "padding": null,
            "right": null,
            "top": null,
            "visibility": null,
            "width": null
          }
        },
        "8510d18d2d474c9581d435ce4ce9ff05": {
          "model_module": "@jupyter-widgets/controls",
          "model_name": "DescriptionStyleModel",
          "model_module_version": "1.5.0",
          "state": {
            "_model_module": "@jupyter-widgets/controls",
            "_model_module_version": "1.5.0",
            "_model_name": "DescriptionStyleModel",
            "_view_count": null,
            "_view_module": "@jupyter-widgets/base",
            "_view_module_version": "1.2.0",
            "_view_name": "StyleView",
            "description_width": ""
          }
        }
      }
    }
  },
  "cells": [
    {
      "cell_type": "markdown",
      "metadata": {
        "id": "IH0_E2xk22U9"
      },
      "source": [
        "#Project work NLP\n",
        "Authors:\n",
        "* Nicola Carrassi, ID: 0001037813 nicola.carrassi@studio.unibo.it\n",
        "* Gabriele Colasuonno, ID: 0001037489 gabriele.colasuonno@studio.unibo.it\n",
        "* Antonio Guerra, ID: 0001037365 antonio.guerra7@studio.unibo.it"
      ]
    },
    {
      "cell_type": "markdown",
      "source": [
        "## Libraries import and installation"
      ],
      "metadata": {
        "id": "o4BF6l96KOmo"
      }
    },
    {
      "cell_type": "code",
      "source": [
        "%%capture\n",
        "!pip install contractions\n",
        "!pip install textgenie\n",
        "!pip install nltk\n",
        "!pip install spacy\n",
        "!pip install transformers\n",
        "!pip install datasets\n",
        "!pip install evaluate\n",
        "!pip install xgboost \n",
        "!pip install scikit-multilearn"
      ],
      "metadata": {
        "id": "_ztZ-aIxKN9B"
      },
      "execution_count": null,
      "outputs": []
    },
    {
      "cell_type": "code",
      "source": [
        "import os\n",
        "import re\n",
        "import sys\n",
        "import random\n",
        "import string\n",
        "import contractions\n",
        "import numpy as np\n",
        "import pandas as pd\n",
        "import matplotlib.pyplot as plt\n",
        "import urllib.request\n",
        "\n",
        "from tqdm import tqdm\n",
        "from typing import List, Callable\n",
        "\n",
        "from google.colab import drive\n",
        "from google.colab import files\n",
        "from collections import Counter\n",
        "from itertools import chain\n",
        "\n",
        "#data augmentation\n",
        "import nltk\n",
        "from nltk.corpus import stopwords\n",
        "from nltk.stem import PorterStemmer\n",
        "import spacy #utility for lemmatization\n",
        "\n",
        "nltk.download('stopwords')\n",
        "nltk.download('omw-1.4')\n",
        "from textgenie import TextGenie\n",
        "\n",
        "import sklearn.metrics\n",
        "from sklearn.utils import shuffle\n",
        "from sklearn.pipeline import Pipeline\n",
        "from sklearn.metrics import precision_score, recall_score, f1_score, roc_auc_score, classification_report\n",
        "from sklearn.model_selection import train_test_split\n",
        "from sklearn.preprocessing import MultiLabelBinarizer\n",
        "from sklearn.feature_extraction.text import TfidfVectorizer\n",
        "\n",
        "from xgboost import XGBRFClassifier\n",
        "from skmultilearn.problem_transform import LabelPowerset\n",
        "\n",
        "import torch\n",
        "from transformers import AutoModelForSequenceClassification, AutoTokenizer, EvalPrediction, Trainer, TrainingArguments\n",
        "from transformers.modeling_outputs import SequenceClassifierOutput\n",
        "import datasets\n",
        "from datasets import Features, Value, Sequence"
      ],
      "metadata": {
        "colab": {
          "base_uri": "https://localhost:8080/"
        },
        "id": "atmmfZ__KWcb",
        "outputId": "105caa82-7e6c-4cbe-9b31-1816a68750c3"
      },
      "execution_count": null,
      "outputs": [
        {
          "output_type": "stream",
          "name": "stderr",
          "text": [
            "[nltk_data] Downloading package stopwords to /root/nltk_data...\n",
            "[nltk_data]   Unzipping corpora/stopwords.zip.\n",
            "[nltk_data] Downloading package omw-1.4 to /root/nltk_data...\n"
          ]
        }
      ]
    },
    {
      "cell_type": "code",
      "source": [
        "sys.path.append('content/')\n",
        "\n",
        "PROJECT_WORK_LOCAL_PATH = '/content/gdrive/MyDrive/unibo/NLP/projectWork'\n",
        "drive.mount('/content/gdrive', force_remount=True)\n",
        "device = torch.device(\"cuda\" if torch.cuda.is_available() else \"cpu\")"
      ],
      "metadata": {
        "colab": {
          "base_uri": "https://localhost:8080/"
        },
        "id": "rakoZyWPMGuD",
        "outputId": "3d91744f-9db3-49cb-e7ee-624afe02b50c"
      },
      "execution_count": null,
      "outputs": [
        {
          "output_type": "stream",
          "name": "stdout",
          "text": [
            "Mounted at /content/gdrive\n"
          ]
        }
      ]
    },
    {
      "cell_type": "markdown",
      "metadata": {
        "id": "USOvUivPptEV"
      },
      "source": [
        "## Reproducibility\n",
        "Reproducibility is essential for correct evaluation. So, we are setting 42 as the random seed for all sources of randomness."
      ]
    },
    {
      "cell_type": "code",
      "execution_count": null,
      "metadata": {
        "id": "EHgWyJYVpNCy"
      },
      "outputs": [],
      "source": [
        "RANDOM_SEED = 42\n",
        "\n",
        "def set_reproducibility(seed: int):\n",
        "    \"\"\"\n",
        "    Set the same random seed to different sources of randomness\n",
        "\n",
        "    :param seed: random seed\n",
        "    \"\"\"\n",
        "    random.seed(seed)\n",
        "    np.random.seed(seed)\n",
        "    torch.manual_seed(seed)\n",
        "    os.environ['TF_DETERMINISTIC_OPS'] = '1'\n",
        "\n",
        "set_reproducibility(RANDOM_SEED)"
      ]
    },
    {
      "cell_type": "markdown",
      "metadata": {
        "id": "x8NbdLe74GhG"
      },
      "source": [
        "##Data preparation"
      ]
    },
    {
      "cell_type": "markdown",
      "source": [
        "In this section there are all the operations which go from the downloading of the dataset to the final save of the datasets which will be used for training, validation and test."
      ],
      "metadata": {
        "id": "u-gFJjjv-pzk"
      }
    },
    {
      "cell_type": "markdown",
      "metadata": {
        "id": "zo7T4SMn4MaL"
      },
      "source": [
        "###Dataset download"
      ]
    },
    {
      "cell_type": "code",
      "execution_count": null,
      "metadata": {
        "id": "I82x31aG332K"
      },
      "outputs": [],
      "source": [
        "class DownloadProgressBar(tqdm):\n",
        "    def update_to(self, b=1, bsize=1, tsize=None):\n",
        "        if tsize is not None:\n",
        "            self.total = tsize\n",
        "        self.update(b * bsize - self.n)\n",
        "        \n",
        "def download_url(url, output_path):\n",
        "    with DownloadProgressBar(unit='B', unit_scale=True,\n",
        "                             miniters=1, desc=url.split('/')[-1]) as t:\n",
        "        urllib.request.urlretrieve(url, filename=output_path, reporthook=t.update_to)\n",
        "\n",
        "def download_data(data_path, url_path, suffix):    \n",
        "    if not os.path.exists(data_path):\n",
        "        os.makedirs(data_path)\n",
        "        \n",
        "    data_path = os.path.join(data_path, f'{suffix}.tsv')\n",
        "\n",
        "    if not os.path.exists(data_path):\n",
        "        print(f\"Downloading {suffix} data split... (it may take a while)\")\n",
        "        download_url(url=url_path, output_path=data_path)\n",
        "        print(\"Download completed!\")"
      ]
    },
    {
      "cell_type": "markdown",
      "metadata": {
        "id": "w-okSOTI4Uv9"
      },
      "source": [
        "Since the test set provided by the authors of the challenge hasn't got the gold standard labels, we will use the validation set as our test set and split the original training set in training and validation set as follows:\n",
        "\n",
        "\n",
        "1.   80% of the original training set will be the new training set\n",
        "2.   The remaining 20% will be used as validation set"
      ]
    },
    {
      "cell_type": "code",
      "execution_count": null,
      "metadata": {
        "colab": {
          "base_uri": "https://localhost:8080/",
          "height": 298
        },
        "id": "IuUhraq54l6k",
        "outputId": "30365e02-995a-4d8f-f8bd-5ea8d59cfaed"
      },
      "outputs": [
        {
          "output_type": "stream",
          "name": "stdout",
          "text": [
            "Downloading train_arguments data split... (it may take a while)\n"
          ]
        },
        {
          "output_type": "stream",
          "name": "stderr",
          "text": [
            "arguments-training.tsv?download=1: 1.02MB [00:04, 243kB/s]                           \n"
          ]
        },
        {
          "output_type": "stream",
          "name": "stdout",
          "text": [
            "Download completed!\n",
            "Downloading train_labels data split... (it may take a while)\n"
          ]
        },
        {
          "output_type": "stream",
          "name": "stderr",
          "text": [
            "labels-training.tsv?download=1: 254kB [00:02, 116kB/s]                           \n"
          ]
        },
        {
          "output_type": "stream",
          "name": "stdout",
          "text": [
            "Download completed!\n",
            "Downloading test_arguments data split... (it may take a while)\n"
          ]
        },
        {
          "output_type": "stream",
          "name": "stderr",
          "text": [
            "arguments-validation.tsv?download=1: 369kB [00:02, 150kB/s]                           \n"
          ]
        },
        {
          "output_type": "stream",
          "name": "stdout",
          "text": [
            "Download completed!\n",
            "Downloading test_labels data split... (it may take a while)\n"
          ]
        },
        {
          "output_type": "stream",
          "name": "stderr",
          "text": [
            "labels-validation.tsv?download=1: 90.1kB [00:01, 55.8kB/s]                            "
          ]
        },
        {
          "output_type": "stream",
          "name": "stdout",
          "text": [
            "Download completed!\n"
          ]
        },
        {
          "output_type": "stream",
          "name": "stderr",
          "text": [
            "\n"
          ]
        },
        {
          "output_type": "execute_result",
          "data": {
            "text/plain": [
              "'\\n# Test data\\ntest_arguments_url = \"https://zenodo.org/record/7402070/files/arguments-test.tsv?download=1\"\\ndownload_data(data_path=DATASET_FOLDER, url_path=test_arguments_url, suffix=\\'test_arguments\\')\\n'"
            ],
            "application/vnd.google.colaboratory.intrinsic+json": {
              "type": "string"
            }
          },
          "metadata": {},
          "execution_count": 6
        }
      ],
      "source": [
        "DATASET_FOLDER = 'touche23'\n",
        "\n",
        "# Train data\n",
        "train_arguments_url = \"https://zenodo.org/record/7402070/files/arguments-training.tsv?download=1\"\n",
        "train_labels_url = \"https://zenodo.org/record/7402070/files/labels-training.tsv?download=1\"\n",
        "download_data(data_path=DATASET_FOLDER, url_path=train_arguments_url, suffix='train_arguments')\n",
        "download_data(data_path=DATASET_FOLDER, url_path=train_labels_url, suffix='train_labels')\n",
        "\n",
        "# test data\n",
        "test_arguments_url = \"https://zenodo.org/record/7402070/files/arguments-validation.tsv?download=1\"\n",
        "test_labels_url = \"https://zenodo.org/record/7402070/files/labels-validation.tsv?download=1\"\n",
        "download_data(data_path=DATASET_FOLDER, url_path=test_arguments_url, suffix='test_arguments')\n",
        "download_data(data_path=DATASET_FOLDER, url_path=test_labels_url, suffix='test_labels')\n",
        "\n",
        "\n",
        "'''\n",
        "# Test data\n",
        "test_arguments_url = \"https://zenodo.org/record/7402070/files/arguments-test.tsv?download=1\"\n",
        "download_data(data_path=DATASET_FOLDER, url_path=test_arguments_url, suffix='test_arguments')\n",
        "'''"
      ]
    },
    {
      "cell_type": "markdown",
      "metadata": {
        "id": "GacaKiBn4sTW"
      },
      "source": [
        "###Dataset encoding\n",
        "Encode the dataset using Pandas dataframes"
      ]
    },
    {
      "cell_type": "code",
      "execution_count": null,
      "metadata": {
        "id": "AI23Gzkv41ZG"
      },
      "outputs": [],
      "source": [
        "def encode_dataset(path_arguments : str, path_labels : str) -> pd.DataFrame:\n",
        "  \"\"\"\n",
        "  The function allows to encode a dataset, reading it from a given url and \n",
        "  encoding it with its gold standard label if available\n",
        "\n",
        "  :param path_arguments: path of the table in which are stored the features\n",
        "  :param path_labels:  path of the table in which are stored the labels of the data,\n",
        "    if the labels are not available it can be set to None\n",
        "\n",
        "  :return arguments_df: encoded DataFrame\n",
        "  \"\"\"  \n",
        "  arguments_df = pd.read_table(path_arguments)\n",
        "\n",
        "  if path_labels != None:\n",
        "    labels_df = pd.read_table(path_labels)\n",
        "    assert len(arguments_df) == len(labels_df)\n",
        "    labels = []\n",
        "    for i in range(len(arguments_df)):\n",
        "      labels.append(labels_df.iloc[i].to_numpy()[1:])\n",
        "\n",
        "    arguments_df['labels'] = labels\n",
        "  \n",
        "  else:\n",
        "    arguments_df['labels'] = np.nan\n",
        "   \n",
        "  return arguments_df"
      ]
    },
    {
      "cell_type": "code",
      "execution_count": null,
      "metadata": {
        "colab": {
          "base_uri": "https://localhost:8080/"
        },
        "id": "9ipC3oBv9joh",
        "outputId": "02bfe6fa-b37d-48f3-8034-db521ca533bd"
      },
      "outputs": [
        {
          "output_type": "stream",
          "name": "stdout",
          "text": [
            "Dataset splits statistics: \n",
            "Train data shape: (4314, 5)\n",
            "Validation data shape: (1079, 5)\n",
            "Test data shape: (1896, 5)\n"
          ]
        }
      ],
      "source": [
        "df_train = encode_dataset(DATASET_FOLDER + '/train_arguments.tsv', DATASET_FOLDER+'/train_labels.tsv')\n",
        "df_train, df_val = train_test_split(df_train, test_size=0.2)\n",
        "df_test = encode_dataset(DATASET_FOLDER + '/test_arguments.tsv', DATASET_FOLDER+'/test_labels.tsv')\n",
        "\n",
        "print('Dataset splits statistics: ')\n",
        "print(f'Train data shape: {df_train.shape}')\n",
        "print(f'Validation data shape: {df_val.shape}')\n",
        "print(f'Test data shape: {df_test.shape}')"
      ]
    },
    {
      "cell_type": "markdown",
      "metadata": {
        "id": "4ehS04pxD88T"
      },
      "source": [
        "Some example from training set"
      ]
    },
    {
      "cell_type": "code",
      "execution_count": null,
      "metadata": {
        "colab": {
          "base_uri": "https://localhost:8080/",
          "height": 441
        },
        "id": "2D09k8qWEBkP",
        "outputId": "7583371e-e8c1-4a2a-e6e6-b0f6bc3ebb49"
      },
      "outputs": [
        {
          "output_type": "execute_result",
          "data": {
            "text/plain": [
              "     Argument ID                                         Conclusion  \\\n",
              "2312      A22488                      We should subsidize Wikipedia   \n",
              "4145      A29229                     We should ban cosmetic surgery   \n",
              "2807      A24243              We should introduce compulsory voting   \n",
              "621       A12490  We should abolish the right to keep and bear arms   \n",
              "566       A12398        We should end the use of economic sanctions   \n",
              "\n",
              "           Stance                                            Premise  \\\n",
              "2312  in favor of  wikipedia provides an endless amount of inform...   \n",
              "4145  in favor of  banning cosmetic surgery and obligatory becaus...   \n",
              "2807      against  we should not introduce compulsory voting beca...   \n",
              "621   in favor of  the right to keep and bear arms should be abol...   \n",
              "566       against  economic sanctions do help western countries t...   \n",
              "\n",
              "                                                 labels  \n",
              "2312  [1, 0, 0, 0, 1, 0, 0, 0, 0, 0, 0, 0, 0, 0, 1, ...  \n",
              "4145  [0, 0, 0, 0, 0, 0, 1, 0, 1, 0, 0, 1, 0, 1, 0, ...  \n",
              "2807  [0, 0, 0, 0, 1, 0, 0, 0, 0, 0, 0, 1, 0, 0, 0, ...  \n",
              "621   [0, 0, 0, 0, 0, 0, 0, 0, 1, 1, 0, 1, 0, 0, 0, ...  \n",
              "566   [0, 0, 0, 0, 0, 1, 0, 0, 0, 1, 0, 0, 0, 0, 1, ...  "
            ],
            "text/html": [
              "\n",
              "  <div id=\"df-3c4e8f8e-2aef-4f9e-b8a4-0ed7193ed3cb\">\n",
              "    <div class=\"colab-df-container\">\n",
              "      <div>\n",
              "<style scoped>\n",
              "    .dataframe tbody tr th:only-of-type {\n",
              "        vertical-align: middle;\n",
              "    }\n",
              "\n",
              "    .dataframe tbody tr th {\n",
              "        vertical-align: top;\n",
              "    }\n",
              "\n",
              "    .dataframe thead th {\n",
              "        text-align: right;\n",
              "    }\n",
              "</style>\n",
              "<table border=\"1\" class=\"dataframe\">\n",
              "  <thead>\n",
              "    <tr style=\"text-align: right;\">\n",
              "      <th></th>\n",
              "      <th>Argument ID</th>\n",
              "      <th>Conclusion</th>\n",
              "      <th>Stance</th>\n",
              "      <th>Premise</th>\n",
              "      <th>labels</th>\n",
              "    </tr>\n",
              "  </thead>\n",
              "  <tbody>\n",
              "    <tr>\n",
              "      <th>2312</th>\n",
              "      <td>A22488</td>\n",
              "      <td>We should subsidize Wikipedia</td>\n",
              "      <td>in favor of</td>\n",
              "      <td>wikipedia provides an endless amount of inform...</td>\n",
              "      <td>[1, 0, 0, 0, 1, 0, 0, 0, 0, 0, 0, 0, 0, 0, 1, ...</td>\n",
              "    </tr>\n",
              "    <tr>\n",
              "      <th>4145</th>\n",
              "      <td>A29229</td>\n",
              "      <td>We should ban cosmetic surgery</td>\n",
              "      <td>in favor of</td>\n",
              "      <td>banning cosmetic surgery and obligatory becaus...</td>\n",
              "      <td>[0, 0, 0, 0, 0, 0, 1, 0, 1, 0, 0, 1, 0, 1, 0, ...</td>\n",
              "    </tr>\n",
              "    <tr>\n",
              "      <th>2807</th>\n",
              "      <td>A24243</td>\n",
              "      <td>We should introduce compulsory voting</td>\n",
              "      <td>against</td>\n",
              "      <td>we should not introduce compulsory voting beca...</td>\n",
              "      <td>[0, 0, 0, 0, 1, 0, 0, 0, 0, 0, 0, 1, 0, 0, 0, ...</td>\n",
              "    </tr>\n",
              "    <tr>\n",
              "      <th>621</th>\n",
              "      <td>A12490</td>\n",
              "      <td>We should abolish the right to keep and bear arms</td>\n",
              "      <td>in favor of</td>\n",
              "      <td>the right to keep and bear arms should be abol...</td>\n",
              "      <td>[0, 0, 0, 0, 0, 0, 0, 0, 1, 1, 0, 1, 0, 0, 0, ...</td>\n",
              "    </tr>\n",
              "    <tr>\n",
              "      <th>566</th>\n",
              "      <td>A12398</td>\n",
              "      <td>We should end the use of economic sanctions</td>\n",
              "      <td>against</td>\n",
              "      <td>economic sanctions do help western countries t...</td>\n",
              "      <td>[0, 0, 0, 0, 0, 1, 0, 0, 0, 1, 0, 0, 0, 0, 1, ...</td>\n",
              "    </tr>\n",
              "  </tbody>\n",
              "</table>\n",
              "</div>\n",
              "      <button class=\"colab-df-convert\" onclick=\"convertToInteractive('df-3c4e8f8e-2aef-4f9e-b8a4-0ed7193ed3cb')\"\n",
              "              title=\"Convert this dataframe to an interactive table.\"\n",
              "              style=\"display:none;\">\n",
              "        \n",
              "  <svg xmlns=\"http://www.w3.org/2000/svg\" height=\"24px\"viewBox=\"0 0 24 24\"\n",
              "       width=\"24px\">\n",
              "    <path d=\"M0 0h24v24H0V0z\" fill=\"none\"/>\n",
              "    <path d=\"M18.56 5.44l.94 2.06.94-2.06 2.06-.94-2.06-.94-.94-2.06-.94 2.06-2.06.94zm-11 1L8.5 8.5l.94-2.06 2.06-.94-2.06-.94L8.5 2.5l-.94 2.06-2.06.94zm10 10l.94 2.06.94-2.06 2.06-.94-2.06-.94-.94-2.06-.94 2.06-2.06.94z\"/><path d=\"M17.41 7.96l-1.37-1.37c-.4-.4-.92-.59-1.43-.59-.52 0-1.04.2-1.43.59L10.3 9.45l-7.72 7.72c-.78.78-.78 2.05 0 2.83L4 21.41c.39.39.9.59 1.41.59.51 0 1.02-.2 1.41-.59l7.78-7.78 2.81-2.81c.8-.78.8-2.07 0-2.86zM5.41 20L4 18.59l7.72-7.72 1.47 1.35L5.41 20z\"/>\n",
              "  </svg>\n",
              "      </button>\n",
              "      \n",
              "  <style>\n",
              "    .colab-df-container {\n",
              "      display:flex;\n",
              "      flex-wrap:wrap;\n",
              "      gap: 12px;\n",
              "    }\n",
              "\n",
              "    .colab-df-convert {\n",
              "      background-color: #E8F0FE;\n",
              "      border: none;\n",
              "      border-radius: 50%;\n",
              "      cursor: pointer;\n",
              "      display: none;\n",
              "      fill: #1967D2;\n",
              "      height: 32px;\n",
              "      padding: 0 0 0 0;\n",
              "      width: 32px;\n",
              "    }\n",
              "\n",
              "    .colab-df-convert:hover {\n",
              "      background-color: #E2EBFA;\n",
              "      box-shadow: 0px 1px 2px rgba(60, 64, 67, 0.3), 0px 1px 3px 1px rgba(60, 64, 67, 0.15);\n",
              "      fill: #174EA6;\n",
              "    }\n",
              "\n",
              "    [theme=dark] .colab-df-convert {\n",
              "      background-color: #3B4455;\n",
              "      fill: #D2E3FC;\n",
              "    }\n",
              "\n",
              "    [theme=dark] .colab-df-convert:hover {\n",
              "      background-color: #434B5C;\n",
              "      box-shadow: 0px 1px 3px 1px rgba(0, 0, 0, 0.15);\n",
              "      filter: drop-shadow(0px 1px 2px rgba(0, 0, 0, 0.3));\n",
              "      fill: #FFFFFF;\n",
              "    }\n",
              "  </style>\n",
              "\n",
              "      <script>\n",
              "        const buttonEl =\n",
              "          document.querySelector('#df-3c4e8f8e-2aef-4f9e-b8a4-0ed7193ed3cb button.colab-df-convert');\n",
              "        buttonEl.style.display =\n",
              "          google.colab.kernel.accessAllowed ? 'block' : 'none';\n",
              "\n",
              "        async function convertToInteractive(key) {\n",
              "          const element = document.querySelector('#df-3c4e8f8e-2aef-4f9e-b8a4-0ed7193ed3cb');\n",
              "          const dataTable =\n",
              "            await google.colab.kernel.invokeFunction('convertToInteractive',\n",
              "                                                     [key], {});\n",
              "          if (!dataTable) return;\n",
              "\n",
              "          const docLinkHtml = 'Like what you see? Visit the ' +\n",
              "            '<a target=\"_blank\" href=https://colab.research.google.com/notebooks/data_table.ipynb>data table notebook</a>'\n",
              "            + ' to learn more about interactive tables.';\n",
              "          element.innerHTML = '';\n",
              "          dataTable['output_type'] = 'display_data';\n",
              "          await google.colab.output.renderOutput(dataTable, element);\n",
              "          const docLink = document.createElement('div');\n",
              "          docLink.innerHTML = docLinkHtml;\n",
              "          element.appendChild(docLink);\n",
              "        }\n",
              "      </script>\n",
              "    </div>\n",
              "  </div>\n",
              "  "
            ]
          },
          "metadata": {},
          "execution_count": 9
        }
      ],
      "source": [
        "df_train.head()"
      ]
    },
    {
      "cell_type": "markdown",
      "metadata": {
        "id": "NGo4YzG5EEdQ"
      },
      "source": [
        "Some example from validation set"
      ]
    },
    {
      "cell_type": "code",
      "execution_count": null,
      "metadata": {
        "colab": {
          "base_uri": "https://localhost:8080/",
          "height": 441
        },
        "id": "dg_zaeHHEHyD",
        "outputId": "87a85e88-3fc7-4e4a-eac6-b13f4ad14cef"
      },
      "outputs": [
        {
          "output_type": "execute_result",
          "data": {
            "text/plain": [
              "     Argument ID                                         Conclusion  \\\n",
              "2780      A24197  We should adopt a zero-tolerance policy in sch...   \n",
              "1047      A19059               We should adopt a multi-party system   \n",
              "3614      A27387                             We should abolish zoos   \n",
              "4476      A30259     We should abolish intellectual property rights   \n",
              "4320      A30032                  We should subsidize student loans   \n",
              "\n",
              "           Stance                                            Premise  \\\n",
              "2780  in favor of  the security of child and teachers is esential...   \n",
              "1047  in favor of  multi-party systems provide many new sources o...   \n",
              "3614  in favor of  zoos often exhibit poor standards of animal we...   \n",
              "4476      against  for multiple reasons the right of intellectual...   \n",
              "4320      against  student loans should not be subsidized just be...   \n",
              "\n",
              "                                                 labels  \n",
              "2780  [0, 0, 0, 0, 0, 0, 0, 0, 1, 1, 0, 1, 0, 0, 0, ...  \n",
              "1047  [1, 0, 0, 0, 0, 0, 0, 0, 0, 0, 0, 0, 0, 0, 1, ...  \n",
              "3614  [0, 0, 0, 0, 0, 0, 0, 0, 0, 0, 0, 1, 0, 0, 0, ...  \n",
              "4476  [0, 1, 1, 0, 1, 0, 0, 1, 0, 0, 0, 0, 0, 0, 0, ...  \n",
              "4320  [0, 1, 0, 0, 0, 0, 0, 0, 0, 0, 0, 1, 0, 0, 0, ...  "
            ],
            "text/html": [
              "\n",
              "  <div id=\"df-d73c3650-d4f3-47bb-8d7d-beeb6c1daeb8\">\n",
              "    <div class=\"colab-df-container\">\n",
              "      <div>\n",
              "<style scoped>\n",
              "    .dataframe tbody tr th:only-of-type {\n",
              "        vertical-align: middle;\n",
              "    }\n",
              "\n",
              "    .dataframe tbody tr th {\n",
              "        vertical-align: top;\n",
              "    }\n",
              "\n",
              "    .dataframe thead th {\n",
              "        text-align: right;\n",
              "    }\n",
              "</style>\n",
              "<table border=\"1\" class=\"dataframe\">\n",
              "  <thead>\n",
              "    <tr style=\"text-align: right;\">\n",
              "      <th></th>\n",
              "      <th>Argument ID</th>\n",
              "      <th>Conclusion</th>\n",
              "      <th>Stance</th>\n",
              "      <th>Premise</th>\n",
              "      <th>labels</th>\n",
              "    </tr>\n",
              "  </thead>\n",
              "  <tbody>\n",
              "    <tr>\n",
              "      <th>2780</th>\n",
              "      <td>A24197</td>\n",
              "      <td>We should adopt a zero-tolerance policy in sch...</td>\n",
              "      <td>in favor of</td>\n",
              "      <td>the security of child and teachers is esential...</td>\n",
              "      <td>[0, 0, 0, 0, 0, 0, 0, 0, 1, 1, 0, 1, 0, 0, 0, ...</td>\n",
              "    </tr>\n",
              "    <tr>\n",
              "      <th>1047</th>\n",
              "      <td>A19059</td>\n",
              "      <td>We should adopt a multi-party system</td>\n",
              "      <td>in favor of</td>\n",
              "      <td>multi-party systems provide many new sources o...</td>\n",
              "      <td>[1, 0, 0, 0, 0, 0, 0, 0, 0, 0, 0, 0, 0, 0, 1, ...</td>\n",
              "    </tr>\n",
              "    <tr>\n",
              "      <th>3614</th>\n",
              "      <td>A27387</td>\n",
              "      <td>We should abolish zoos</td>\n",
              "      <td>in favor of</td>\n",
              "      <td>zoos often exhibit poor standards of animal we...</td>\n",
              "      <td>[0, 0, 0, 0, 0, 0, 0, 0, 0, 0, 0, 1, 0, 0, 0, ...</td>\n",
              "    </tr>\n",
              "    <tr>\n",
              "      <th>4476</th>\n",
              "      <td>A30259</td>\n",
              "      <td>We should abolish intellectual property rights</td>\n",
              "      <td>against</td>\n",
              "      <td>for multiple reasons the right of intellectual...</td>\n",
              "      <td>[0, 1, 1, 0, 1, 0, 0, 1, 0, 0, 0, 0, 0, 0, 0, ...</td>\n",
              "    </tr>\n",
              "    <tr>\n",
              "      <th>4320</th>\n",
              "      <td>A30032</td>\n",
              "      <td>We should subsidize student loans</td>\n",
              "      <td>against</td>\n",
              "      <td>student loans should not be subsidized just be...</td>\n",
              "      <td>[0, 1, 0, 0, 0, 0, 0, 0, 0, 0, 0, 1, 0, 0, 0, ...</td>\n",
              "    </tr>\n",
              "  </tbody>\n",
              "</table>\n",
              "</div>\n",
              "      <button class=\"colab-df-convert\" onclick=\"convertToInteractive('df-d73c3650-d4f3-47bb-8d7d-beeb6c1daeb8')\"\n",
              "              title=\"Convert this dataframe to an interactive table.\"\n",
              "              style=\"display:none;\">\n",
              "        \n",
              "  <svg xmlns=\"http://www.w3.org/2000/svg\" height=\"24px\"viewBox=\"0 0 24 24\"\n",
              "       width=\"24px\">\n",
              "    <path d=\"M0 0h24v24H0V0z\" fill=\"none\"/>\n",
              "    <path d=\"M18.56 5.44l.94 2.06.94-2.06 2.06-.94-2.06-.94-.94-2.06-.94 2.06-2.06.94zm-11 1L8.5 8.5l.94-2.06 2.06-.94-2.06-.94L8.5 2.5l-.94 2.06-2.06.94zm10 10l.94 2.06.94-2.06 2.06-.94-2.06-.94-.94-2.06-.94 2.06-2.06.94z\"/><path d=\"M17.41 7.96l-1.37-1.37c-.4-.4-.92-.59-1.43-.59-.52 0-1.04.2-1.43.59L10.3 9.45l-7.72 7.72c-.78.78-.78 2.05 0 2.83L4 21.41c.39.39.9.59 1.41.59.51 0 1.02-.2 1.41-.59l7.78-7.78 2.81-2.81c.8-.78.8-2.07 0-2.86zM5.41 20L4 18.59l7.72-7.72 1.47 1.35L5.41 20z\"/>\n",
              "  </svg>\n",
              "      </button>\n",
              "      \n",
              "  <style>\n",
              "    .colab-df-container {\n",
              "      display:flex;\n",
              "      flex-wrap:wrap;\n",
              "      gap: 12px;\n",
              "    }\n",
              "\n",
              "    .colab-df-convert {\n",
              "      background-color: #E8F0FE;\n",
              "      border: none;\n",
              "      border-radius: 50%;\n",
              "      cursor: pointer;\n",
              "      display: none;\n",
              "      fill: #1967D2;\n",
              "      height: 32px;\n",
              "      padding: 0 0 0 0;\n",
              "      width: 32px;\n",
              "    }\n",
              "\n",
              "    .colab-df-convert:hover {\n",
              "      background-color: #E2EBFA;\n",
              "      box-shadow: 0px 1px 2px rgba(60, 64, 67, 0.3), 0px 1px 3px 1px rgba(60, 64, 67, 0.15);\n",
              "      fill: #174EA6;\n",
              "    }\n",
              "\n",
              "    [theme=dark] .colab-df-convert {\n",
              "      background-color: #3B4455;\n",
              "      fill: #D2E3FC;\n",
              "    }\n",
              "\n",
              "    [theme=dark] .colab-df-convert:hover {\n",
              "      background-color: #434B5C;\n",
              "      box-shadow: 0px 1px 3px 1px rgba(0, 0, 0, 0.15);\n",
              "      filter: drop-shadow(0px 1px 2px rgba(0, 0, 0, 0.3));\n",
              "      fill: #FFFFFF;\n",
              "    }\n",
              "  </style>\n",
              "\n",
              "      <script>\n",
              "        const buttonEl =\n",
              "          document.querySelector('#df-d73c3650-d4f3-47bb-8d7d-beeb6c1daeb8 button.colab-df-convert');\n",
              "        buttonEl.style.display =\n",
              "          google.colab.kernel.accessAllowed ? 'block' : 'none';\n",
              "\n",
              "        async function convertToInteractive(key) {\n",
              "          const element = document.querySelector('#df-d73c3650-d4f3-47bb-8d7d-beeb6c1daeb8');\n",
              "          const dataTable =\n",
              "            await google.colab.kernel.invokeFunction('convertToInteractive',\n",
              "                                                     [key], {});\n",
              "          if (!dataTable) return;\n",
              "\n",
              "          const docLinkHtml = 'Like what you see? Visit the ' +\n",
              "            '<a target=\"_blank\" href=https://colab.research.google.com/notebooks/data_table.ipynb>data table notebook</a>'\n",
              "            + ' to learn more about interactive tables.';\n",
              "          element.innerHTML = '';\n",
              "          dataTable['output_type'] = 'display_data';\n",
              "          await google.colab.output.renderOutput(dataTable, element);\n",
              "          const docLink = document.createElement('div');\n",
              "          docLink.innerHTML = docLinkHtml;\n",
              "          element.appendChild(docLink);\n",
              "        }\n",
              "      </script>\n",
              "    </div>\n",
              "  </div>\n",
              "  "
            ]
          },
          "metadata": {},
          "execution_count": 10
        }
      ],
      "source": [
        "df_val.head()"
      ]
    },
    {
      "cell_type": "markdown",
      "metadata": {
        "id": "8_EB8pjREKF8"
      },
      "source": [
        "Some example from test set"
      ]
    },
    {
      "cell_type": "code",
      "execution_count": null,
      "metadata": {
        "colab": {
          "base_uri": "https://localhost:8080/",
          "height": 441
        },
        "id": "wnGspoG0EQDb",
        "outputId": "da8c39e9-7710-4ba9-e8e4-389461d479d7"
      },
      "outputs": [
        {
          "output_type": "execute_result",
          "data": {
            "text/plain": [
              "  Argument ID                                       Conclusion       Stance  \\\n",
              "0      A01001                   Entrapment should be legalized  in favor of   \n",
              "1      A01012  The use of public defenders should be mandatory  in favor of   \n",
              "2      A02001                    Payday loans should be banned  in favor of   \n",
              "3      A02002                       Surrogacy should be banned      against   \n",
              "4      A02009                   Entrapment should be legalized      against   \n",
              "\n",
              "                                             Premise  \\\n",
              "0  if entrapment can serve to more easily capture...   \n",
              "1  the use of public defenders should be mandator...   \n",
              "2  payday loans create a more impoverished societ...   \n",
              "3  Surrogacy should not be banned as it is the wo...   \n",
              "4  entrapment is gravely immoral and against huma...   \n",
              "\n",
              "                                              labels  \n",
              "0  [0, 0, 0, 0, 0, 0, 0, 0, 0, 1, 0, 0, 0, 0, 0, ...  \n",
              "1  [0, 0, 0, 0, 0, 0, 0, 0, 0, 0, 0, 0, 0, 0, 0, ...  \n",
              "2  [0, 0, 0, 0, 0, 0, 0, 0, 1, 0, 0, 0, 0, 0, 0, ...  \n",
              "3  [0, 1, 0, 0, 0, 0, 0, 0, 0, 0, 0, 0, 0, 0, 0, ...  \n",
              "4  [0, 0, 0, 0, 0, 0, 0, 0, 0, 0, 0, 1, 0, 0, 0, ...  "
            ],
            "text/html": [
              "\n",
              "  <div id=\"df-7626c9b1-1689-4e74-9f4f-40cb7e677963\">\n",
              "    <div class=\"colab-df-container\">\n",
              "      <div>\n",
              "<style scoped>\n",
              "    .dataframe tbody tr th:only-of-type {\n",
              "        vertical-align: middle;\n",
              "    }\n",
              "\n",
              "    .dataframe tbody tr th {\n",
              "        vertical-align: top;\n",
              "    }\n",
              "\n",
              "    .dataframe thead th {\n",
              "        text-align: right;\n",
              "    }\n",
              "</style>\n",
              "<table border=\"1\" class=\"dataframe\">\n",
              "  <thead>\n",
              "    <tr style=\"text-align: right;\">\n",
              "      <th></th>\n",
              "      <th>Argument ID</th>\n",
              "      <th>Conclusion</th>\n",
              "      <th>Stance</th>\n",
              "      <th>Premise</th>\n",
              "      <th>labels</th>\n",
              "    </tr>\n",
              "  </thead>\n",
              "  <tbody>\n",
              "    <tr>\n",
              "      <th>0</th>\n",
              "      <td>A01001</td>\n",
              "      <td>Entrapment should be legalized</td>\n",
              "      <td>in favor of</td>\n",
              "      <td>if entrapment can serve to more easily capture...</td>\n",
              "      <td>[0, 0, 0, 0, 0, 0, 0, 0, 0, 1, 0, 0, 0, 0, 0, ...</td>\n",
              "    </tr>\n",
              "    <tr>\n",
              "      <th>1</th>\n",
              "      <td>A01012</td>\n",
              "      <td>The use of public defenders should be mandatory</td>\n",
              "      <td>in favor of</td>\n",
              "      <td>the use of public defenders should be mandator...</td>\n",
              "      <td>[0, 0, 0, 0, 0, 0, 0, 0, 0, 0, 0, 0, 0, 0, 0, ...</td>\n",
              "    </tr>\n",
              "    <tr>\n",
              "      <th>2</th>\n",
              "      <td>A02001</td>\n",
              "      <td>Payday loans should be banned</td>\n",
              "      <td>in favor of</td>\n",
              "      <td>payday loans create a more impoverished societ...</td>\n",
              "      <td>[0, 0, 0, 0, 0, 0, 0, 0, 1, 0, 0, 0, 0, 0, 0, ...</td>\n",
              "    </tr>\n",
              "    <tr>\n",
              "      <th>3</th>\n",
              "      <td>A02002</td>\n",
              "      <td>Surrogacy should be banned</td>\n",
              "      <td>against</td>\n",
              "      <td>Surrogacy should not be banned as it is the wo...</td>\n",
              "      <td>[0, 1, 0, 0, 0, 0, 0, 0, 0, 0, 0, 0, 0, 0, 0, ...</td>\n",
              "    </tr>\n",
              "    <tr>\n",
              "      <th>4</th>\n",
              "      <td>A02009</td>\n",
              "      <td>Entrapment should be legalized</td>\n",
              "      <td>against</td>\n",
              "      <td>entrapment is gravely immoral and against huma...</td>\n",
              "      <td>[0, 0, 0, 0, 0, 0, 0, 0, 0, 0, 0, 1, 0, 0, 0, ...</td>\n",
              "    </tr>\n",
              "  </tbody>\n",
              "</table>\n",
              "</div>\n",
              "      <button class=\"colab-df-convert\" onclick=\"convertToInteractive('df-7626c9b1-1689-4e74-9f4f-40cb7e677963')\"\n",
              "              title=\"Convert this dataframe to an interactive table.\"\n",
              "              style=\"display:none;\">\n",
              "        \n",
              "  <svg xmlns=\"http://www.w3.org/2000/svg\" height=\"24px\"viewBox=\"0 0 24 24\"\n",
              "       width=\"24px\">\n",
              "    <path d=\"M0 0h24v24H0V0z\" fill=\"none\"/>\n",
              "    <path d=\"M18.56 5.44l.94 2.06.94-2.06 2.06-.94-2.06-.94-.94-2.06-.94 2.06-2.06.94zm-11 1L8.5 8.5l.94-2.06 2.06-.94-2.06-.94L8.5 2.5l-.94 2.06-2.06.94zm10 10l.94 2.06.94-2.06 2.06-.94-2.06-.94-.94-2.06-.94 2.06-2.06.94z\"/><path d=\"M17.41 7.96l-1.37-1.37c-.4-.4-.92-.59-1.43-.59-.52 0-1.04.2-1.43.59L10.3 9.45l-7.72 7.72c-.78.78-.78 2.05 0 2.83L4 21.41c.39.39.9.59 1.41.59.51 0 1.02-.2 1.41-.59l7.78-7.78 2.81-2.81c.8-.78.8-2.07 0-2.86zM5.41 20L4 18.59l7.72-7.72 1.47 1.35L5.41 20z\"/>\n",
              "  </svg>\n",
              "      </button>\n",
              "      \n",
              "  <style>\n",
              "    .colab-df-container {\n",
              "      display:flex;\n",
              "      flex-wrap:wrap;\n",
              "      gap: 12px;\n",
              "    }\n",
              "\n",
              "    .colab-df-convert {\n",
              "      background-color: #E8F0FE;\n",
              "      border: none;\n",
              "      border-radius: 50%;\n",
              "      cursor: pointer;\n",
              "      display: none;\n",
              "      fill: #1967D2;\n",
              "      height: 32px;\n",
              "      padding: 0 0 0 0;\n",
              "      width: 32px;\n",
              "    }\n",
              "\n",
              "    .colab-df-convert:hover {\n",
              "      background-color: #E2EBFA;\n",
              "      box-shadow: 0px 1px 2px rgba(60, 64, 67, 0.3), 0px 1px 3px 1px rgba(60, 64, 67, 0.15);\n",
              "      fill: #174EA6;\n",
              "    }\n",
              "\n",
              "    [theme=dark] .colab-df-convert {\n",
              "      background-color: #3B4455;\n",
              "      fill: #D2E3FC;\n",
              "    }\n",
              "\n",
              "    [theme=dark] .colab-df-convert:hover {\n",
              "      background-color: #434B5C;\n",
              "      box-shadow: 0px 1px 3px 1px rgba(0, 0, 0, 0.15);\n",
              "      filter: drop-shadow(0px 1px 2px rgba(0, 0, 0, 0.3));\n",
              "      fill: #FFFFFF;\n",
              "    }\n",
              "  </style>\n",
              "\n",
              "      <script>\n",
              "        const buttonEl =\n",
              "          document.querySelector('#df-7626c9b1-1689-4e74-9f4f-40cb7e677963 button.colab-df-convert');\n",
              "        buttonEl.style.display =\n",
              "          google.colab.kernel.accessAllowed ? 'block' : 'none';\n",
              "\n",
              "        async function convertToInteractive(key) {\n",
              "          const element = document.querySelector('#df-7626c9b1-1689-4e74-9f4f-40cb7e677963');\n",
              "          const dataTable =\n",
              "            await google.colab.kernel.invokeFunction('convertToInteractive',\n",
              "                                                     [key], {});\n",
              "          if (!dataTable) return;\n",
              "\n",
              "          const docLinkHtml = 'Like what you see? Visit the ' +\n",
              "            '<a target=\"_blank\" href=https://colab.research.google.com/notebooks/data_table.ipynb>data table notebook</a>'\n",
              "            + ' to learn more about interactive tables.';\n",
              "          element.innerHTML = '';\n",
              "          dataTable['output_type'] = 'display_data';\n",
              "          await google.colab.output.renderOutput(dataTable, element);\n",
              "          const docLink = document.createElement('div');\n",
              "          docLink.innerHTML = docLinkHtml;\n",
              "          element.appendChild(docLink);\n",
              "        }\n",
              "      </script>\n",
              "    </div>\n",
              "  </div>\n",
              "  "
            ]
          },
          "metadata": {},
          "execution_count": 11
        }
      ],
      "source": [
        "df_test.head()"
      ]
    },
    {
      "cell_type": "markdown",
      "metadata": {
        "id": "aHdDe75nEZVd"
      },
      "source": [
        "### Decoding the output\n",
        "In order to decode the output we need a function that maps back the binary array in which 1 means that belongs to the label to the original label "
      ]
    },
    {
      "cell_type": "code",
      "execution_count": null,
      "metadata": {
        "id": "BK8H9elzEg2m"
      },
      "outputs": [],
      "source": [
        "LABELS_LIST = [\"Self-direction: thought\", \"Self-direction: action\", \"Stimulation\",\"Hedonism\",\"Achievement\",\n",
        "                 \"Power: dominance\", \"Power: resources\", \"Face\", \"Security: personal\", \"Security: societal\",\n",
        "                 \"Tradition\", \"Conformity: rules\", \"Conformity: interpersonal\", \"Humility\", \"Benevolence: caring\",\n",
        "                 \"Benevolence: dependability\", \"Universalism: concern\", \"Universalism: nature\", \"Universalism: tolerance\", \"Universalism: objectivity\"]\n",
        "\n",
        "def decode_labels(labels_array : List[int]) -> List[str]:\n",
        "  \"\"\"\n",
        "  Function which allows to obtain the list of the labels, given the binary\n",
        "  encoding. In case of a multi-label problem the list can have more than one\n",
        "  element.\n",
        "\n",
        "  :param labels_array: List containing the binary encoding we want to decode\n",
        "\n",
        "  :return classes_label: List containing the classes of the given one hot encoded\n",
        "  labels\n",
        "  \"\"\"\n",
        "  class_indexes = np.where(labels_array != 0)[0]\n",
        "\n",
        "  classes_labels = []\n",
        "  for idx in class_indexes:\n",
        "    classes_labels.append(LABELS_LIST[idx])\n",
        "  return classes_labels"
      ]
    },
    {
      "cell_type": "markdown",
      "metadata": {
        "id": "xcsSm6JvH2sY"
      },
      "source": [
        "Some examples of decoded labels from the train set"
      ]
    },
    {
      "cell_type": "code",
      "execution_count": null,
      "metadata": {
        "colab": {
          "base_uri": "https://localhost:8080/"
        },
        "id": "suJx9vbME055",
        "outputId": "f8f84aad-b403-4e24-efe4-b0fe62c0e41d"
      },
      "outputs": [
        {
          "output_type": "stream",
          "name": "stdout",
          "text": [
            "Conclusion: We should ban factory farming\n",
            "Stance: in favor of\n",
            "Premise: factory farming is not good for the environment\n",
            "Labels: [0 0 0 0 0 0 0 0 0 0 0 0 0 0 0 0 0 1 0 0]\n",
            "Decoded labels: ['Universalism: nature']\n",
            "------------------------------------------- \n",
            "\n",
            "Conclusion: We should ban the Church of Scientology\n",
            "Stance: in favor of\n",
            "Premise: it is necessary to eliminate the church of scientology for the safety of people\n",
            "Labels: [0 0 0 0 0 0 0 0 0 1 0 0 0 0 1 0 0 0 0 0]\n",
            "Decoded labels: ['Security: societal', 'Benevolence: caring']\n",
            "------------------------------------------- \n",
            "\n",
            "Conclusion: We should end mandatory retirement\n",
            "Stance: against\n",
            "Premise: the companies that have the mandatory retirement policy maintain a rotation of employees fresher and updated with the new times\n",
            "Labels: [1 0 0 0 1 0 0 0 0 0 0 0 0 0 0 0 0 0 0 0]\n",
            "Decoded labels: ['Self-direction: thought', 'Achievement']\n",
            "------------------------------------------- \n",
            "\n"
          ]
        }
      ],
      "source": [
        "for index,row in df_train.sample(3).iterrows():\n",
        "  print(f\"Conclusion: {row['Conclusion']}\")\n",
        "  print(f\"Stance: {row['Stance']}\")\n",
        "  print(f\"Premise: {row['Premise']}\")\n",
        "  print(f\"Labels: {row['labels']}\")\n",
        "  print(f\"Decoded labels: {decode_labels(row['labels'])}\")\n",
        "  print(f\"------------------------------------------- \\n\")"
      ]
    },
    {
      "cell_type": "markdown",
      "metadata": {
        "id": "a1Fq41VoD5Om"
      },
      "source": [
        "### Labels distribution on training set on raw data"
      ]
    },
    {
      "cell_type": "markdown",
      "metadata": {
        "id": "al7Z_21UEPbX"
      },
      "source": [
        "Now we will analyze the stats for the number of labels assigned to the data\n"
      ]
    },
    {
      "cell_type": "code",
      "execution_count": null,
      "metadata": {
        "colab": {
          "base_uri": "https://localhost:8080/"
        },
        "id": "xW5OfiIlEPbX",
        "outputId": "9ee05f8a-df7e-4735-f4bd-5dcdf22263ed"
      },
      "outputs": [
        {
          "output_type": "stream",
          "name": "stdout",
          "text": [
            "Min assigned labels: 0\n",
            "Max assigned labels: 9\n",
            "Average assigned labels: 3.0\n"
          ]
        }
      ],
      "source": [
        "labels_num = []\n",
        "\n",
        "for labels in df_train['labels']:\n",
        "  labels_num.append(np.sum(labels))\n",
        "\n",
        "print(f'Min assigned labels: {min(labels_num)}')\n",
        "print(f'Max assigned labels: {max(labels_num)}')\n",
        "print(f'Average assigned labels: {np.round(np.mean(labels_num))}')"
      ]
    },
    {
      "cell_type": "markdown",
      "metadata": {
        "id": "FDsnblPzEPbY"
      },
      "source": [
        "Interestingly, there are rows without any labels assigned. We can investigate further.\n",
        "\n"
      ]
    },
    {
      "cell_type": "code",
      "execution_count": null,
      "metadata": {
        "colab": {
          "base_uri": "https://localhost:8080/",
          "height": 374
        },
        "id": "edAMrP3_EPbY",
        "outputId": "71c6c223-5575-4540-dae2-468d01668c72"
      },
      "outputs": [
        {
          "output_type": "display_data",
          "data": {
            "text/plain": [
              "<Figure size 864x432 with 1 Axes>"
            ],
            "image/png": "[encoded data removed]"
          },
          "metadata": {
            "needs_background": "light"
          }
        }
      ],
      "source": [
        "labels_key = list(Counter(labels_num).keys())\n",
        "labels_value = list(Counter(labels_num).values())\n",
        "\n",
        "fig = plt.figure(figsize = (12,6))\n",
        "fig.suptitle('Training set assigned labels distribution', fontsize= 18)\n",
        "bars  = plt.bar(labels_key, labels_value, width = 0.75)\n",
        "plt.xlabel('Labels num')\n",
        "plt.ylabel('Frequency')\n",
        "plt.xticks(labels_key)\n",
        "\n",
        "# access the bar attributes to place the text in the appropriate location\n",
        "for bar in bars:\n",
        "    yval = bar.get_height()\n",
        "    plt.text(bar.get_x()  + 0.20, yval + 40, yval)\n",
        "\n",
        "plt.show()"
      ]
    },
    {
      "cell_type": "markdown",
      "metadata": {
        "id": "Mq4ZCCNsFHiv"
      },
      "source": [
        "We decided to remove rows with num_labels = 0 or num_labels >= 6"
      ]
    },
    {
      "cell_type": "code",
      "execution_count": null,
      "metadata": {
        "id": "WRrBKZTXFHiw"
      },
      "outputs": [],
      "source": [
        "labels_num = np.array(labels_num)\n",
        "zero_labels_indexes = np.where(labels_num == 0)\n",
        "greater_six_labels_indexes = np.where(labels_num >= 7)\n",
        "zero_labels_rows = df_train.iloc[zero_labels_indexes]\n",
        "greater_labels_rows = df_train.iloc[greater_six_labels_indexes]"
      ]
    },
    {
      "cell_type": "markdown",
      "metadata": {
        "id": "Z_YxkqqTFHiw"
      },
      "source": [
        "Removing the rows with zero and >= 6 labels assigned"
      ]
    },
    {
      "cell_type": "code",
      "execution_count": null,
      "metadata": {
        "colab": {
          "base_uri": "https://localhost:8080/"
        },
        "id": "7cCw5zhOFHiw",
        "outputId": "ae066786-ac43-41fe-ef19-04e1c358f954"
      },
      "outputs": [
        {
          "output_type": "stream",
          "name": "stdout",
          "text": [
            "Len training set after removing zero assigned labels -> 4200\n"
          ]
        }
      ],
      "source": [
        "df_train.drop(zero_labels_rows.index, inplace = True)\n",
        "df_train.drop(greater_labels_rows.index, inplace = True)\n",
        "print(f\"Len training set after removing zero assigned labels -> {len(df_train)}\")"
      ]
    },
    {
      "cell_type": "markdown",
      "source": [
        "Now, we can show the labels distribution after the operations described before"
      ],
      "metadata": {
        "id": "ggPh7kC0LtLh"
      }
    },
    {
      "cell_type": "code",
      "execution_count": null,
      "metadata": {
        "colab": {
          "base_uri": "https://localhost:8080/",
          "height": 374
        },
        "outputId": "6b3aaa1d-c47f-4907-9536-264c861b4c0e",
        "id": "uNjWhC0jL07k"
      },
      "outputs": [
        {
          "output_type": "display_data",
          "data": {
            "text/plain": [
              "<Figure size 864x432 with 1 Axes>"
            ],
            "image/png": "[encoded data removed]"
          },
          "metadata": {
            "needs_background": "light"
          }
        }
      ],
      "source": [
        "labels_num = []\n",
        "\n",
        "for labels in df_train['labels']:\n",
        "  labels_num.append(np.sum(labels))\n",
        "\n",
        "labels_key = list(Counter(labels_num).keys())\n",
        "labels_value = list(Counter(labels_num).values())\n",
        "\n",
        "fig = plt.figure(figsize = (12,6))\n",
        "fig.suptitle('Training set assigned labels distribution', fontsize= 18)\n",
        "bars  = plt.bar(labels_key, labels_value, width = 0.75)\n",
        "plt.xlabel('Labels num')\n",
        "plt.ylabel('Frequency')\n",
        "plt.xticks(labels_key)\n",
        "\n",
        "# access the bar attributes to place the text in the appropriate location\n",
        "for bar in bars:\n",
        "    yval = bar.get_height()\n",
        "    plt.text(bar.get_x()  + 0.20, yval + 20, yval)\n",
        "\n",
        "plt.show()"
      ]
    },
    {
      "cell_type": "markdown",
      "metadata": {
        "id": "RwIOQkZpEPbZ"
      },
      "source": [
        "We repeat the same operation also for the label distribution on training set"
      ]
    },
    {
      "cell_type": "code",
      "execution_count": null,
      "metadata": {
        "colab": {
          "base_uri": "https://localhost:8080/",
          "height": 486
        },
        "id": "tmBZAAvqEPbZ",
        "outputId": "13270424-f82d-45ab-c9c8-64f6b73a7eb4"
      },
      "outputs": [
        {
          "output_type": "display_data",
          "data": {
            "text/plain": [
              "<Figure size 864x432 with 1 Axes>"
            ],
            "image/png": "[encoded data removed]"
          },
          "metadata": {
            "needs_background": "light"
          }
        }
      ],
      "source": [
        "all_labels = df_train['labels'].to_numpy()\n",
        "\n",
        "decoded_labels = [decode_labels(l) for l in all_labels]\n",
        "decoded_labels = list(chain(*decoded_labels))\n",
        "decoded_labels = sorted(decoded_labels)\n",
        "\n",
        "labels_key = list(Counter(decoded_labels).keys())\n",
        "labels_value = list(Counter(decoded_labels).values())\n",
        "\n",
        "fig = plt.figure(figsize = (12,6))\n",
        "fig.suptitle('Training set single label distribution', fontsize= 18)\n",
        "bars  = plt.bar(labels_key, labels_value, width = 0.75)\n",
        "plt.xlabel('Labels')\n",
        "plt.ylabel('Frequency')\n",
        "plt.xticks(labels_key, rotation=90)\n",
        "\n",
        "# access the bar attributes to place the text in the appropriate location\n",
        "for bar in bars:\n",
        "    yval = bar.get_height()\n",
        "    plt.text(bar.get_x()  - 0.05, yval + 40, yval)\n",
        "\n",
        "plt.show()\n"
      ]
    },
    {
      "cell_type": "markdown",
      "source": [
        "Also in this case, we decided to remove the labels which have a very low number of elements, which are:\n",
        "\n",
        "\n",
        "1.   Hedonism\n",
        "2.   Stimulation\n",
        "3.   Conformity: interpersonal"
      ],
      "metadata": {
        "id": "2CqJLLqsMk_0"
      }
    },
    {
      "cell_type": "code",
      "source": [
        "labels_num = []\n",
        "\n",
        "for labels in df_train['labels']:\n",
        "  if labels[LABELS_LIST.index('Hedonism')] == 1:\n",
        "    labels[LABELS_LIST.index('Hedonism')] = 0\n",
        "\n",
        "  if labels[LABELS_LIST.index('Stimulation')] == 1:\n",
        "    labels[LABELS_LIST.index('Stimulation')] = 0\n",
        "\n",
        "  if labels[LABELS_LIST.index('Conformity: interpersonal')] == 1:\n",
        "    labels[LABELS_LIST.index('Conformity: interpersonal')] = 0\n",
        "  \n",
        "  labels_num.append(labels)\n",
        "\n",
        "df_train['labels'] = labels_num\n"
      ],
      "metadata": {
        "id": "SsgBLqRhMk_1"
      },
      "execution_count": null,
      "outputs": []
    },
    {
      "cell_type": "markdown",
      "source": [
        "After removing the labels we can have a look at the new labels distribution in the training set"
      ],
      "metadata": {
        "id": "yoD-LtBYMmrF"
      }
    },
    {
      "cell_type": "code",
      "source": [
        "all_labels = df_train['labels'].to_numpy()\n",
        "\n",
        "decoded_labels = [decode_labels(l) for l in all_labels]\n",
        "decoded_labels = list(chain(*decoded_labels))\n",
        "decoded_labels = sorted(decoded_labels)\n",
        "\n",
        "labels_key = list(Counter(decoded_labels).keys())\n",
        "labels_value = list(Counter(decoded_labels).values())\n",
        "\n",
        "fig = plt.figure(figsize = (12,6))\n",
        "fig.suptitle('Training set single label distribution', fontsize= 18)\n",
        "bars  = plt.bar(labels_key, labels_value, width = 0.75)\n",
        "plt.xlabel('Labels')\n",
        "plt.ylabel('Frequency')\n",
        "plt.xticks(labels_key, rotation=90)\n",
        "\n",
        "# access the bar attributes to place the text in the appropriate location\n",
        "for bar in bars:\n",
        "    yval = bar.get_height()\n",
        "    plt.text(bar.get_x()  - 0.05, yval + 40, yval)\n",
        "\n",
        "plt.show()"
      ],
      "metadata": {
        "colab": {
          "base_uri": "https://localhost:8080/",
          "height": 486
        },
        "id": "E1JmLK1eMop7",
        "outputId": "fa4ec179-8117-443a-9242-0b45cb8e758c"
      },
      "execution_count": null,
      "outputs": [
        {
          "output_type": "display_data",
          "data": {
            "text/plain": [
              "<Figure size 864x432 with 1 Axes>"
            ],
            "image/png": "[encoded data removed]"
          },
          "metadata": {
            "needs_background": "light"
          }
        }
      ]
    },
    {
      "cell_type": "markdown",
      "source": [
        "Lastly, we need to check and remove duplicates"
      ],
      "metadata": {
        "id": "brtyexan_s3f"
      }
    },
    {
      "cell_type": "code",
      "source": [
        "print(f\"Len of the training set before removing duplicates: {len(df_train)}\")\n",
        "df_train.drop_duplicates(subset=['Conclusion', 'Premise'],inplace = True)\n",
        "df_train.reset_index(inplace=True, drop=True)\n",
        "print(f\"Len of the training set after removing duplicates: {len(df_train)}\")\n",
        "df_train.head()"
      ],
      "metadata": {
        "colab": {
          "base_uri": "https://localhost:8080/",
          "height": 476
        },
        "id": "yssR5SDm_xWb",
        "outputId": "a88c02de-29aa-48f8-8b37-a96c2ca040f8"
      },
      "execution_count": null,
      "outputs": [
        {
          "output_type": "stream",
          "name": "stdout",
          "text": [
            "Len of the training set before removing duplicates: 4200\n",
            "Len of the training set after removing duplicates: 4154\n"
          ]
        },
        {
          "output_type": "execute_result",
          "data": {
            "text/plain": [
              "  Argument ID                                         Conclusion       Stance  \\\n",
              "0      A22488                      We should subsidize Wikipedia  in favor of   \n",
              "1      A29229                     We should ban cosmetic surgery  in favor of   \n",
              "2      A24243              We should introduce compulsory voting      against   \n",
              "3      A12490  We should abolish the right to keep and bear arms  in favor of   \n",
              "4      A12398        We should end the use of economic sanctions      against   \n",
              "\n",
              "                                             Premise  \\\n",
              "0  wikipedia provides an endless amount of inform...   \n",
              "1  banning cosmetic surgery and obligatory becaus...   \n",
              "2  we should not introduce compulsory voting beca...   \n",
              "3  the right to keep and bear arms should be abol...   \n",
              "4  economic sanctions do help western countries t...   \n",
              "\n",
              "                                              labels  \n",
              "0  [1, 0, 0, 0, 1, 0, 0, 0, 0, 0, 0, 0, 0, 0, 1, ...  \n",
              "1  [0, 0, 0, 0, 0, 0, 1, 0, 1, 0, 0, 1, 0, 1, 0, ...  \n",
              "2  [0, 0, 0, 0, 1, 0, 0, 0, 0, 0, 0, 1, 0, 0, 0, ...  \n",
              "3  [0, 0, 0, 0, 0, 0, 0, 0, 1, 1, 0, 1, 0, 0, 0, ...  \n",
              "4  [0, 0, 0, 0, 0, 1, 0, 0, 0, 1, 0, 0, 0, 0, 1, ...  "
            ],
            "text/html": [
              "\n",
              "  <div id=\"df-38f930cc-8899-4d6d-be0b-2b0cd48b655e\">\n",
              "    <div class=\"colab-df-container\">\n",
              "      <div>\n",
              "<style scoped>\n",
              "    .dataframe tbody tr th:only-of-type {\n",
              "        vertical-align: middle;\n",
              "    }\n",
              "\n",
              "    .dataframe tbody tr th {\n",
              "        vertical-align: top;\n",
              "    }\n",
              "\n",
              "    .dataframe thead th {\n",
              "        text-align: right;\n",
              "    }\n",
              "</style>\n",
              "<table border=\"1\" class=\"dataframe\">\n",
              "  <thead>\n",
              "    <tr style=\"text-align: right;\">\n",
              "      <th></th>\n",
              "      <th>Argument ID</th>\n",
              "      <th>Conclusion</th>\n",
              "      <th>Stance</th>\n",
              "      <th>Premise</th>\n",
              "      <th>labels</th>\n",
              "    </tr>\n",
              "  </thead>\n",
              "  <tbody>\n",
              "    <tr>\n",
              "      <th>0</th>\n",
              "      <td>A22488</td>\n",
              "      <td>We should subsidize Wikipedia</td>\n",
              "      <td>in favor of</td>\n",
              "      <td>wikipedia provides an endless amount of inform...</td>\n",
              "      <td>[1, 0, 0, 0, 1, 0, 0, 0, 0, 0, 0, 0, 0, 0, 1, ...</td>\n",
              "    </tr>\n",
              "    <tr>\n",
              "      <th>1</th>\n",
              "      <td>A29229</td>\n",
              "      <td>We should ban cosmetic surgery</td>\n",
              "      <td>in favor of</td>\n",
              "      <td>banning cosmetic surgery and obligatory becaus...</td>\n",
              "      <td>[0, 0, 0, 0, 0, 0, 1, 0, 1, 0, 0, 1, 0, 1, 0, ...</td>\n",
              "    </tr>\n",
              "    <tr>\n",
              "      <th>2</th>\n",
              "      <td>A24243</td>\n",
              "      <td>We should introduce compulsory voting</td>\n",
              "      <td>against</td>\n",
              "      <td>we should not introduce compulsory voting beca...</td>\n",
              "      <td>[0, 0, 0, 0, 1, 0, 0, 0, 0, 0, 0, 1, 0, 0, 0, ...</td>\n",
              "    </tr>\n",
              "    <tr>\n",
              "      <th>3</th>\n",
              "      <td>A12490</td>\n",
              "      <td>We should abolish the right to keep and bear arms</td>\n",
              "      <td>in favor of</td>\n",
              "      <td>the right to keep and bear arms should be abol...</td>\n",
              "      <td>[0, 0, 0, 0, 0, 0, 0, 0, 1, 1, 0, 1, 0, 0, 0, ...</td>\n",
              "    </tr>\n",
              "    <tr>\n",
              "      <th>4</th>\n",
              "      <td>A12398</td>\n",
              "      <td>We should end the use of economic sanctions</td>\n",
              "      <td>against</td>\n",
              "      <td>economic sanctions do help western countries t...</td>\n",
              "      <td>[0, 0, 0, 0, 0, 1, 0, 0, 0, 1, 0, 0, 0, 0, 1, ...</td>\n",
              "    </tr>\n",
              "  </tbody>\n",
              "</table>\n",
              "</div>\n",
              "      <button class=\"colab-df-convert\" onclick=\"convertToInteractive('df-38f930cc-8899-4d6d-be0b-2b0cd48b655e')\"\n",
              "              title=\"Convert this dataframe to an interactive table.\"\n",
              "              style=\"display:none;\">\n",
              "        \n",
              "  <svg xmlns=\"http://www.w3.org/2000/svg\" height=\"24px\"viewBox=\"0 0 24 24\"\n",
              "       width=\"24px\">\n",
              "    <path d=\"M0 0h24v24H0V0z\" fill=\"none\"/>\n",
              "    <path d=\"M18.56 5.44l.94 2.06.94-2.06 2.06-.94-2.06-.94-.94-2.06-.94 2.06-2.06.94zm-11 1L8.5 8.5l.94-2.06 2.06-.94-2.06-.94L8.5 2.5l-.94 2.06-2.06.94zm10 10l.94 2.06.94-2.06 2.06-.94-2.06-.94-.94-2.06-.94 2.06-2.06.94z\"/><path d=\"M17.41 7.96l-1.37-1.37c-.4-.4-.92-.59-1.43-.59-.52 0-1.04.2-1.43.59L10.3 9.45l-7.72 7.72c-.78.78-.78 2.05 0 2.83L4 21.41c.39.39.9.59 1.41.59.51 0 1.02-.2 1.41-.59l7.78-7.78 2.81-2.81c.8-.78.8-2.07 0-2.86zM5.41 20L4 18.59l7.72-7.72 1.47 1.35L5.41 20z\"/>\n",
              "  </svg>\n",
              "      </button>\n",
              "      \n",
              "  <style>\n",
              "    .colab-df-container {\n",
              "      display:flex;\n",
              "      flex-wrap:wrap;\n",
              "      gap: 12px;\n",
              "    }\n",
              "\n",
              "    .colab-df-convert {\n",
              "      background-color: #E8F0FE;\n",
              "      border: none;\n",
              "      border-radius: 50%;\n",
              "      cursor: pointer;\n",
              "      display: none;\n",
              "      fill: #1967D2;\n",
              "      height: 32px;\n",
              "      padding: 0 0 0 0;\n",
              "      width: 32px;\n",
              "    }\n",
              "\n",
              "    .colab-df-convert:hover {\n",
              "      background-color: #E2EBFA;\n",
              "      box-shadow: 0px 1px 2px rgba(60, 64, 67, 0.3), 0px 1px 3px 1px rgba(60, 64, 67, 0.15);\n",
              "      fill: #174EA6;\n",
              "    }\n",
              "\n",
              "    [theme=dark] .colab-df-convert {\n",
              "      background-color: #3B4455;\n",
              "      fill: #D2E3FC;\n",
              "    }\n",
              "\n",
              "    [theme=dark] .colab-df-convert:hover {\n",
              "      background-color: #434B5C;\n",
              "      box-shadow: 0px 1px 3px 1px rgba(0, 0, 0, 0.15);\n",
              "      filter: drop-shadow(0px 1px 2px rgba(0, 0, 0, 0.3));\n",
              "      fill: #FFFFFF;\n",
              "    }\n",
              "  </style>\n",
              "\n",
              "      <script>\n",
              "        const buttonEl =\n",
              "          document.querySelector('#df-38f930cc-8899-4d6d-be0b-2b0cd48b655e button.colab-df-convert');\n",
              "        buttonEl.style.display =\n",
              "          google.colab.kernel.accessAllowed ? 'block' : 'none';\n",
              "\n",
              "        async function convertToInteractive(key) {\n",
              "          const element = document.querySelector('#df-38f930cc-8899-4d6d-be0b-2b0cd48b655e');\n",
              "          const dataTable =\n",
              "            await google.colab.kernel.invokeFunction('convertToInteractive',\n",
              "                                                     [key], {});\n",
              "          if (!dataTable) return;\n",
              "\n",
              "          const docLinkHtml = 'Like what you see? Visit the ' +\n",
              "            '<a target=\"_blank\" href=https://colab.research.google.com/notebooks/data_table.ipynb>data table notebook</a>'\n",
              "            + ' to learn more about interactive tables.';\n",
              "          element.innerHTML = '';\n",
              "          dataTable['output_type'] = 'display_data';\n",
              "          await google.colab.output.renderOutput(dataTable, element);\n",
              "          const docLink = document.createElement('div');\n",
              "          docLink.innerHTML = docLinkHtml;\n",
              "          element.appendChild(docLink);\n",
              "        }\n",
              "      </script>\n",
              "    </div>\n",
              "  </div>\n",
              "  "
            ]
          },
          "metadata": {},
          "execution_count": 22
        }
      ]
    },
    {
      "cell_type": "markdown",
      "source": [
        "### Training set data augmentation"
      ],
      "metadata": {
        "id": "SnfGfx_LhY0v"
      }
    },
    {
      "cell_type": "markdown",
      "source": [
        "To boost the effective capacity of the network, we decided to apply some data augmentation techniques on the training set. In particular, we used [TextGenie](https://github.com/hetpandya/textgenie), a library which helps generating new samples using paraphrase generation with a generative model. <br>\n",
        "\n",
        "The first step is the download of the T5 model for data augmentation"
      ],
      "metadata": {
        "id": "Fh3O4MKkN3pR"
      }
    },
    {
      "cell_type": "code",
      "source": [
        "textgenie = TextGenie('hetpandya/t5-small-tapaco')"
      ],
      "metadata": {
        "colab": {
          "base_uri": "https://localhost:8080/",
          "height": 334,
          "referenced_widgets": [
            "56967fc9efcf408d8b7c307116d94adc",
            "d41b090595654132830274c182d88374",
            "5dd7f2665f7e4cfeb38df436d20635ea",
            "19a033eb060542b2aaff3f1246aa3b1a",
            "14993e2abb404cb9be8ab913993fb95e",
            "33b2ece2b10e44409aab00fc0ee7b6dc",
            "dac176b3166d4c9eb0628b8e398947ad",
            "23c974169eee4f44a42a45f90d23d0ea",
            "c3b7399c2b1f40e889b8be944db50633",
            "342f465f5b82430fad16e1fb3e5875ef",
            "01ab45d574444e80a6a6a6d7e513df02",
            "606464a6ae0743d3821397058b906590",
            "ba7bac1d9fe8468ebdb15b12615bae5e",
            "739482c4392d4fb48963095b98248828",
            "6ebc400961a340a2a13ee4ff40f827a7",
            "2890588fd9f944778a503a715503db91",
            "7b14e15ad6f04b929865497a7173a44f",
            "754f78922c5a4792b6052d8d53cb8cb9",
            "f6eb12782232497dafb3b119028b3fdf",
            "b8a1eb05360843aab92151fdace8d8aa",
            "6eb6f353aa664875a840450cc21f6343",
            "8d352e083efe4aeea51031cca25e949b",
            "50c5e2440f454ab98457fd93e3d424ff",
            "adca51f933aa4953acef1591d90b1d10",
            "68ae304a906642c99c28a3ecb2e080a3",
            "763fe47630214520ad448f04403bfb5e",
            "f8ebb328dbb6417e9391321466150789",
            "1515abb463844be183386a5363ca38c7",
            "e27a9234944a4192b8e38a3f46545fab",
            "4d42b160e8f44b179bef41c1704e8cfb",
            "80747a2e8aa04b048d74cb4db11cb0e6",
            "936b15bb9b2a4f1886222f182c62d8df",
            "ca80ec77193641b79c357dd82c3c77eb",
            "e7b2c0fed3114aa6ba7d398011eb4efb",
            "9ab5de3d06b34dbea2dbffc2e16aab0f",
            "3310450f32124c58bcd84430f0812846",
            "5e83eb935f1b4849ab98212c4eebf541",
            "fd25229f178544c8901b5f93398b3929",
            "72ab2f36f59547ecb1b2b1d5332a50e1",
            "56fc56fcf88e4fa4b400a5f5ef3ce12f",
            "ad07bb3eae6142c4975cafcbc4850b3d",
            "6d142205d23e44bb92708a26ca409e5c",
            "b4a29e3c29d0408d85df23dd5a640ce9",
            "0a22ed2ece604aff85351a4fe57b8cbb",
            "d590b1edcca3472887abfd97fffeda4a",
            "eaf266a8bc7d4b4297c16c20c73fc683",
            "44339603f1b1484dbf21fab49a820a5c",
            "9370498c41964f77a1f832f4500b898f",
            "5def020b5c39465b9b04df6ded332466",
            "4b9f62a857af44f6b63ca97778081684",
            "5e4c51d461e34de19b754ed456d32f2e",
            "d70254d9f31c476a894807ad76fa73b5",
            "673a27c5fd4f4e2aa7bdf03f212bae16",
            "a8c5d6ae82ac44b8b2fb75541bd657c1",
            "8510d18d2d474c9581d435ce4ce9ff05"
          ]
        },
        "id": "sFXr2phxhs_V",
        "outputId": "2600bcb6-57f9-4c7c-ee08-50127329a3ae"
      },
      "execution_count": null,
      "outputs": [
        {
          "output_type": "stream",
          "name": "stdout",
          "text": [
            "Loading Paraphrase Model..\n"
          ]
        },
        {
          "output_type": "display_data",
          "data": {
            "text/plain": [
              "Downloading:   0%|          | 0.00/1.39k [00:00<?, ?B/s]"
            ],
            "application/vnd.jupyter.widget-view+json": {
              "version_major": 2,
              "version_minor": 0,
              "model_id": "56967fc9efcf408d8b7c307116d94adc"
            }
          },
          "metadata": {}
        },
        {
          "output_type": "display_data",
          "data": {
            "text/plain": [
              "Downloading:   0%|          | 0.00/242M [00:00<?, ?B/s]"
            ],
            "application/vnd.jupyter.widget-view+json": {
              "version_major": 2,
              "version_minor": 0,
              "model_id": "606464a6ae0743d3821397058b906590"
            }
          },
          "metadata": {}
        },
        {
          "output_type": "display_data",
          "data": {
            "text/plain": [
              "Downloading:   0%|          | 0.00/792k [00:00<?, ?B/s]"
            ],
            "application/vnd.jupyter.widget-view+json": {
              "version_major": 2,
              "version_minor": 0,
              "model_id": "50c5e2440f454ab98457fd93e3d424ff"
            }
          },
          "metadata": {}
        },
        {
          "output_type": "display_data",
          "data": {
            "text/plain": [
              "Downloading:   0%|          | 0.00/1.79k [00:00<?, ?B/s]"
            ],
            "application/vnd.jupyter.widget-view+json": {
              "version_major": 2,
              "version_minor": 0,
              "model_id": "e7b2c0fed3114aa6ba7d398011eb4efb"
            }
          },
          "metadata": {}
        },
        {
          "output_type": "display_data",
          "data": {
            "text/plain": [
              "Downloading:   0%|          | 0.00/1.97k [00:00<?, ?B/s]"
            ],
            "application/vnd.jupyter.widget-view+json": {
              "version_major": 2,
              "version_minor": 0,
              "model_id": "d590b1edcca3472887abfd97fffeda4a"
            }
          },
          "metadata": {}
        }
      ]
    },
    {
      "cell_type": "markdown",
      "source": [
        "An example of data augmentation"
      ],
      "metadata": {
        "id": "JvUM_SY5NbxM"
      }
    },
    {
      "cell_type": "code",
      "source": [
        "text = df_train.loc[0]['Premise'] \n",
        "augmented_text = textgenie.magic_once(text,\"paraphrase: \",paraphrase_top_k = 32, n_paraphrase_predictions=2,n_mask_predictions=None, convert_to_active=False)\n",
        "print(f\"Original text: {text}\")\n",
        "\n",
        "print(\"Augmented text:\")\n",
        "for idx, s in enumerate(augmented_text):\n",
        "  print(f\"Num: {idx+1} -> {s}\")"
      ],
      "metadata": {
        "colab": {
          "base_uri": "https://localhost:8080/"
        },
        "id": "E2hN5gszjAKk",
        "outputId": "3021b9b0-309c-49a8-eead-e972780de2be"
      },
      "execution_count": null,
      "outputs": [
        {
          "output_type": "stream",
          "name": "stderr",
          "text": [
            "/usr/local/lib/python3.8/dist-packages/transformers/tokenization_utils_base.py:2336: FutureWarning: The `pad_to_max_length` argument is deprecated and will be removed in a future version, use `padding=True` or `padding='longest'` to pad to the longest sequence in the batch, or use `padding='max_length'` to pad to a max length. In this case, you can give a specific length with `max_length` (e.g. `max_length=45`) or leave max_length to None to pad to the maximal input size of the model (e.g. 512 for Bert).\n",
            "  warnings.warn(\n",
            "/usr/local/lib/python3.8/dist-packages/transformers/models/t5/tokenization_t5.py:226: UserWarning: This sequence already has </s>. In future versions this behavior may lead to duplicated eos tokens being added.\n",
            "  warnings.warn(\n"
          ]
        },
        {
          "output_type": "stream",
          "name": "stdout",
          "text": [
            "Original text: wikipedia provides an endless amount of information right at our fingertips.\n",
            "Augmented text:\n",
            "Num: 1 -> wikipedia provides an endless amount of information right at our fingertips.\n",
            "Num: 2 -> wikipedia is not just an endless form of information we have to provide.\n",
            "Num: 3 -> wikipedia can provide our students endless information.\n"
          ]
        }
      ]
    },
    {
      "cell_type": "markdown",
      "source": [
        "We decided to paraphrase all the premises."
      ],
      "metadata": {
        "id": "AGMlFn2vtxKo"
      }
    },
    {
      "cell_type": "code",
      "source": [
        "print(f\"Len of training set: {len(df_train)}\")\n",
        "\n",
        "\n",
        "# Since the operation of data augmentation is time consuming we decided to \n",
        "# split it in various steps (mainly due to colab usage limitations.)\n",
        "# In this way, in each step are computed the operations only on 500 sentences,\n",
        "# so in case of a disconnection we can restart from the point we were interrupted\n",
        "saving_steps = 500\n",
        "total_steps = len(df_train)//500 + 1 \n",
        "\n",
        "print(f\"total data augmentation steps: {total_steps}\")\n",
        "print(f\"Save every {saving_steps} steps \")\n",
        "\n",
        "last_start_row = 0\n",
        "for i in range(1,total_steps):\n",
        "  starting_row = (i-1) * 500\n",
        "  final_row = i * 500\n",
        "\n",
        "  print(f\"Doing data augmentation from row {starting_row} to row {final_row} \")\n",
        "\n",
        "  last_start_row = final_row\n",
        "\n",
        "  df_tmp = df_train[starting_row:final_row]\n",
        "  print(f'len: {len(df_tmp)}')\n",
        "  csv_tmp_title = 'df_premises_' + str(i) +'.csv' \n",
        "  df_tmp[['Argument ID', 'Premise']].to_csv(csv_tmp_title, index=False)\n",
        "\n",
        "  augmented_premises = textgenie.magic_lamp(csv_tmp_title,\n",
        "                                            \"paraphrase: \",\n",
        "                                            paraphrase_top_k = 32,\n",
        "                                            n_paraphrase_predictions = 2,\n",
        "                                            n_mask_predictions=None,\n",
        "                                            paraphrase_max_length= 256,\n",
        "                                            convert_to_active=False,\n",
        "                                            label_column=\"Argument ID\",\n",
        "                                            data_column=\"Premise\")\n",
        "  \n",
        "  # After the operation on the 500 sentences, we save the result in a file\n",
        "  augmented_premises.to_pickle(PROJECT_WORK_LOCAL_PATH+'/dataframe/augmented_premises-' + str(i) + '.pkl')\n",
        "\n",
        "\n",
        "print(f\"last_start_row: {last_start_row} \")\n",
        "\n",
        "df_tmp = df_train[last_start_row:]\n",
        "print(f'len: {len(df_tmp)}')\n",
        "\n",
        "csv_tmp_title = 'df_premises_final.csv'\n",
        "df_tmp[['Argument ID', 'Premise']].to_csv(csv_tmp_title, index=False)\n",
        "augmented_premises = textgenie.magic_lamp(csv_tmp_title,\n",
        "                                            \"paraphrase: \",\n",
        "                                            paraphrase_top_k = 32,\n",
        "                                            n_paraphrase_predictions = 2,\n",
        "                                            n_mask_predictions=None,\n",
        "                                            paraphrase_max_length= 256,\n",
        "                                            convert_to_active=False,\n",
        "                                            label_column=\"Argument ID\",\n",
        "                                            data_column=\"Premise\")\n",
        "  \n",
        "augmented_premises.to_pickle(PROJECT_WORK_LOCAL_PATH+'/dataframe/augmented_premises_final.pkl')"
      ],
      "metadata": {
        "id": "K_QkenZXqOQT",
        "colab": {
          "base_uri": "https://localhost:8080/"
        },
        "outputId": "dc2df023-d7e6-491f-ba15-4dbb30df5e0a"
      },
      "execution_count": null,
      "outputs": [
        {
          "output_type": "stream",
          "name": "stdout",
          "text": [
            "Len of training set: 4154\n",
            "total data augmentation steps: 9\n",
            "Save every 500 steps \n",
            "Doing data augmentation from row 0 to row 500 \n",
            "len: 500\n"
          ]
        },
        {
          "output_type": "stream",
          "name": "stderr",
          "text": [
            "100%|██████████| 500/500 [10:04<00:00,  1.21s/it]\n"
          ]
        },
        {
          "output_type": "stream",
          "name": "stdout",
          "text": [
            "\n",
            "Completed writing output to /content/df_premises_1_aug.tsv.\n",
            "Doing data augmentation from row 500 to row 1000 \n",
            "len: 500\n"
          ]
        },
        {
          "output_type": "stream",
          "name": "stderr",
          "text": [
            "100%|██████████| 500/500 [09:13<00:00,  1.11s/it]\n"
          ]
        },
        {
          "output_type": "stream",
          "name": "stdout",
          "text": [
            "\n",
            "Completed writing output to /content/df_premises_2_aug.tsv.\n",
            "Doing data augmentation from row 1000 to row 1500 \n",
            "len: 500\n"
          ]
        },
        {
          "output_type": "stream",
          "name": "stderr",
          "text": [
            "100%|██████████| 500/500 [09:24<00:00,  1.13s/it]\n"
          ]
        },
        {
          "output_type": "stream",
          "name": "stdout",
          "text": [
            "\n",
            "Completed writing output to /content/df_premises_3_aug.tsv.\n",
            "Doing data augmentation from row 1500 to row 2000 \n",
            "len: 500\n"
          ]
        },
        {
          "output_type": "stream",
          "name": "stderr",
          "text": [
            "100%|██████████| 500/500 [09:32<00:00,  1.15s/it]\n"
          ]
        },
        {
          "output_type": "stream",
          "name": "stdout",
          "text": [
            "\n",
            "Completed writing output to /content/df_premises_4_aug.tsv.\n",
            "Doing data augmentation from row 2000 to row 2500 \n",
            "len: 500\n"
          ]
        },
        {
          "output_type": "stream",
          "name": "stderr",
          "text": [
            "100%|██████████| 500/500 [09:24<00:00,  1.13s/it]\n"
          ]
        },
        {
          "output_type": "stream",
          "name": "stdout",
          "text": [
            "\n",
            "Completed writing output to /content/df_premises_5_aug.tsv.\n",
            "Doing data augmentation from row 2500 to row 3000 \n",
            "len: 500\n"
          ]
        },
        {
          "output_type": "stream",
          "name": "stderr",
          "text": [
            "100%|██████████| 500/500 [09:02<00:00,  1.09s/it]\n"
          ]
        },
        {
          "output_type": "stream",
          "name": "stdout",
          "text": [
            "\n",
            "Completed writing output to /content/df_premises_6_aug.tsv.\n",
            "Doing data augmentation from row 3000 to row 3500 \n",
            "len: 500\n"
          ]
        },
        {
          "output_type": "stream",
          "name": "stderr",
          "text": [
            "100%|██████████| 500/500 [09:03<00:00,  1.09s/it]\n"
          ]
        },
        {
          "output_type": "stream",
          "name": "stdout",
          "text": [
            "\n",
            "Completed writing output to /content/df_premises_7_aug.tsv.\n",
            "Doing data augmentation from row 3500 to row 4000 \n",
            "len: 500\n"
          ]
        },
        {
          "output_type": "stream",
          "name": "stderr",
          "text": [
            "100%|██████████| 500/500 [09:11<00:00,  1.10s/it]\n"
          ]
        },
        {
          "output_type": "stream",
          "name": "stdout",
          "text": [
            "\n",
            "Completed writing output to /content/df_premises_8_aug.tsv.\n",
            "last_start_row: 4000 \n",
            "len: 154\n"
          ]
        },
        {
          "output_type": "stream",
          "name": "stderr",
          "text": [
            "100%|██████████| 154/154 [02:56<00:00,  1.15s/it]"
          ]
        },
        {
          "output_type": "stream",
          "name": "stdout",
          "text": [
            "\n",
            "Completed writing output to /content/df_premises_final_aug.tsv.\n"
          ]
        },
        {
          "output_type": "stream",
          "name": "stderr",
          "text": [
            "\n"
          ]
        }
      ]
    },
    {
      "cell_type": "markdown",
      "source": [
        "To create the final dataframe we need to join the original dataframe with the one containing the paraphrased premises. We need to make some operations since the newly created sentences have only the premises and do not have the stance and the conclusion. <br>\n",
        "To solve this we need to:\n",
        "1. Load all the files with the augmented premises and join them into a dataframe\n",
        "2. We rename the 'Label' column in 'Argument ID' in order to do the inner join with the original training set\n",
        "3. Lastly we join the datasets and remove the duplicates"
      ],
      "metadata": {
        "id": "ZTyZauQkO0ot"
      }
    },
    {
      "cell_type": "code",
      "source": [
        "df_premises = pd.read_pickle(PROJECT_WORK_LOCAL_PATH+'/dataframe/augmented_premises-1.pkl')\n",
        "for i in range(2,total_steps):\n",
        "  tmp = pd.read_pickle(PROJECT_WORK_LOCAL_PATH+'/dataframe/augmented_premises-' + str(i) + '.pkl')\n",
        "  df_premises = pd.concat([df_premises, tmp], axis=0)\n",
        "\n",
        "tmp = pd.read_pickle(PROJECT_WORK_LOCAL_PATH+'/dataframe/augmented_premises_final.pkl')\n",
        "df_premises = pd.concat([df_premises, tmp], axis=0)\n",
        "df_premises.drop_duplicates(subset=['Text', 'Label'],inplace = True)\n",
        "df_premises.reset_index(inplace=True, drop=True)"
      ],
      "metadata": {
        "id": "H1IWLirKXkER"
      },
      "execution_count": null,
      "outputs": []
    },
    {
      "cell_type": "code",
      "source": [
        "df_premises = df_premises.rename(columns={\"Label\": \"Argument ID\"})\n",
        "df_premises.head()"
      ],
      "metadata": {
        "colab": {
          "base_uri": "https://localhost:8080/",
          "height": 206
        },
        "id": "8f64cZZ8Zc_O",
        "outputId": "9618c2cc-77f5-43aa-d584-cd4edcddc095"
      },
      "execution_count": null,
      "outputs": [
        {
          "output_type": "execute_result",
          "data": {
            "text/plain": [
              "                                                Text Argument ID\n",
              "0  wikipedia provides endless access to information.      A22488\n",
              "1  wikipedia provides an endless amount of inform...      A22488\n",
              "2  wikipedia provides the endless amount of infor...      A22488\n",
              "3  To avoid cosmetic surgery is unnecessary. It i...      A29229\n",
              "4  banning cosmetic surgery and obligatory becaus...      A29229"
            ],
            "text/html": [
              "\n",
              "  <div id=\"df-3a17c4c2-2a69-4fc4-bcdd-e5e4703b0431\">\n",
              "    <div class=\"colab-df-container\">\n",
              "      <div>\n",
              "<style scoped>\n",
              "    .dataframe tbody tr th:only-of-type {\n",
              "        vertical-align: middle;\n",
              "    }\n",
              "\n",
              "    .dataframe tbody tr th {\n",
              "        vertical-align: top;\n",
              "    }\n",
              "\n",
              "    .dataframe thead th {\n",
              "        text-align: right;\n",
              "    }\n",
              "</style>\n",
              "<table border=\"1\" class=\"dataframe\">\n",
              "  <thead>\n",
              "    <tr style=\"text-align: right;\">\n",
              "      <th></th>\n",
              "      <th>Text</th>\n",
              "      <th>Argument ID</th>\n",
              "    </tr>\n",
              "  </thead>\n",
              "  <tbody>\n",
              "    <tr>\n",
              "      <th>0</th>\n",
              "      <td>wikipedia provides endless access to information.</td>\n",
              "      <td>A22488</td>\n",
              "    </tr>\n",
              "    <tr>\n",
              "      <th>1</th>\n",
              "      <td>wikipedia provides an endless amount of inform...</td>\n",
              "      <td>A22488</td>\n",
              "    </tr>\n",
              "    <tr>\n",
              "      <th>2</th>\n",
              "      <td>wikipedia provides the endless amount of infor...</td>\n",
              "      <td>A22488</td>\n",
              "    </tr>\n",
              "    <tr>\n",
              "      <th>3</th>\n",
              "      <td>To avoid cosmetic surgery is unnecessary. It i...</td>\n",
              "      <td>A29229</td>\n",
              "    </tr>\n",
              "    <tr>\n",
              "      <th>4</th>\n",
              "      <td>banning cosmetic surgery and obligatory becaus...</td>\n",
              "      <td>A29229</td>\n",
              "    </tr>\n",
              "  </tbody>\n",
              "</table>\n",
              "</div>\n",
              "      <button class=\"colab-df-convert\" onclick=\"convertToInteractive('df-3a17c4c2-2a69-4fc4-bcdd-e5e4703b0431')\"\n",
              "              title=\"Convert this dataframe to an interactive table.\"\n",
              "              style=\"display:none;\">\n",
              "        \n",
              "  <svg xmlns=\"http://www.w3.org/2000/svg\" height=\"24px\"viewBox=\"0 0 24 24\"\n",
              "       width=\"24px\">\n",
              "    <path d=\"M0 0h24v24H0V0z\" fill=\"none\"/>\n",
              "    <path d=\"M18.56 5.44l.94 2.06.94-2.06 2.06-.94-2.06-.94-.94-2.06-.94 2.06-2.06.94zm-11 1L8.5 8.5l.94-2.06 2.06-.94-2.06-.94L8.5 2.5l-.94 2.06-2.06.94zm10 10l.94 2.06.94-2.06 2.06-.94-2.06-.94-.94-2.06-.94 2.06-2.06.94z\"/><path d=\"M17.41 7.96l-1.37-1.37c-.4-.4-.92-.59-1.43-.59-.52 0-1.04.2-1.43.59L10.3 9.45l-7.72 7.72c-.78.78-.78 2.05 0 2.83L4 21.41c.39.39.9.59 1.41.59.51 0 1.02-.2 1.41-.59l7.78-7.78 2.81-2.81c.8-.78.8-2.07 0-2.86zM5.41 20L4 18.59l7.72-7.72 1.47 1.35L5.41 20z\"/>\n",
              "  </svg>\n",
              "      </button>\n",
              "      \n",
              "  <style>\n",
              "    .colab-df-container {\n",
              "      display:flex;\n",
              "      flex-wrap:wrap;\n",
              "      gap: 12px;\n",
              "    }\n",
              "\n",
              "    .colab-df-convert {\n",
              "      background-color: #E8F0FE;\n",
              "      border: none;\n",
              "      border-radius: 50%;\n",
              "      cursor: pointer;\n",
              "      display: none;\n",
              "      fill: #1967D2;\n",
              "      height: 32px;\n",
              "      padding: 0 0 0 0;\n",
              "      width: 32px;\n",
              "    }\n",
              "\n",
              "    .colab-df-convert:hover {\n",
              "      background-color: #E2EBFA;\n",
              "      box-shadow: 0px 1px 2px rgba(60, 64, 67, 0.3), 0px 1px 3px 1px rgba(60, 64, 67, 0.15);\n",
              "      fill: #174EA6;\n",
              "    }\n",
              "\n",
              "    [theme=dark] .colab-df-convert {\n",
              "      background-color: #3B4455;\n",
              "      fill: #D2E3FC;\n",
              "    }\n",
              "\n",
              "    [theme=dark] .colab-df-convert:hover {\n",
              "      background-color: #434B5C;\n",
              "      box-shadow: 0px 1px 3px 1px rgba(0, 0, 0, 0.15);\n",
              "      filter: drop-shadow(0px 1px 2px rgba(0, 0, 0, 0.3));\n",
              "      fill: #FFFFFF;\n",
              "    }\n",
              "  </style>\n",
              "\n",
              "      <script>\n",
              "        const buttonEl =\n",
              "          document.querySelector('#df-3a17c4c2-2a69-4fc4-bcdd-e5e4703b0431 button.colab-df-convert');\n",
              "        buttonEl.style.display =\n",
              "          google.colab.kernel.accessAllowed ? 'block' : 'none';\n",
              "\n",
              "        async function convertToInteractive(key) {\n",
              "          const element = document.querySelector('#df-3a17c4c2-2a69-4fc4-bcdd-e5e4703b0431');\n",
              "          const dataTable =\n",
              "            await google.colab.kernel.invokeFunction('convertToInteractive',\n",
              "                                                     [key], {});\n",
              "          if (!dataTable) return;\n",
              "\n",
              "          const docLinkHtml = 'Like what you see? Visit the ' +\n",
              "            '<a target=\"_blank\" href=https://colab.research.google.com/notebooks/data_table.ipynb>data table notebook</a>'\n",
              "            + ' to learn more about interactive tables.';\n",
              "          element.innerHTML = '';\n",
              "          dataTable['output_type'] = 'display_data';\n",
              "          await google.colab.output.renderOutput(dataTable, element);\n",
              "          const docLink = document.createElement('div');\n",
              "          docLink.innerHTML = docLinkHtml;\n",
              "          element.appendChild(docLink);\n",
              "        }\n",
              "      </script>\n",
              "    </div>\n",
              "  </div>\n",
              "  "
            ]
          },
          "metadata": {},
          "execution_count": 27
        }
      ]
    },
    {
      "cell_type": "code",
      "source": [
        "df_tmp = df_train.copy()\n",
        "df_tmp = df_tmp.merge(df_premises, how='inner', on='Argument ID')\n",
        "df_tmp.drop('Premise', inplace=True, axis=1)\n",
        "df_tmp.rename(columns={\"Text\": \"Premise\"}, inplace= True)\n",
        "df_tmp = df_tmp[['Argument ID','Premise','Stance','Conclusion','labels']]\n",
        "df_train = df_train[['Argument ID','Premise','Stance','Conclusion','labels']]\n",
        "df_train = pd.concat([df_train, df_tmp], axis=0)\n",
        "df_train.drop_duplicates(subset=['Argument ID', 'Premise'],inplace = True)\n",
        "df_train = shuffle(df_train)\n",
        "df_train.reset_index(inplace=True, drop=True)\n",
        "\n",
        "df_train.head()"
      ],
      "metadata": {
        "colab": {
          "base_uri": "https://localhost:8080/",
          "height": 441
        },
        "id": "Kg00hjzvZXi1",
        "outputId": "02570dee-8740-425d-a64c-4d69e01c5ca2"
      },
      "execution_count": null,
      "outputs": [
        {
          "output_type": "execute_result",
          "data": {
            "text/plain": [
              "  Argument ID                                            Premise       Stance  \\\n",
              "0      A12450  Citizens should be allowed to defend themselve...      against   \n",
              "1      A24105  We have to abolish intellectual property right...  in favor of   \n",
              "2      A29450  If he received a government subsidies, journal...      against   \n",
              "3      A27181  It's unfair for a man, who wants to come work ...  in favor of   \n",
              "4      A21305  Every child has the right to be born regardles...      against   \n",
              "\n",
              "                                          Conclusion  \\\n",
              "0  We should abolish the right to keep and bear arms   \n",
              "1     We should abolish intellectual property rights   \n",
              "2                     We should subsidize journalism   \n",
              "3                 We should end mandatory retirement   \n",
              "4                   We should legalize sex selection   \n",
              "\n",
              "                                              labels  \n",
              "0  [0, 0, 0, 0, 0, 0, 0, 0, 0, 0, 0, 0, 0, 0, 1, ...  \n",
              "1  [1, 0, 0, 0, 1, 0, 0, 0, 0, 0, 0, 0, 0, 0, 0, ...  \n",
              "2  [1, 1, 0, 0, 0, 0, 0, 0, 0, 0, 0, 0, 0, 0, 0, ...  \n",
              "3  [0, 1, 0, 0, 0, 0, 1, 0, 1, 0, 0, 0, 0, 0, 0, ...  \n",
              "4  [0, 0, 0, 0, 0, 0, 0, 0, 0, 0, 0, 0, 0, 0, 0, ...  "
            ],
            "text/html": [
              "\n",
              "  <div id=\"df-fa941df3-00c5-46cf-a070-48f08d7faf7f\">\n",
              "    <div class=\"colab-df-container\">\n",
              "      <div>\n",
              "<style scoped>\n",
              "    .dataframe tbody tr th:only-of-type {\n",
              "        vertical-align: middle;\n",
              "    }\n",
              "\n",
              "    .dataframe tbody tr th {\n",
              "        vertical-align: top;\n",
              "    }\n",
              "\n",
              "    .dataframe thead th {\n",
              "        text-align: right;\n",
              "    }\n",
              "</style>\n",
              "<table border=\"1\" class=\"dataframe\">\n",
              "  <thead>\n",
              "    <tr style=\"text-align: right;\">\n",
              "      <th></th>\n",
              "      <th>Argument ID</th>\n",
              "      <th>Premise</th>\n",
              "      <th>Stance</th>\n",
              "      <th>Conclusion</th>\n",
              "      <th>labels</th>\n",
              "    </tr>\n",
              "  </thead>\n",
              "  <tbody>\n",
              "    <tr>\n",
              "      <th>0</th>\n",
              "      <td>A12450</td>\n",
              "      <td>Citizens should be allowed to defend themselve...</td>\n",
              "      <td>against</td>\n",
              "      <td>We should abolish the right to keep and bear arms</td>\n",
              "      <td>[0, 0, 0, 0, 0, 0, 0, 0, 0, 0, 0, 0, 0, 0, 1, ...</td>\n",
              "    </tr>\n",
              "    <tr>\n",
              "      <th>1</th>\n",
              "      <td>A24105</td>\n",
              "      <td>We have to abolish intellectual property right...</td>\n",
              "      <td>in favor of</td>\n",
              "      <td>We should abolish intellectual property rights</td>\n",
              "      <td>[1, 0, 0, 0, 1, 0, 0, 0, 0, 0, 0, 0, 0, 0, 0, ...</td>\n",
              "    </tr>\n",
              "    <tr>\n",
              "      <th>2</th>\n",
              "      <td>A29450</td>\n",
              "      <td>If he received a government subsidies, journal...</td>\n",
              "      <td>against</td>\n",
              "      <td>We should subsidize journalism</td>\n",
              "      <td>[1, 1, 0, 0, 0, 0, 0, 0, 0, 0, 0, 0, 0, 0, 0, ...</td>\n",
              "    </tr>\n",
              "    <tr>\n",
              "      <th>3</th>\n",
              "      <td>A27181</td>\n",
              "      <td>It's unfair for a man, who wants to come work ...</td>\n",
              "      <td>in favor of</td>\n",
              "      <td>We should end mandatory retirement</td>\n",
              "      <td>[0, 1, 0, 0, 0, 0, 1, 0, 1, 0, 0, 0, 0, 0, 0, ...</td>\n",
              "    </tr>\n",
              "    <tr>\n",
              "      <th>4</th>\n",
              "      <td>A21305</td>\n",
              "      <td>Every child has the right to be born regardles...</td>\n",
              "      <td>against</td>\n",
              "      <td>We should legalize sex selection</td>\n",
              "      <td>[0, 0, 0, 0, 0, 0, 0, 0, 0, 0, 0, 0, 0, 0, 0, ...</td>\n",
              "    </tr>\n",
              "  </tbody>\n",
              "</table>\n",
              "</div>\n",
              "      <button class=\"colab-df-convert\" onclick=\"convertToInteractive('df-fa941df3-00c5-46cf-a070-48f08d7faf7f')\"\n",
              "              title=\"Convert this dataframe to an interactive table.\"\n",
              "              style=\"display:none;\">\n",
              "        \n",
              "  <svg xmlns=\"http://www.w3.org/2000/svg\" height=\"24px\"viewBox=\"0 0 24 24\"\n",
              "       width=\"24px\">\n",
              "    <path d=\"M0 0h24v24H0V0z\" fill=\"none\"/>\n",
              "    <path d=\"M18.56 5.44l.94 2.06.94-2.06 2.06-.94-2.06-.94-.94-2.06-.94 2.06-2.06.94zm-11 1L8.5 8.5l.94-2.06 2.06-.94-2.06-.94L8.5 2.5l-.94 2.06-2.06.94zm10 10l.94 2.06.94-2.06 2.06-.94-2.06-.94-.94-2.06-.94 2.06-2.06.94z\"/><path d=\"M17.41 7.96l-1.37-1.37c-.4-.4-.92-.59-1.43-.59-.52 0-1.04.2-1.43.59L10.3 9.45l-7.72 7.72c-.78.78-.78 2.05 0 2.83L4 21.41c.39.39.9.59 1.41.59.51 0 1.02-.2 1.41-.59l7.78-7.78 2.81-2.81c.8-.78.8-2.07 0-2.86zM5.41 20L4 18.59l7.72-7.72 1.47 1.35L5.41 20z\"/>\n",
              "  </svg>\n",
              "      </button>\n",
              "      \n",
              "  <style>\n",
              "    .colab-df-container {\n",
              "      display:flex;\n",
              "      flex-wrap:wrap;\n",
              "      gap: 12px;\n",
              "    }\n",
              "\n",
              "    .colab-df-convert {\n",
              "      background-color: #E8F0FE;\n",
              "      border: none;\n",
              "      border-radius: 50%;\n",
              "      cursor: pointer;\n",
              "      display: none;\n",
              "      fill: #1967D2;\n",
              "      height: 32px;\n",
              "      padding: 0 0 0 0;\n",
              "      width: 32px;\n",
              "    }\n",
              "\n",
              "    .colab-df-convert:hover {\n",
              "      background-color: #E2EBFA;\n",
              "      box-shadow: 0px 1px 2px rgba(60, 64, 67, 0.3), 0px 1px 3px 1px rgba(60, 64, 67, 0.15);\n",
              "      fill: #174EA6;\n",
              "    }\n",
              "\n",
              "    [theme=dark] .colab-df-convert {\n",
              "      background-color: #3B4455;\n",
              "      fill: #D2E3FC;\n",
              "    }\n",
              "\n",
              "    [theme=dark] .colab-df-convert:hover {\n",
              "      background-color: #434B5C;\n",
              "      box-shadow: 0px 1px 3px 1px rgba(0, 0, 0, 0.15);\n",
              "      filter: drop-shadow(0px 1px 2px rgba(0, 0, 0, 0.3));\n",
              "      fill: #FFFFFF;\n",
              "    }\n",
              "  </style>\n",
              "\n",
              "      <script>\n",
              "        const buttonEl =\n",
              "          document.querySelector('#df-fa941df3-00c5-46cf-a070-48f08d7faf7f button.colab-df-convert');\n",
              "        buttonEl.style.display =\n",
              "          google.colab.kernel.accessAllowed ? 'block' : 'none';\n",
              "\n",
              "        async function convertToInteractive(key) {\n",
              "          const element = document.querySelector('#df-fa941df3-00c5-46cf-a070-48f08d7faf7f');\n",
              "          const dataTable =\n",
              "            await google.colab.kernel.invokeFunction('convertToInteractive',\n",
              "                                                     [key], {});\n",
              "          if (!dataTable) return;\n",
              "\n",
              "          const docLinkHtml = 'Like what you see? Visit the ' +\n",
              "            '<a target=\"_blank\" href=https://colab.research.google.com/notebooks/data_table.ipynb>data table notebook</a>'\n",
              "            + ' to learn more about interactive tables.';\n",
              "          element.innerHTML = '';\n",
              "          dataTable['output_type'] = 'display_data';\n",
              "          await google.colab.output.renderOutput(dataTable, element);\n",
              "          const docLink = document.createElement('div');\n",
              "          docLink.innerHTML = docLinkHtml;\n",
              "          element.appendChild(docLink);\n",
              "        }\n",
              "      </script>\n",
              "    </div>\n",
              "  </div>\n",
              "  "
            ]
          },
          "metadata": {},
          "execution_count": 28
        }
      ]
    },
    {
      "cell_type": "code",
      "source": [
        "df_train.shape"
      ],
      "metadata": {
        "colab": {
          "base_uri": "https://localhost:8080/"
        },
        "id": "6Kk2XCt-dJCj",
        "outputId": "ffa13e13-cbf8-41a4-b6ab-5d98ab8a7286"
      },
      "execution_count": null,
      "outputs": [
        {
          "output_type": "execute_result",
          "data": {
            "text/plain": [
              "(12540, 5)"
            ]
          },
          "metadata": {},
          "execution_count": 29
        }
      ]
    },
    {
      "cell_type": "markdown",
      "source": [
        "###Preprocessing for XGBoost"
      ],
      "metadata": {
        "id": "jjXvxqe7MUD0"
      }
    },
    {
      "cell_type": "markdown",
      "source": [
        "In order to do some preprocessing on the data we need to load the preprocessing tools"
      ],
      "metadata": {
        "id": "W_BsOvfoP4Q0"
      }
    },
    {
      "cell_type": "code",
      "source": [
        "lemmatizer = spacy.load('en_core_web_sm')\n",
        "stemmer = PorterStemmer()\n",
        "STOP_WORDS = set(stopwords.words('english'))"
      ],
      "metadata": {
        "id": "IZDx2rcPatqD"
      },
      "execution_count": null,
      "outputs": []
    },
    {
      "cell_type": "markdown",
      "source": [
        "####Preprocessing functions"
      ],
      "metadata": {
        "id": "ZXxJBGwAaRLS"
      }
    },
    {
      "cell_type": "code",
      "source": [
        "def remove_contract(s:str) -> str:\n",
        "  \"\"\"\n",
        "  Given a string, remove the contractions and extend the originl sentence.\n",
        "  For example you're becomes you are.\n",
        "\n",
        "  :param s: string to extend\n",
        "\n",
        "  :return expanded_text: string containing the original text without contractions\n",
        "  \"\"\"\n",
        "  expanded_words = []   \n",
        "  for word in s.split():\n",
        "    expanded_words.append(contractions.fix(word))  \n",
        "  expanded_text = ' '.join(expanded_words)\n",
        "  return expanded_text\n",
        "\n",
        "\n",
        "def remove_punctuations(s:str) -> str:\n",
        "  \"\"\"\n",
        "  Given a string s remove the punctuations\n",
        "\n",
        "  :param s: original string\n",
        "\n",
        "\n",
        "  :return: string which does not contain the punctuations\n",
        "  \"\"\"\n",
        "  return s.translate(str.maketrans('', '', string.punctuation))\n",
        "\n",
        "\n",
        "def remove_stopwords(s:str) -> str:\n",
        "  \"\"\"\n",
        "  Given a string, remove the stopwords from the sentence\n",
        "\n",
        "  :param s: Original sentence\n",
        "\n",
        "  :return: Sentence without stopwords \n",
        "  \"\"\"\n",
        "  return \" \".join([word for word in str(s).split() if word not in STOP_WORDS])\n",
        "\n",
        "\n",
        "def lemmatize_string(s: str)-> str:\n",
        "  \"\"\"\n",
        "  Given a sentence, lemmmatize the string\n",
        "\n",
        "  :param s: Original sentence\n",
        "\n",
        "  :return: Lemmatized sentence\n",
        "  \"\"\"\n",
        "  tmp = lemmatizer(s)\n",
        "  return ' '.join([token.lemma_ for token in tmp])\n",
        "\n",
        "\n",
        "def stem_string(s: str)-> str:\n",
        "  \"\"\"\n",
        "  Given a string, apply Porter stemming to the sentence\n",
        "\n",
        "  :param s: Original sentence\n",
        "\n",
        "  :return: Stemmed sentence  \n",
        "  \"\"\"\n",
        "  return \" \".join([stemmer.stem(word) for word in s.split()])\n",
        "\n",
        "\n",
        "def to_lowercase(s:str) -> str:\n",
        "  \"\"\"\n",
        "  Given a string, convert the string to lowercase\n",
        "\n",
        "  :param s: Original string\n",
        "\n",
        "  :return: Lowercase string\n",
        "  \"\"\"\n",
        "  return s.lower()\n",
        "\n",
        "def text_preprocessing(s : str, preprocessing_functions : List[Callable]) -> str:\n",
        "  \"\"\"\n",
        "  Given a string and a list of preprocessing fuctions, applies all the operator\n",
        "  on the given string\n",
        "\n",
        "  :param s: original string\n",
        "  :param preprocessing_functions: list of preprocessing operations which have to\n",
        "  be applied to the stringW\n",
        "\n",
        "  :return s: Original string after all the preprocessing pipeline\n",
        "  \"\"\"\n",
        "  for func in preprocessing_functions:\n",
        "    s = func(s)\n",
        "  return s\n"
      ],
      "metadata": {
        "id": "lgjVzb_FJ3T7"
      },
      "execution_count": null,
      "outputs": []
    },
    {
      "cell_type": "markdown",
      "source": [
        "An example of the chosen preprocessing pipeline, which is the following:\n",
        "\n",
        "\n",
        "*   Convert the text to lowercase\n",
        "*   Remove the contractions\n",
        "*   Remove the punctuations\n",
        "*   String normalization via lemmatization\n",
        "*   Removal of the stopwords\n",
        "\n",
        "\n"
      ],
      "metadata": {
        "id": "6vXBi-TBj4Hr"
      }
    },
    {
      "cell_type": "code",
      "source": [
        "preprocessing_steps = [to_lowercase,\n",
        "                       remove_contract, \n",
        "                       remove_punctuations,\n",
        "                       lemmatize_string,\n",
        "                       remove_stopwords]\n",
        "\n",
        "text = '''I'll be there within 5 min. Shouldn't you be there too?\n",
        "          I'd love to see u there my dear. It's awesome to meet new friends.\n",
        "          We've been waiting for this day for so long.'''\n",
        "print(f\"Original text: {text} \\n\")\n",
        "print(f\"Preprocessed text: {text_preprocessing(text,preprocessing_steps )}\")"
      ],
      "metadata": {
        "colab": {
          "base_uri": "https://localhost:8080/"
        },
        "id": "A0QZFT9ua9_v",
        "outputId": "0d6d334f-926f-49c0-e4c7-c1bebd540973"
      },
      "execution_count": null,
      "outputs": [
        {
          "output_type": "stream",
          "name": "stdout",
          "text": [
            "Original text: I'll be there within 5 min. Shouldn't you be there too?\n",
            "          I'd love to see u there my dear. It's awesome to meet new friends.\n",
            "          We've been waiting for this day for so long. \n",
            "\n",
            "Preprocessed text: I within 5 min I would love see dear awesome meet new friend wait day long\n"
          ]
        }
      ]
    },
    {
      "cell_type": "markdown",
      "source": [
        "Now we apply the preprocessing operations on a copy of the datasets which will be used only for one of the proposed approaches"
      ],
      "metadata": {
        "id": "XA21NwOyj7VU"
      }
    },
    {
      "cell_type": "code",
      "source": [
        "df_train_xgboost = df_train.copy()\n",
        "df_val_xgboost = df_val.copy()\n",
        "df_test_xgboost = df_test.copy()\n",
        "\n",
        "#training set\n",
        "tqdm.pandas()\n",
        "\n",
        "df_train_xgboost['Conclusion'] = df_train_xgboost.progress_apply(lambda x : text_preprocessing(x['Conclusion'], preprocessing_steps ), axis=1)\n",
        "df_train_xgboost['Premise'] = df_train_xgboost.progress_apply(lambda x : text_preprocessing(x['Premise'], preprocessing_steps ), axis=1)\n",
        "\n",
        "#validation set\n",
        "df_val_xgboost['Conclusion'] = df_val_xgboost.progress_apply(lambda x : text_preprocessing(x['Conclusion'], preprocessing_steps ), axis=1)\n",
        "df_val_xgboost['Premise'] = df_val_xgboost.progress_apply(lambda x : text_preprocessing(x['Premise'], preprocessing_steps ), axis=1)\n",
        "\n",
        "#test set\n",
        "df_test_xgboost['Conclusion'] = df_test_xgboost.progress_apply(lambda x : text_preprocessing(x['Conclusion'], preprocessing_steps ), axis=1)\n",
        "df_test_xgboost['Premise'] = df_test_xgboost.progress_apply(lambda x : text_preprocessing(x['Premise'], preprocessing_steps ), axis=1)\n",
        "\n",
        "\n",
        "df_train_xgboost.drop_duplicates(subset=['Conclusion', 'Premise'],inplace = True)\n",
        "df_train_xgboost.reset_index(inplace=True, drop=True)"
      ],
      "metadata": {
        "id": "P2_6T9OOj7C7",
        "colab": {
          "base_uri": "https://localhost:8080/"
        },
        "outputId": "7a5b722d-f8d8-4b91-953c-1f3be1a90072"
      },
      "execution_count": null,
      "outputs": [
        {
          "output_type": "stream",
          "name": "stderr",
          "text": [
            "100%|██████████| 12540/12540 [01:08<00:00, 183.07it/s]\n",
            "100%|██████████| 12540/12540 [01:36<00:00, 130.51it/s]\n",
            "100%|██████████| 1079/1079 [00:06<00:00, 170.67it/s]\n",
            "100%|██████████| 1079/1079 [00:08<00:00, 132.92it/s]\n",
            "100%|██████████| 1896/1896 [00:10<00:00, 183.53it/s]\n",
            "100%|██████████| 1896/1896 [00:14<00:00, 131.45it/s]\n"
          ]
        }
      ]
    },
    {
      "cell_type": "markdown",
      "source": [
        "Training set after the preprocessing"
      ],
      "metadata": {
        "id": "VvM2OjL8Bjqq"
      }
    },
    {
      "cell_type": "code",
      "source": [
        "df_train_xgboost.head()"
      ],
      "metadata": {
        "colab": {
          "base_uri": "https://localhost:8080/",
          "height": 389
        },
        "id": "hRt6RT2YAvtv",
        "outputId": "4bb5eace-3625-4fd2-af53-94c888a048c3"
      },
      "execution_count": null,
      "outputs": [
        {
          "output_type": "execute_result",
          "data": {
            "text/plain": [
              "  Argument ID                                            Premise       Stance  \\\n",
              "0      A12450  citizen allow defend lethal force lifeordeath ...      against   \n",
              "1      A24105  abolish intellectual property right law comple...  in favor of   \n",
              "2      A29450  receive government subsidy journalism would re...      against   \n",
              "3      A27181  unfair man want come work social security pay ...  in favor of   \n",
              "4      A21305  every child right bear regardless gender legal...      against   \n",
              "\n",
              "                            Conclusion  \\\n",
              "0          abolish right keep bear arm   \n",
              "1  abolish intellectual property right   \n",
              "2                 subsidize journalism   \n",
              "3             end mandatory retirement   \n",
              "4               legalize sex selection   \n",
              "\n",
              "                                              labels  \n",
              "0  [0, 0, 0, 0, 0, 0, 0, 0, 0, 0, 0, 0, 0, 0, 1, ...  \n",
              "1  [1, 0, 0, 0, 1, 0, 0, 0, 0, 0, 0, 0, 0, 0, 0, ...  \n",
              "2  [1, 1, 0, 0, 0, 0, 0, 0, 0, 0, 0, 0, 0, 0, 0, ...  \n",
              "3  [0, 1, 0, 0, 0, 0, 1, 0, 1, 0, 0, 0, 0, 0, 0, ...  \n",
              "4  [0, 0, 0, 0, 0, 0, 0, 0, 0, 0, 0, 0, 0, 0, 0, ...  "
            ],
            "text/html": [
              "\n",
              "  <div id=\"df-e3e2bd12-4634-4738-b63a-258c7c377746\">\n",
              "    <div class=\"colab-df-container\">\n",
              "      <div>\n",
              "<style scoped>\n",
              "    .dataframe tbody tr th:only-of-type {\n",
              "        vertical-align: middle;\n",
              "    }\n",
              "\n",
              "    .dataframe tbody tr th {\n",
              "        vertical-align: top;\n",
              "    }\n",
              "\n",
              "    .dataframe thead th {\n",
              "        text-align: right;\n",
              "    }\n",
              "</style>\n",
              "<table border=\"1\" class=\"dataframe\">\n",
              "  <thead>\n",
              "    <tr style=\"text-align: right;\">\n",
              "      <th></th>\n",
              "      <th>Argument ID</th>\n",
              "      <th>Premise</th>\n",
              "      <th>Stance</th>\n",
              "      <th>Conclusion</th>\n",
              "      <th>labels</th>\n",
              "    </tr>\n",
              "  </thead>\n",
              "  <tbody>\n",
              "    <tr>\n",
              "      <th>0</th>\n",
              "      <td>A12450</td>\n",
              "      <td>citizen allow defend lethal force lifeordeath ...</td>\n",
              "      <td>against</td>\n",
              "      <td>abolish right keep bear arm</td>\n",
              "      <td>[0, 0, 0, 0, 0, 0, 0, 0, 0, 0, 0, 0, 0, 0, 1, ...</td>\n",
              "    </tr>\n",
              "    <tr>\n",
              "      <th>1</th>\n",
              "      <td>A24105</td>\n",
              "      <td>abolish intellectual property right law comple...</td>\n",
              "      <td>in favor of</td>\n",
              "      <td>abolish intellectual property right</td>\n",
              "      <td>[1, 0, 0, 0, 1, 0, 0, 0, 0, 0, 0, 0, 0, 0, 0, ...</td>\n",
              "    </tr>\n",
              "    <tr>\n",
              "      <th>2</th>\n",
              "      <td>A29450</td>\n",
              "      <td>receive government subsidy journalism would re...</td>\n",
              "      <td>against</td>\n",
              "      <td>subsidize journalism</td>\n",
              "      <td>[1, 1, 0, 0, 0, 0, 0, 0, 0, 0, 0, 0, 0, 0, 0, ...</td>\n",
              "    </tr>\n",
              "    <tr>\n",
              "      <th>3</th>\n",
              "      <td>A27181</td>\n",
              "      <td>unfair man want come work social security pay ...</td>\n",
              "      <td>in favor of</td>\n",
              "      <td>end mandatory retirement</td>\n",
              "      <td>[0, 1, 0, 0, 0, 0, 1, 0, 1, 0, 0, 0, 0, 0, 0, ...</td>\n",
              "    </tr>\n",
              "    <tr>\n",
              "      <th>4</th>\n",
              "      <td>A21305</td>\n",
              "      <td>every child right bear regardless gender legal...</td>\n",
              "      <td>against</td>\n",
              "      <td>legalize sex selection</td>\n",
              "      <td>[0, 0, 0, 0, 0, 0, 0, 0, 0, 0, 0, 0, 0, 0, 0, ...</td>\n",
              "    </tr>\n",
              "  </tbody>\n",
              "</table>\n",
              "</div>\n",
              "      <button class=\"colab-df-convert\" onclick=\"convertToInteractive('df-e3e2bd12-4634-4738-b63a-258c7c377746')\"\n",
              "              title=\"Convert this dataframe to an interactive table.\"\n",
              "              style=\"display:none;\">\n",
              "        \n",
              "  <svg xmlns=\"http://www.w3.org/2000/svg\" height=\"24px\"viewBox=\"0 0 24 24\"\n",
              "       width=\"24px\">\n",
              "    <path d=\"M0 0h24v24H0V0z\" fill=\"none\"/>\n",
              "    <path d=\"M18.56 5.44l.94 2.06.94-2.06 2.06-.94-2.06-.94-.94-2.06-.94 2.06-2.06.94zm-11 1L8.5 8.5l.94-2.06 2.06-.94-2.06-.94L8.5 2.5l-.94 2.06-2.06.94zm10 10l.94 2.06.94-2.06 2.06-.94-2.06-.94-.94-2.06-.94 2.06-2.06.94z\"/><path d=\"M17.41 7.96l-1.37-1.37c-.4-.4-.92-.59-1.43-.59-.52 0-1.04.2-1.43.59L10.3 9.45l-7.72 7.72c-.78.78-.78 2.05 0 2.83L4 21.41c.39.39.9.59 1.41.59.51 0 1.02-.2 1.41-.59l7.78-7.78 2.81-2.81c.8-.78.8-2.07 0-2.86zM5.41 20L4 18.59l7.72-7.72 1.47 1.35L5.41 20z\"/>\n",
              "  </svg>\n",
              "      </button>\n",
              "      \n",
              "  <style>\n",
              "    .colab-df-container {\n",
              "      display:flex;\n",
              "      flex-wrap:wrap;\n",
              "      gap: 12px;\n",
              "    }\n",
              "\n",
              "    .colab-df-convert {\n",
              "      background-color: #E8F0FE;\n",
              "      border: none;\n",
              "      border-radius: 50%;\n",
              "      cursor: pointer;\n",
              "      display: none;\n",
              "      fill: #1967D2;\n",
              "      height: 32px;\n",
              "      padding: 0 0 0 0;\n",
              "      width: 32px;\n",
              "    }\n",
              "\n",
              "    .colab-df-convert:hover {\n",
              "      background-color: #E2EBFA;\n",
              "      box-shadow: 0px 1px 2px rgba(60, 64, 67, 0.3), 0px 1px 3px 1px rgba(60, 64, 67, 0.15);\n",
              "      fill: #174EA6;\n",
              "    }\n",
              "\n",
              "    [theme=dark] .colab-df-convert {\n",
              "      background-color: #3B4455;\n",
              "      fill: #D2E3FC;\n",
              "    }\n",
              "\n",
              "    [theme=dark] .colab-df-convert:hover {\n",
              "      background-color: #434B5C;\n",
              "      box-shadow: 0px 1px 3px 1px rgba(0, 0, 0, 0.15);\n",
              "      filter: drop-shadow(0px 1px 2px rgba(0, 0, 0, 0.3));\n",
              "      fill: #FFFFFF;\n",
              "    }\n",
              "  </style>\n",
              "\n",
              "      <script>\n",
              "        const buttonEl =\n",
              "          document.querySelector('#df-e3e2bd12-4634-4738-b63a-258c7c377746 button.colab-df-convert');\n",
              "        buttonEl.style.display =\n",
              "          google.colab.kernel.accessAllowed ? 'block' : 'none';\n",
              "\n",
              "        async function convertToInteractive(key) {\n",
              "          const element = document.querySelector('#df-e3e2bd12-4634-4738-b63a-258c7c377746');\n",
              "          const dataTable =\n",
              "            await google.colab.kernel.invokeFunction('convertToInteractive',\n",
              "                                                     [key], {});\n",
              "          if (!dataTable) return;\n",
              "\n",
              "          const docLinkHtml = 'Like what you see? Visit the ' +\n",
              "            '<a target=\"_blank\" href=https://colab.research.google.com/notebooks/data_table.ipynb>data table notebook</a>'\n",
              "            + ' to learn more about interactive tables.';\n",
              "          element.innerHTML = '';\n",
              "          dataTable['output_type'] = 'display_data';\n",
              "          await google.colab.output.renderOutput(dataTable, element);\n",
              "          const docLink = document.createElement('div');\n",
              "          docLink.innerHTML = docLinkHtml;\n",
              "          element.appendChild(docLink);\n",
              "        }\n",
              "      </script>\n",
              "    </div>\n",
              "  </div>\n",
              "  "
            ]
          },
          "metadata": {},
          "execution_count": 35
        }
      ]
    },
    {
      "cell_type": "markdown",
      "source": [
        "Now we save the created datasets"
      ],
      "metadata": {
        "id": "yw3lpfCaRLnw"
      }
    },
    {
      "cell_type": "code",
      "source": [
        "df_train_xgboost.to_pickle(PROJECT_WORK_LOCAL_PATH+'/dataframe/df_train_xgboost.pkl')\n",
        "df_val_xgboost.to_pickle(PROJECT_WORK_LOCAL_PATH+'/dataframe/df_val_xgboost.pkl')\n",
        "df_test_xgboost.to_pickle(PROJECT_WORK_LOCAL_PATH+'/dataframe/df_test_xgboost.pkl') "
      ],
      "metadata": {
        "id": "iWYF2E13ROHX"
      },
      "execution_count": null,
      "outputs": []
    },
    {
      "cell_type": "markdown",
      "source": [
        "###Data Analysis"
      ],
      "metadata": {
        "id": "uoT7Y3_Q_c8U"
      }
    },
    {
      "cell_type": "markdown",
      "source": [
        "After the data augmentation process we will further analyse our data in order to see how they changed and if we can obtain more useful informations."
      ],
      "metadata": {
        "id": "AvHjPkC2VEQl"
      }
    },
    {
      "cell_type": "markdown",
      "source": [
        "####Training data inspection\n",
        "First we start with the \"Stance\" column distribution which should present only two values as described in the challenge official page."
      ],
      "metadata": {
        "id": "j3N1PQer_pUX"
      }
    },
    {
      "cell_type": "code",
      "source": [
        "print(df_train['Stance'].value_counts())"
      ],
      "metadata": {
        "colab": {
          "base_uri": "https://localhost:8080/"
        },
        "id": "Jor1kPea_e5u",
        "outputId": "4061bfe0-b915-4656-a059-81bbdcf437d1"
      },
      "execution_count": null,
      "outputs": [
        {
          "output_type": "stream",
          "name": "stdout",
          "text": [
            "in favor of     6726\n",
            "against         5767\n",
            "in favour of      47\n",
            "Name: Stance, dtype: int64\n"
          ]
        }
      ]
    },
    {
      "cell_type": "markdown",
      "source": [
        "As we can see we have more or less the same distribution for the two classes but we have two different ways of writing \"in favor of\", we decided to correct this mapping the word \"favour\"  to \"favor\"."
      ],
      "metadata": {
        "id": "glMxZ-QbA06m"
      }
    },
    {
      "cell_type": "code",
      "source": [
        "df_train.loc[(df_train[\"Stance\"] == \"in favor of\") | (df_train[\"Stance\"] == \"in favour of\"), \"Stance\"] = \"in favor of\"\n",
        "print(df_train['Stance'].value_counts())"
      ],
      "metadata": {
        "colab": {
          "base_uri": "https://localhost:8080/"
        },
        "id": "1QhsrxK4AucH",
        "outputId": "2cb11618-3e49-42cb-adb5-6e491039d098"
      },
      "execution_count": null,
      "outputs": [
        {
          "output_type": "stream",
          "name": "stdout",
          "text": [
            "in favor of    6773\n",
            "against        5767\n",
            "Name: Stance, dtype: int64\n"
          ]
        }
      ]
    },
    {
      "cell_type": "markdown",
      "source": [
        "Then we decided to analyse the mean number of words for both the columns \"Premises\" and \"Conclusions\"."
      ],
      "metadata": {
        "id": "u88LFpBPCV12"
      }
    },
    {
      "cell_type": "code",
      "source": [
        "def get_column_stats(df : pd.DataFrame, column : str):\n",
        "  '''\n",
        "  This function allows to compute the minimum,maximum and average number\n",
        "  of words in a datframe's column\n",
        "\n",
        "  :param df: the dataframe that will be inspected\n",
        "  :param column: the name of the column considered\n",
        "\n",
        "  :return:\n",
        "    - max: the maximum number of word\n",
        "    - min: the minimum number of word\n",
        "    - avg: the average number of word\n",
        "  '''\n",
        "  number_of_words = []\n",
        "\n",
        "  for line in df[column].to_numpy():\n",
        "    number_of_words.append(len(line.split()))\n",
        "  \n",
        "  number_of_words = np.array(number_of_words)\n",
        "  min = round(np.min(number_of_words))\n",
        "  max = round(np.max(number_of_words))\n",
        "  avg = round(np.mean(number_of_words))\n",
        "  return min, max, avg"
      ],
      "metadata": {
        "id": "K_RJEIYhCiRm"
      },
      "execution_count": null,
      "outputs": []
    },
    {
      "cell_type": "code",
      "source": [
        "conclusion_min, conclusion_max, conclusion_avg = get_column_stats(df_train, 'Conclusion')\n",
        "premise_min, premise_max, premise_avg = get_column_stats(df_train, 'Premise')\n",
        "\n",
        "print(f'***************Conclusion*****************')\n",
        "print(f'Min number of words: {conclusion_min}')\n",
        "print(f'Max number of words: {conclusion_max}')\n",
        "print(f'Average number of words: {conclusion_avg}')\n",
        "\n",
        "print(f'\\n***************Premise*****************')\n",
        "print(f'Min number of words: {premise_min}')\n",
        "print(f'Max number of words: {premise_max}')\n",
        "print(f'Average number of words: {premise_avg}')"
      ],
      "metadata": {
        "colab": {
          "base_uri": "https://localhost:8080/"
        },
        "id": "V2V-T11aL3Jc",
        "outputId": "83265096-438f-4c9c-cf74-50a09c40d715"
      },
      "execution_count": null,
      "outputs": [
        {
          "output_type": "stream",
          "name": "stdout",
          "text": [
            "***************Conclusion*****************\n",
            "Min number of words: 4\n",
            "Max number of words: 35\n",
            "Average number of words: 6\n",
            "\n",
            "***************Premise*****************\n",
            "Min number of words: 3\n",
            "Max number of words: 133\n",
            "Average number of words: 21\n"
          ]
        }
      ]
    },
    {
      "cell_type": "markdown",
      "source": [
        "Now we will plot the labels distribution on training set after data augmentation."
      ],
      "metadata": {
        "id": "dkGzdFW60n7v"
      }
    },
    {
      "cell_type": "code",
      "source": [
        "all_labels = df_train['labels'].to_numpy()\n",
        "\n",
        "decoded_labels = [decode_labels(l) for l in all_labels]\n",
        "decoded_labels = list(chain(*decoded_labels))\n",
        "decoded_labels = sorted(decoded_labels)\n",
        "\n",
        "labels_key = list(Counter(decoded_labels).keys())\n",
        "labels_value = list(Counter(decoded_labels).values())\n",
        "\n",
        "fig = plt.figure(figsize = (12,6))\n",
        "fig.suptitle('Training set single label distribution', fontsize= 18)\n",
        "bars  = plt.bar(labels_key, labels_value, width = 0.75)\n",
        "plt.xlabel('Labels')\n",
        "plt.ylabel('Frequency')\n",
        "plt.xticks(labels_key, rotation=90)\n",
        "\n",
        "# access the bar attributes to place the text in the appropriate location\n",
        "for bar in bars:\n",
        "    yval = bar.get_height()\n",
        "    plt.text(bar.get_x()  - 0.05, yval + 40, yval)\n",
        "\n",
        "plt.show()\n"
      ],
      "metadata": {
        "colab": {
          "base_uri": "https://localhost:8080/",
          "height": 486
        },
        "id": "vuIPz_BZ044A",
        "outputId": "4e51d3b5-a999-4a2c-a202-cd246801b151"
      },
      "execution_count": null,
      "outputs": [
        {
          "output_type": "display_data",
          "data": {
            "text/plain": [
              "<Figure size 864x432 with 1 Axes>"
            ],
            "image/png": "[encoded data removed]"
          },
          "metadata": {
            "needs_background": "light"
          }
        }
      ]
    },
    {
      "cell_type": "markdown",
      "source": [
        "As we can see we preserved the original distribution."
      ],
      "metadata": {
        "id": "qOxiBgKUVfTq"
      }
    },
    {
      "cell_type": "markdown",
      "source": [
        "####Validation data inspection\n",
        "Again we start with the \"Stance\" column distribution."
      ],
      "metadata": {
        "id": "B7VxYhCIWA_-"
      }
    },
    {
      "cell_type": "code",
      "source": [
        "print(df_val['Stance'].value_counts())"
      ],
      "metadata": {
        "colab": {
          "base_uri": "https://localhost:8080/"
        },
        "outputId": "764a221c-8d81-4d2a-d607-cda6dce69775",
        "id": "akHIzSrtWA__"
      },
      "execution_count": null,
      "outputs": [
        {
          "output_type": "stream",
          "name": "stdout",
          "text": [
            "in favor of     575\n",
            "against         501\n",
            "in favour of      3\n",
            "Name: Stance, dtype: int64\n"
          ]
        }
      ]
    },
    {
      "cell_type": "markdown",
      "source": [
        "We need to do the same correction as the training data case."
      ],
      "metadata": {
        "id": "JBj8cI7DWBAB"
      }
    },
    {
      "cell_type": "code",
      "source": [
        "df_val.loc[(df_val[\"Stance\"] == \"in favor of\") | (df_val[\"Stance\"] == \"in favour of\"), \"Stance\"] = \"in favor of\"\n",
        "print(df_val['Stance'].value_counts())"
      ],
      "metadata": {
        "colab": {
          "base_uri": "https://localhost:8080/"
        },
        "outputId": "1ad9d144-a122-45c7-cb93-57b285e44ead",
        "id": "X_teiNy9WBAA"
      },
      "execution_count": null,
      "outputs": [
        {
          "output_type": "stream",
          "name": "stdout",
          "text": [
            "in favor of    578\n",
            "against        501\n",
            "Name: Stance, dtype: int64\n"
          ]
        }
      ]
    },
    {
      "cell_type": "markdown",
      "source": [
        "Then we analyse the mean number of words \n",
        "for both \"Premises\" and \"Conclusions\" columns."
      ],
      "metadata": {
        "id": "CCgM--xHWMe6"
      }
    },
    {
      "cell_type": "code",
      "source": [
        "conclusion_min, conclusion_max, conclusion_avg = get_column_stats(df_val, 'Conclusion')\n",
        "premise_min, premise_max, premise_avg = get_column_stats(df_val, 'Premise')\n",
        "\n",
        "print(f'***************Conclusion*****************')\n",
        "print(f'Min number of words: {conclusion_min}')\n",
        "print(f'Max number of words: {conclusion_max}')\n",
        "print(f'Average number of words: {conclusion_avg}')\n",
        "\n",
        "print(f'\\n***************Premise*****************')\n",
        "print(f'Min number of words: {premise_min}')\n",
        "print(f'Max number of words: {premise_max}')\n",
        "print(f'Average number of words: {premise_avg}')"
      ],
      "metadata": {
        "colab": {
          "base_uri": "https://localhost:8080/"
        },
        "outputId": "b47d5f63-f97a-44c3-9176-9683cedbdce7",
        "id": "u5E05cfJWBAC"
      },
      "execution_count": null,
      "outputs": [
        {
          "output_type": "stream",
          "name": "stdout",
          "text": [
            "***************Conclusion*****************\n",
            "Min number of words: 4\n",
            "Max number of words: 26\n",
            "Average number of words: 6\n",
            "\n",
            "***************Premise*****************\n",
            "Min number of words: 4\n",
            "Max number of words: 126\n",
            "Average number of words: 22\n"
          ]
        }
      ]
    },
    {
      "cell_type": "markdown",
      "source": [
        "As we can see above we have almost the same results that we got in the training set inspection."
      ],
      "metadata": {
        "id": "1D2r8AiLWBAA"
      }
    },
    {
      "cell_type": "markdown",
      "source": [
        "Now we will analyse the stats for the number of labels assigned, so we will see the minimum, the maximum and the average number of labels assigned. Moreover we will plot a bar graph to further inspect."
      ],
      "metadata": {
        "id": "SAMMq6_wVoAt"
      }
    },
    {
      "cell_type": "code",
      "source": [
        "labels_num = []\n",
        "\n",
        "for labels in df_val['labels']:\n",
        "  labels_num.append(np.sum(labels))\n",
        "\n",
        "print(f'Min assigned labels: {min(labels_num)}')\n",
        "print(f'Max assigned labels: {max(labels_num)}')\n",
        "print(f'Average assigned labels: {np.round(np.mean(labels_num))}')"
      ],
      "metadata": {
        "colab": {
          "base_uri": "https://localhost:8080/"
        },
        "outputId": "6deca840-89ab-4572-d445-843d3dd37aeb",
        "id": "Uw8nhUtGWBAC"
      },
      "execution_count": null,
      "outputs": [
        {
          "output_type": "stream",
          "name": "stdout",
          "text": [
            "Min assigned labels: 1\n",
            "Max assigned labels: 9\n",
            "Average assigned labels: 3.0\n"
          ]
        }
      ]
    },
    {
      "cell_type": "code",
      "source": [
        "labels_key = list(Counter(labels_num).keys())\n",
        "labels_value = list(Counter(labels_num).values())\n",
        "\n",
        "fig = plt.figure(figsize = (12,6))\n",
        "fig.suptitle('Validation set assigned labels distribution', fontsize= 18)\n",
        "bars  = plt.bar(labels_key, labels_value, width = 0.75)\n",
        "plt.xlabel('Labels num')\n",
        "plt.ylabel('Frequency')\n",
        "plt.xticks(labels_key)\n",
        "\n",
        "# access the bar attributes to place the text in the appropriate location\n",
        "for bar in bars:\n",
        "    yval = bar.get_height()\n",
        "    plt.text(bar.get_x()  + 0.20, yval + 5, yval)\n",
        "\n",
        "plt.show()"
      ],
      "metadata": {
        "colab": {
          "base_uri": "https://localhost:8080/",
          "height": 377
        },
        "outputId": "61601699-22c2-4d75-800d-a07521edcff7",
        "id": "I3QvZ7izWBAD"
      },
      "execution_count": null,
      "outputs": [
        {
          "output_type": "display_data",
          "data": {
            "text/plain": [
              "<Figure size 864x432 with 1 Axes>"
            ],
            "image/png": "[encoded data removed]"
          },
          "metadata": {
            "needs_background": "light"
          }
        }
      ]
    },
    {
      "cell_type": "markdown",
      "source": [
        "As we can see also on the validation set there are only a few examples of cases where more than six labels are assigned."
      ],
      "metadata": {
        "id": "N_txUM0GW7AL"
      }
    },
    {
      "cell_type": "markdown",
      "source": [
        "Finally we will analyse the labels distribution plotting a bar graph."
      ],
      "metadata": {
        "id": "dMrHhzOk3KFn"
      }
    },
    {
      "cell_type": "code",
      "source": [
        "all_labels = df_val['labels'].to_numpy()\n",
        "\n",
        "decoded_labels = [decode_labels(l) for l in all_labels]\n",
        "decoded_labels = list(chain(*decoded_labels))\n",
        "decoded_labels = sorted(decoded_labels)\n",
        "\n",
        "labels_key = list(Counter(decoded_labels).keys())\n",
        "labels_value = list(Counter(decoded_labels).values())\n",
        "\n",
        "fig = plt.figure(figsize = (12,6))\n",
        "fig.suptitle('Validation set single label distribution', fontsize= 18)\n",
        "bars  = plt.bar(labels_key, labels_value, width = 0.75)\n",
        "plt.xlabel('Labels')\n",
        "plt.ylabel('Frequency')\n",
        "plt.xticks(labels_key, rotation=90)\n",
        "\n",
        "# access the bar attributes to place the text in the appropriate location\n",
        "for bar in bars:\n",
        "    yval = bar.get_height()\n",
        "    plt.text(bar.get_x()  + 0.005, yval + 10, yval)\n",
        "\n",
        "plt.show()\n"
      ],
      "metadata": {
        "colab": {
          "base_uri": "https://localhost:8080/",
          "height": 490
        },
        "outputId": "1fc9bc3c-1591-45fa-a5e8-bf69325c8137",
        "id": "eoqQyKwb3KFo"
      },
      "execution_count": null,
      "outputs": [
        {
          "output_type": "display_data",
          "data": {
            "text/plain": [
              "<Figure size 864x432 with 1 Axes>"
            ],
            "image/png": "[encoded data removed]"
          },
          "metadata": {
            "needs_background": "light"
          }
        }
      ]
    },
    {
      "cell_type": "markdown",
      "source": [
        "As we can see in the graph above the distribution is the same as the one seen for the training set."
      ],
      "metadata": {
        "id": "CbD0I09zXAfS"
      }
    },
    {
      "cell_type": "markdown",
      "source": [
        "###Save dataframe to Google Drive"
      ],
      "metadata": {
        "id": "J7z85QVkulGH"
      }
    },
    {
      "cell_type": "markdown",
      "source": [
        "Since the data augmentation and the preprocessing phase took a discrete amount of computational time we decided to save to processed dataset to Google Drive."
      ],
      "metadata": {
        "id": "WKZGYpzSXHIF"
      }
    },
    {
      "cell_type": "markdown",
      "source": [
        "Before saving the datasets, we check the test set for \"Stance\" column spelling errors as well and replace them."
      ],
      "metadata": {
        "id": "0BX3-fegrTGn"
      }
    },
    {
      "cell_type": "code",
      "source": [
        "df_test.loc[(df_test[\"Stance\"] == \"in favor of\") | (df_test[\"Stance\"] == \"in favour of\"), \"Stance\"] = \"in favor of\"\n",
        "print(df_test['Stance'].value_counts())"
      ],
      "metadata": {
        "colab": {
          "base_uri": "https://localhost:8080/"
        },
        "id": "LElKnzs1ris-",
        "outputId": "77ddbe39-781a-4ddc-f85f-31f5693ddbb6"
      },
      "execution_count": null,
      "outputs": [
        {
          "output_type": "stream",
          "name": "stdout",
          "text": [
            "in favor of    1058\n",
            "against         838\n",
            "Name: Stance, dtype: int64\n"
          ]
        }
      ]
    },
    {
      "cell_type": "code",
      "source": [
        "df_train.to_pickle(PROJECT_WORK_LOCAL_PATH+'/dataframe/df_train.pkl')\n",
        "df_val.to_pickle(PROJECT_WORK_LOCAL_PATH+'/dataframe/df_val.pkl')\n",
        "df_test.to_pickle(PROJECT_WORK_LOCAL_PATH+'/dataframe/df_test.pkl') "
      ],
      "metadata": {
        "id": "WcbDKQ4NutqA"
      },
      "execution_count": null,
      "outputs": []
    },
    {
      "cell_type": "markdown",
      "source": [
        "## Restore dataframes"
      ],
      "metadata": {
        "id": "gl4j5R2W0MCz"
      }
    },
    {
      "cell_type": "markdown",
      "source": [
        "In this section we just restore the previously stored dataset in order to save time."
      ],
      "metadata": {
        "id": "jkZwa8kDXMmU"
      }
    },
    {
      "cell_type": "code",
      "source": [
        "df_train = pd.read_pickle(PROJECT_WORK_LOCAL_PATH+'/dataframe/df_train.pkl')\n",
        "df_val = pd.read_pickle(PROJECT_WORK_LOCAL_PATH+'/dataframe/df_val.pkl')\n",
        "df_test = pd.read_pickle(PROJECT_WORK_LOCAL_PATH+'/dataframe/df_test.pkl')\n",
        "\n",
        "df_train_xgboost = pd.read_pickle(PROJECT_WORK_LOCAL_PATH+'/dataframe/df_train_xgboost.pkl')\n",
        "df_val_xgboost = pd.read_pickle(PROJECT_WORK_LOCAL_PATH+'/dataframe/df_val_xgboost.pkl')\n",
        "df_test_xgboost = pd.read_pickle(PROJECT_WORK_LOCAL_PATH+'/dataframe/df_test_xgboost.pkl')\n",
        "\n",
        "print('Dataset splits statistics: ')\n",
        "print(f'Train data shape: {df_train.shape}')\n",
        "print(f'Validation data shape: {df_val.shape}')\n",
        "print(f'Test data shape: {df_test.shape}')"
      ],
      "metadata": {
        "colab": {
          "base_uri": "https://localhost:8080/"
        },
        "id": "w6esDFyg12Y0",
        "outputId": "dfb535d4-7b88-4425-d7d5-9e6a0c3d0ab4"
      },
      "execution_count": null,
      "outputs": [
        {
          "output_type": "stream",
          "name": "stdout",
          "text": [
            "Dataset splits statistics: \n",
            "Train data shape: (12537, 5)\n",
            "Validation data shape: (1079, 5)\n",
            "Test data shape: (1896, 5)\n"
          ]
        }
      ]
    },
    {
      "cell_type": "markdown",
      "source": [
        "Some example of training data after restoring"
      ],
      "metadata": {
        "id": "-hZUS4ne3Psc"
      }
    },
    {
      "cell_type": "code",
      "source": [
        "df_train.head()"
      ],
      "metadata": {
        "colab": {
          "base_uri": "https://localhost:8080/",
          "height": 206
        },
        "id": "pJGUmVA13UQH",
        "outputId": "05d362a9-135e-46b4-cf83-53f94dc3853a"
      },
      "execution_count": null,
      "outputs": [
        {
          "output_type": "execute_result",
          "data": {
            "text/plain": [
              "  Argument ID                                            Premise       Stance  \\\n",
              "0      E02053  There should be more time spent in keeping the...  in favor of   \n",
              "1      A30338  Libertarianism is cruel and short-sighted, and...      against   \n",
              "2      A23410  nuclear weapons are important in the fight aga...      against   \n",
              "3      D27038  Many false domestic violence cases are being r...  in favor of   \n",
              "4      A30319  Many television shows and films play child rol...      against   \n",
              "\n",
              "                                          Conclusion  \\\n",
              "0  The European Union should support and integrat...   \n",
              "1                     We should adopt libertarianism   \n",
              "2  We should fight for the abolition of nuclear w...   \n",
              "3      Men are silent sufferers in this modern world   \n",
              "4              We should ban the use of child actors   \n",
              "\n",
              "                                              labels  \n",
              "0  [0, 0, 0, 0, 0, 0, 0, 0, 1, 1, 0, 0, 0, 0, 0, ...  \n",
              "1  [0, 0, 0, 0, 0, 0, 0, 0, 1, 0, 0, 0, 0, 0, 0, ...  \n",
              "2  [0, 0, 0, 0, 0, 1, 0, 0, 0, 1, 0, 0, 0, 0, 0, ...  \n",
              "3  [0, 0, 0, 0, 0, 0, 0, 0, 0, 0, 0, 0, 0, 0, 0, ...  \n",
              "4  [1, 1, 0, 0, 1, 0, 0, 0, 0, 0, 0, 0, 0, 0, 0, ...  "
            ],
            "text/html": [
              "\n",
              "  <div id=\"df-a023c5d9-f48b-421e-92fd-acfba11e9f60\">\n",
              "    <div class=\"colab-df-container\">\n",
              "      <div>\n",
              "<style scoped>\n",
              "    .dataframe tbody tr th:only-of-type {\n",
              "        vertical-align: middle;\n",
              "    }\n",
              "\n",
              "    .dataframe tbody tr th {\n",
              "        vertical-align: top;\n",
              "    }\n",
              "\n",
              "    .dataframe thead th {\n",
              "        text-align: right;\n",
              "    }\n",
              "</style>\n",
              "<table border=\"1\" class=\"dataframe\">\n",
              "  <thead>\n",
              "    <tr style=\"text-align: right;\">\n",
              "      <th></th>\n",
              "      <th>Argument ID</th>\n",
              "      <th>Premise</th>\n",
              "      <th>Stance</th>\n",
              "      <th>Conclusion</th>\n",
              "      <th>labels</th>\n",
              "    </tr>\n",
              "  </thead>\n",
              "  <tbody>\n",
              "    <tr>\n",
              "      <th>0</th>\n",
              "      <td>E02053</td>\n",
              "      <td>There should be more time spent in keeping the...</td>\n",
              "      <td>in favor of</td>\n",
              "      <td>The European Union should support and integrat...</td>\n",
              "      <td>[0, 0, 0, 0, 0, 0, 0, 0, 1, 1, 0, 0, 0, 0, 0, ...</td>\n",
              "    </tr>\n",
              "    <tr>\n",
              "      <th>1</th>\n",
              "      <td>A30338</td>\n",
              "      <td>Libertarianism is cruel and short-sighted, and...</td>\n",
              "      <td>against</td>\n",
              "      <td>We should adopt libertarianism</td>\n",
              "      <td>[0, 0, 0, 0, 0, 0, 0, 0, 1, 0, 0, 0, 0, 0, 0, ...</td>\n",
              "    </tr>\n",
              "    <tr>\n",
              "      <th>2</th>\n",
              "      <td>A23410</td>\n",
              "      <td>nuclear weapons are important in the fight aga...</td>\n",
              "      <td>against</td>\n",
              "      <td>We should fight for the abolition of nuclear w...</td>\n",
              "      <td>[0, 0, 0, 0, 0, 1, 0, 0, 0, 1, 0, 0, 0, 0, 0, ...</td>\n",
              "    </tr>\n",
              "    <tr>\n",
              "      <th>3</th>\n",
              "      <td>D27038</td>\n",
              "      <td>Many false domestic violence cases are being r...</td>\n",
              "      <td>in favor of</td>\n",
              "      <td>Men are silent sufferers in this modern world</td>\n",
              "      <td>[0, 0, 0, 0, 0, 0, 0, 0, 0, 0, 0, 0, 0, 0, 0, ...</td>\n",
              "    </tr>\n",
              "    <tr>\n",
              "      <th>4</th>\n",
              "      <td>A30319</td>\n",
              "      <td>Many television shows and films play child rol...</td>\n",
              "      <td>against</td>\n",
              "      <td>We should ban the use of child actors</td>\n",
              "      <td>[1, 1, 0, 0, 1, 0, 0, 0, 0, 0, 0, 0, 0, 0, 0, ...</td>\n",
              "    </tr>\n",
              "  </tbody>\n",
              "</table>\n",
              "</div>\n",
              "      <button class=\"colab-df-convert\" onclick=\"convertToInteractive('df-a023c5d9-f48b-421e-92fd-acfba11e9f60')\"\n",
              "              title=\"Convert this dataframe to an interactive table.\"\n",
              "              style=\"display:none;\">\n",
              "        \n",
              "  <svg xmlns=\"http://www.w3.org/2000/svg\" height=\"24px\"viewBox=\"0 0 24 24\"\n",
              "       width=\"24px\">\n",
              "    <path d=\"M0 0h24v24H0V0z\" fill=\"none\"/>\n",
              "    <path d=\"M18.56 5.44l.94 2.06.94-2.06 2.06-.94-2.06-.94-.94-2.06-.94 2.06-2.06.94zm-11 1L8.5 8.5l.94-2.06 2.06-.94-2.06-.94L8.5 2.5l-.94 2.06-2.06.94zm10 10l.94 2.06.94-2.06 2.06-.94-2.06-.94-.94-2.06-.94 2.06-2.06.94z\"/><path d=\"M17.41 7.96l-1.37-1.37c-.4-.4-.92-.59-1.43-.59-.52 0-1.04.2-1.43.59L10.3 9.45l-7.72 7.72c-.78.78-.78 2.05 0 2.83L4 21.41c.39.39.9.59 1.41.59.51 0 1.02-.2 1.41-.59l7.78-7.78 2.81-2.81c.8-.78.8-2.07 0-2.86zM5.41 20L4 18.59l7.72-7.72 1.47 1.35L5.41 20z\"/>\n",
              "  </svg>\n",
              "      </button>\n",
              "      \n",
              "  <style>\n",
              "    .colab-df-container {\n",
              "      display:flex;\n",
              "      flex-wrap:wrap;\n",
              "      gap: 12px;\n",
              "    }\n",
              "\n",
              "    .colab-df-convert {\n",
              "      background-color: #E8F0FE;\n",
              "      border: none;\n",
              "      border-radius: 50%;\n",
              "      cursor: pointer;\n",
              "      display: none;\n",
              "      fill: #1967D2;\n",
              "      height: 32px;\n",
              "      padding: 0 0 0 0;\n",
              "      width: 32px;\n",
              "    }\n",
              "\n",
              "    .colab-df-convert:hover {\n",
              "      background-color: #E2EBFA;\n",
              "      box-shadow: 0px 1px 2px rgba(60, 64, 67, 0.3), 0px 1px 3px 1px rgba(60, 64, 67, 0.15);\n",
              "      fill: #174EA6;\n",
              "    }\n",
              "\n",
              "    [theme=dark] .colab-df-convert {\n",
              "      background-color: #3B4455;\n",
              "      fill: #D2E3FC;\n",
              "    }\n",
              "\n",
              "    [theme=dark] .colab-df-convert:hover {\n",
              "      background-color: #434B5C;\n",
              "      box-shadow: 0px 1px 3px 1px rgba(0, 0, 0, 0.15);\n",
              "      filter: drop-shadow(0px 1px 2px rgba(0, 0, 0, 0.3));\n",
              "      fill: #FFFFFF;\n",
              "    }\n",
              "  </style>\n",
              "\n",
              "      <script>\n",
              "        const buttonEl =\n",
              "          document.querySelector('#df-a023c5d9-f48b-421e-92fd-acfba11e9f60 button.colab-df-convert');\n",
              "        buttonEl.style.display =\n",
              "          google.colab.kernel.accessAllowed ? 'block' : 'none';\n",
              "\n",
              "        async function convertToInteractive(key) {\n",
              "          const element = document.querySelector('#df-a023c5d9-f48b-421e-92fd-acfba11e9f60');\n",
              "          const dataTable =\n",
              "            await google.colab.kernel.invokeFunction('convertToInteractive',\n",
              "                                                     [key], {});\n",
              "          if (!dataTable) return;\n",
              "\n",
              "          const docLinkHtml = 'Like what you see? Visit the ' +\n",
              "            '<a target=\"_blank\" href=https://colab.research.google.com/notebooks/data_table.ipynb>data table notebook</a>'\n",
              "            + ' to learn more about interactive tables.';\n",
              "          element.innerHTML = '';\n",
              "          dataTable['output_type'] = 'display_data';\n",
              "          await google.colab.output.renderOutput(dataTable, element);\n",
              "          const docLink = document.createElement('div');\n",
              "          docLink.innerHTML = docLinkHtml;\n",
              "          element.appendChild(docLink);\n",
              "        }\n",
              "      </script>\n",
              "    </div>\n",
              "  </div>\n",
              "  "
            ]
          },
          "metadata": {},
          "execution_count": 7
        }
      ]
    },
    {
      "cell_type": "markdown",
      "source": [
        "## XGBoost\n",
        "The first approach we propose consists into using an ensemble method, known as XGBoost to assign the labels to the data. <br>\n",
        "\n",
        "This techinque uses Gradient boosting, which consists of using an ensemble of weak classifiers, in our case an ensemble of tree models, to make a prediction. We decided to use this particular machine learning based architecture because it is currently used in some multi-label classification task and it is a good baseline model."
      ],
      "metadata": {
        "id": "NmLrCxOc6ko2"
      }
    },
    {
      "cell_type": "code",
      "execution_count": null,
      "metadata": {
        "id": "yI75ukgYRQYh"
      },
      "outputs": [],
      "source": [
        "def transform_y(train_labels: pandas.core.series.Series, \n",
        "                val_labels: pandas.core.series.Series,\n",
        "                test_labels: pandas.core.series.Series):\n",
        "    \"\"\"\n",
        "    The function converts the labels for the training, validation and test sets\n",
        "    binarizing them with a MultiLabelBinarizer. It produces then the binarized \n",
        "    versions of the arrays.\n",
        "\n",
        "    :param train_labels: Series containing all the ground truths for the training set\n",
        "    :param val_labels: Series containing all the ground truths for the validation set\n",
        "    :param test_labels: Series containing all the ground truths for the test set\n",
        "\n",
        "\n",
        "    :return: Binarized version of the labels for each set\n",
        "    \"\"\"\n",
        "    train_labels = train_labels.apply(lambda x: [i for i, x in enumerate(x) if x == 1])\n",
        "    val_labels = val_labels.apply(lambda x: [i for i, x in enumerate(x) if x == 1])\n",
        "    test_labels = test_labels.apply(lambda x: [i for i, x in enumerate(x) if x == 1])\n",
        "\n",
        "    mlb = MultiLabelBinarizer()\n",
        "    mlb.fit(train_labels)\n",
        "\n",
        "    mlb_train = mlb.transform(train_labels)\n",
        "    mlb_val = mlb.transform(val_labels)\n",
        "    mlb_test = mlb.transform(test_labels)\n",
        "\n",
        "\n",
        "    return mlb_train, mlb_val, mlb_test, mlb\n",
        "\n",
        "\n",
        "def train_pipeline(X_train, y_train):\n",
        "    \"\"\"\n",
        "    The method allows to create and train a machine learning pipeline made of \n",
        "    two steps, given the training data. In the first step of the pipeline there\n",
        "    is a vectorizer which converts the documents into their tf-idf vectors and \n",
        "    then the document vector is fed into the boosting model.\n",
        "\n",
        "    :param  X_train: training arguments\n",
        "    :praam  y_train: training labels\n",
        "    \"\"\"\n",
        "    xgb = Pipeline([\n",
        "        ('tfidf', TfidfVectorizer(\n",
        "            min_df=0.1,\n",
        "            ngram_range=(1, 1),\n",
        "            use_idf=1,\n",
        "            smooth_idf=1,\n",
        "            sublinear_tf=1)),\n",
        "        ('clf', LabelPowerset(\n",
        "            XGBRFClassifier(       \n",
        "                random_state=42,\n",
        "                n_jobs=-1,\n",
        "                max_depth=7,\n",
        "                n_estimators=65,\n",
        "                )\n",
        "            ))\n",
        "    ])\n",
        "\n",
        "    xgb.fit(X_train, y_train)\n",
        "    print(\"Finished training\")\n",
        "\n",
        "    return xgb"
      ]
    },
    {
      "cell_type": "code",
      "execution_count": null,
      "metadata": {
        "id": "STr6T0BhKBIP",
        "colab": {
          "base_uri": "https://localhost:8080/"
        },
        "outputId": "f81bf0b7-1cbe-406a-b9cf-671577ca17bc"
      },
      "outputs": [
        {
          "output_type": "stream",
          "name": "stderr",
          "text": [
            "/usr/local/lib/python3.8/dist-packages/sklearn/preprocessing/_label.py:875: UserWarning: unknown class(es) [12, 2, 3] will be ignored\n",
            "  warnings.warn(\n"
          ]
        }
      ],
      "source": [
        "x_train = df_train_xgboost['Premise'].apply(lambda x : x  + ' ')   + df_train_xgboost['Stance'].apply(lambda x : x  + ' ') + df_train_xgboost['Conclusion']\n",
        "x_val = df_val_xgboost['Premise'].apply(lambda x : x  + ' ')   + df_val_xgboost['Stance'].apply(lambda x : x  + ' ') + df_val_xgboost['Conclusion']\n",
        "x_test = df_test_xgboost['Premise'].apply(lambda x : x  + ' ')   + df_test_xgboost['Stance'].apply(lambda x : x  + ' ') + df_test_xgboost['Conclusion']\n",
        "\n",
        "y_train, y_val, y_test, mlb = transform_y(df_train_xgboost['labels'], df_val_xgboost['labels'], df_test_xgboost['labels'])"
      ]
    },
    {
      "cell_type": "code",
      "execution_count": null,
      "metadata": {
        "colab": {
          "base_uri": "https://localhost:8080/"
        },
        "id": "NCHfn6aXSgMH",
        "outputId": "4cebe6a5-4e31-4285-f490-834ae3c41edb"
      },
      "outputs": [
        {
          "output_type": "stream",
          "name": "stdout",
          "text": [
            "Finished training\n"
          ]
        }
      ],
      "source": [
        "model = train_pipeline(x_train,y_train)"
      ]
    },
    {
      "cell_type": "markdown",
      "source": [
        "After fitting the model to the training data we test it and compute the f1 scores of the model."
      ],
      "metadata": {
        "id": "EIYXCxkoK58g"
      }
    },
    {
      "cell_type": "code",
      "execution_count": null,
      "metadata": {
        "id": "29uN07qrXeWY"
      },
      "outputs": [],
      "source": [
        "res = model.predict(x_test)"
      ]
    },
    {
      "cell_type": "code",
      "execution_count": null,
      "metadata": {
        "colab": {
          "base_uri": "https://localhost:8080/"
        },
        "id": "jAGkVp5HZeZ6",
        "outputId": "c4d81cfd-6d50-4ad8-9fed-51ac66d72b9b"
      },
      "outputs": [
        {
          "output_type": "stream",
          "name": "stdout",
          "text": [
            "--------------------------- micro ------------------\n",
            "Precision:  0.3294050014371946\n",
            "Recall:  0.18917134367778143\n",
            "F1:  0.24032714690154133\n",
            "\n",
            "--------------------------- macro ------------------\n",
            "Precision:  0.6914832165611914\n",
            "Recall:  0.12345642736967602\n",
            "F1:  0.10395006573966227\n",
            "\n",
            "--------------------------- samples ------------------\n",
            "Precision:  0.32832278481012656\n",
            "Recall:  0.19765358147478398\n",
            "F1:  0.23355769874757218\n",
            "\n",
            "--------------------------- weighted ------------------\n",
            "Precision:  0.6282245132254105\n",
            "Recall:  0.18917134367778143\n",
            "F1:  0.16195018943081915\n",
            "\n"
          ]
        }
      ],
      "source": [
        "y_pred = []\n",
        "for i in range(len(y_test)):\n",
        "  y_pred.append(res[i].toarray()[0])\n",
        "\n",
        "averaging_techniques = [ 'micro', 'macro', 'samples', 'weighted']\n",
        "\n",
        "for avg in averaging_techniques:\n",
        "  precision = precision_score(y_test,y_pred, average=avg, zero_division=1)\n",
        "  recall = recall_score(y_test,y_pred,average=avg,zero_division=1)\n",
        "  f1 = f1_score(y_test,y_pred,average=avg,zero_division=1)\n",
        "\n",
        "  print('--------------------------- {} ------------------'.format(avg))\n",
        "  print(\"Precision: \", precision)\n",
        "  print(\"Recall: \", recall)\n",
        "  print(\"F1: \", f1)\n",
        "  print()"
      ]
    },
    {
      "cell_type": "code",
      "source": [
        "print(classification_report(y_test,y_pred, zero_division=1))"
      ],
      "metadata": {
        "colab": {
          "base_uri": "https://localhost:8080/"
        },
        "id": "tjFgTpTvGZ3e",
        "outputId": "be1e796d-554d-4171-ec5f-24ebc490cc45"
      },
      "execution_count": null,
      "outputs": [
        {
          "output_type": "stream",
          "name": "stdout",
          "text": [
            "              precision    recall  f1-score   support\n",
            "\n",
            "           0       0.15      0.17      0.16       251\n",
            "           1       0.41      0.36      0.39       496\n",
            "           2       1.00      0.00      0.00       575\n",
            "           3       1.00      0.00      0.00       164\n",
            "           4       1.00      0.00      0.00       132\n",
            "           5       1.00      0.00      0.00       130\n",
            "           6       0.49      0.22      0.30       759\n",
            "           7       0.30      0.70      0.42       488\n",
            "           8       1.00      0.00      0.00       172\n",
            "           9       0.00      0.00      0.00       455\n",
            "          10       1.00      0.00      0.00       127\n",
            "          11       1.00      0.00      0.00       633\n",
            "          12       1.00      0.00      0.00       268\n",
            "          13       0.36      0.60      0.45       687\n",
            "          14       0.05      0.06      0.05       127\n",
            "          15       1.00      0.00      0.00       223\n",
            "          16       1.00      0.00      0.00       371\n",
            "\n",
            "   micro avg       0.33      0.19      0.24      6058\n",
            "   macro avg       0.69      0.12      0.10      6058\n",
            "weighted avg       0.63      0.19      0.16      6058\n",
            " samples avg       0.33      0.20      0.23      6058\n",
            "\n"
          ]
        }
      ]
    },
    {
      "cell_type": "markdown",
      "source": [
        "## Transformers\n",
        "Transformer architecture was introduced by Google in 2017, since then thanks to the self-attention mechanism, which allows to process the entire input as a single sequence, they have replaced recurrent neural networks (RNN) in many Natural Language Processing (NLP) and Computer Vision (CV) tasks.\n",
        "In particular, thanks to the self-attention mechanism Transformers can be trained on larger datasets using the additional parallelization. This has led to the creation of pre-trained systems such as BERT (Bidirectional Encoder Representations from Transformers) and GPT (Generative Pre-trained Transformer).\n",
        "In this work, we will try to solve the multi-label classification problem using three different architectures based on Transformers:\n",
        "- BERT-base\n",
        "- roBERTA-base\n",
        "- XLNet\n"
      ],
      "metadata": {
        "id": "9aLJo120Yl82"
      }
    },
    {
      "cell_type": "markdown",
      "source": [
        "### Common functions\n",
        "In this section, we will collect all the common functions used to train and evaluate the three models"
      ],
      "metadata": {
        "id": "wl_3nrFU3GMZ"
      }
    },
    {
      "cell_type": "markdown",
      "source": [
        "#### Output decoding\n",
        "In order to decode the output of the models we need a function that maps back the one-hot encode of the labels"
      ],
      "metadata": {
        "id": "C1gtmT_044BO"
      }
    },
    {
      "cell_type": "code",
      "source": [
        "LABELS_LIST = [\"Self-direction: thought\",\n",
        "               \"Self-direction: action\", \n",
        "               \"Stimulation\",\n",
        "               \"Hedonism\",\n",
        "               \"Achievement\",\n",
        "               \"Power: dominance\", \n",
        "               \"Power: resources\",\n",
        "               \"Face\",\n",
        "               \"Security: personal\",\n",
        "               \"Security: societal\",\n",
        "               \"Tradition\", \n",
        "               \"Conformity: rules\",\n",
        "               \"Conformity: interpersonal\",\n",
        "               \"Humility\",\n",
        "               \"Benevolence: caring\",\n",
        "               \"Benevolence: dependability\", \n",
        "               \"Universalism: concern\", \n",
        "               \"Universalism: nature\",\n",
        "               \"Universalism: tolerance\",\n",
        "               \"Universalism: objectivity\"]\n",
        "\n",
        "def decode_labels(labels_array : List[int]) -> List[str]:\n",
        "  \"\"\"\n",
        "  Function which allows to obtain the list of the labels, given the one hot \n",
        "  encoding. In case of a multi-label problem the list can have more than one\n",
        "  element.\n",
        "\n",
        "  :param labels_array: List containing the one-hot encoding we want to decode\n",
        "\n",
        "  :return classes_label: List containing the classes of the given one hot encoded\n",
        "  labels\n",
        "  \"\"\"\n",
        "  class_indexes = np.where(labels_array != 0)[0]\n",
        "  classes_labels = []\n",
        "\n",
        "  for idx in class_indexes:\n",
        "    classes_labels.append(LABELS_LIST[idx])\n",
        "\n",
        "  return classes_labels"
      ],
      "metadata": {
        "id": "PcOxSmq_4-HM"
      },
      "execution_count": null,
      "outputs": []
    },
    {
      "cell_type": "markdown",
      "source": [
        "#### Custom loss function: DBloss\n",
        "To improve our models with respect to the class imbalance present in the dataset we have tried various loss functions, in particular in addition to the Binary Cross Entropy (BCE), which is the standard loss used for multi-label classification, we have found in the literature the\n",
        "[Distribution Balanced Loss \n",
        "(DBloss)](https://arxiv.org/pdf/2109.04712v2.pdf). \\\\\n",
        "\n",
        "\n",
        "To use the latter we need to download and import the implementation from github"
      ],
      "metadata": {
        "id": "-l1Ag9XJSkNz"
      }
    },
    {
      "cell_type": "code",
      "source": [
        "!wget https://raw.githubusercontent.com/Roche/BalancedLossNLP/main/Reuters/util_loss.py\n",
        "from util_loss import ResampleLoss"
      ],
      "metadata": {
        "colab": {
          "base_uri": "https://localhost:8080/"
        },
        "id": "SHj7G4Ug03am",
        "outputId": "0f80b38d-7289-4a7f-d06c-2bd182339d33"
      },
      "execution_count": null,
      "outputs": [
        {
          "output_type": "stream",
          "name": "stdout",
          "text": [
            "--2023-01-06 18:29:07--  https://raw.githubusercontent.com/Roche/BalancedLossNLP/main/Reuters/util_loss.py\n",
            "Resolving raw.githubusercontent.com (raw.githubusercontent.com)... 185.199.108.133, 185.199.109.133, 185.199.110.133, ...\n",
            "Connecting to raw.githubusercontent.com (raw.githubusercontent.com)|185.199.108.133|:443... connected.\n",
            "HTTP request sent, awaiting response... 200 OK\n",
            "Length: 9801 (9.6K) [text/plain]\n",
            "Saving to: ‘util_loss.py.1’\n",
            "\n",
            "\rutil_loss.py.1        0%[                    ]       0  --.-KB/s               \rutil_loss.py.1      100%[===================>]   9.57K  --.-KB/s    in 0s      \n",
            "\n",
            "2023-01-06 18:29:07 (71.6 MB/s) - ‘util_loss.py.1’ saved [9801/9801]\n",
            "\n"
          ]
        }
      ]
    },
    {
      "cell_type": "markdown",
      "source": [
        "We need to compute the following parameters used by DBloss implementation:\n",
        "- *train_num,* i.e. simply the length of the training set;\n",
        "- *class_freq*, i.e. occurrence counter for each label."
      ],
      "metadata": {
        "id": "F5ttyyGsS8P-"
      }
    },
    {
      "cell_type": "code",
      "source": [
        "all_labels = df_train['labels'].to_numpy()\n",
        "\n",
        "class_freq = {}\n",
        "\n",
        "decoded_labels = [decode_labels(l) for l in all_labels]\n",
        "decoded_labels = list(chain(*decoded_labels))\n",
        "\n",
        "for label in LABELS_LIST:\n",
        "  class_freq.update({label : decoded_labels.count(label)})\n",
        "\n",
        "train_num = len(df_train)\n",
        "print(class_freq)"
      ],
      "metadata": {
        "colab": {
          "base_uri": "https://localhost:8080/"
        },
        "id": "H90VPyJ-wXx1",
        "outputId": "8e2539c8-41c5-4fea-eec7-5ab3d4b6f94a"
      },
      "execution_count": null,
      "outputs": [
        {
          "output_type": "stream",
          "name": "stdout",
          "text": [
            "{'Self-direction: thought': 2264, 'Self-direction: action': 3196, 'Stimulation': 0, 'Hedonism': 0, 'Achievement': 3461, 'Power: dominance': 1339, 'Power: resources': 1414, 'Face': 812, 'Security: personal': 4571, 'Security: societal': 3943, 'Tradition': 1262, 'Conformity: rules': 2627, 'Conformity: interpersonal': 0, 'Humility': 903, 'Benevolence: caring': 2960, 'Benevolence: dependability': 1846, 'Universalism: concern': 4730, 'Universalism: nature': 988, 'Universalism: tolerance': 1444, 'Universalism: objectivity': 2354}\n"
          ]
        }
      ]
    },
    {
      "cell_type": "markdown",
      "source": [
        "####Defining Multi-label classifier base class\n",
        "To test different loss functions we need to override the *Forward* method of Hugginface's *AutoModelForSequenceClassification* class, so we will define a custom class specifically for multi-label classification and allowing to switch between different loss in the *Forward* method"
      ],
      "metadata": {
        "id": "K54r390r4RN8"
      }
    },
    {
      "cell_type": "code",
      "source": [
        "#Default loss used\n",
        "LOSS_NAME='BCE'\n",
        "\n",
        "class AutoModelMultilabelSequenceClassification(AutoModelForSequenceClassification):\n",
        "  \n",
        "    def __init__(self, config):\n",
        "      super().__init__(config)\n",
        "\n",
        "    def forward(self,\n",
        "        input_ids=None,\n",
        "        attention_mask=None,\n",
        "        token_type_ids=None,\n",
        "        position_ids=None,\n",
        "        head_mask=None,\n",
        "        inputs_embeds=None,\n",
        "        labels=None,\n",
        "        output_attentions=None,\n",
        "        output_hidden_states=None,\n",
        "        return_dict=None):\n",
        "        return_dict = return_dict if return_dict is not None else self.config.use_return_dict\n",
        "\n",
        "        outputs = self.bert(input_ids,\n",
        "            attention_mask=attention_mask,\n",
        "            token_type_ids=token_type_ids,\n",
        "            position_ids=position_ids,\n",
        "            head_mask=head_mask,\n",
        "            inputs_embeds=inputs_embeds,\n",
        "            output_attentions=output_attentions,\n",
        "            output_hidden_states=output_hidden_states,\n",
        "            return_dict=return_dict)\n",
        "\n",
        "        pooled_output = outputs[1]\n",
        "        pooled_output = self.dropout(pooled_output)\n",
        "        logits = self.classifier(pooled_output)\n",
        "\n",
        "        loss = None\n",
        "        if labels is not None:\n",
        "            \n",
        "            \n",
        "            if LOSS_NAME == 'DBloss':\n",
        "              loss_fct = ResampleLoss(reweight_func='rebalance', loss_weight=1.0,\n",
        "                                focal=dict(focal=True, alpha=0.5, gamma=2),\n",
        "                                logit_reg=dict(init_bias=0.05, neg_scale=2.0),\n",
        "                                map_param=dict(alpha=0.1, beta=10.0, gamma=0.25), \n",
        "                                class_freq=class_freq, train_num=train_num)\n",
        "            else:\n",
        "              loss_fct = torch.nn.BCEWithLogitsLoss()\n",
        "\n",
        "            loss = loss_fct(logits.view(-1, self.num_labels), \n",
        "                            labels.float().view(-1, self.num_labels))\n",
        "            \n",
        "\n",
        "        if not return_dict:\n",
        "            output = (logits,) + outputs[2:]\n",
        "            return ((loss,) + output) if loss is not None else output\n",
        "\n",
        "        return SequenceClassifierOutput(loss=loss,\n",
        "            logits=logits,\n",
        "            hidden_states=outputs.hidden_states,\n",
        "            attentions=outputs.attentions)"
      ],
      "metadata": {
        "id": "xi91P1XFV5Vi"
      },
      "execution_count": null,
      "outputs": []
    },
    {
      "cell_type": "markdown",
      "source": [
        "#### Load the models and tokenizers\n"
      ],
      "metadata": {
        "id": "8cSOr4zFJI8S"
      }
    },
    {
      "cell_type": "markdown",
      "source": [
        "We define a function used to load and configure models and tokenizers."
      ],
      "metadata": {
        "id": "S2s1eINrc7fX"
      }
    },
    {
      "cell_type": "code",
      "source": [
        "def get_model_and_tokenizer(petrained_model_name : str):\n",
        "  \"\"\"\n",
        "  Loads and configure a pretrained model via HuggingFace transformers library with the corresponding tokenizer.\n",
        "\n",
        "  :param petrained_model_name: name of the model to load\n",
        "\n",
        "  :return:\n",
        "    - model: pretrained  transformer model\n",
        "    - tokenizer: model corresponding tokenizer\n",
        "\n",
        "  \"\"\"\n",
        "  id2label = {}\n",
        "  label2id = {}\n",
        "\n",
        "  for idx, label in enumerate(LABELS_LIST):\n",
        "      id2label[idx] = label\n",
        "      label2id[label] = idx\n",
        "\n",
        "  model = AutoModelMultilabelSequenceClassification.from_pretrained(\n",
        "                    petrained_model_name,\n",
        "                    num_labels=len(LABELS_LIST),\n",
        "                    id2label= id2label, \n",
        "                    label2id =label2id).to(device)\n",
        "\n",
        "  tokenizer = AutoTokenizer.from_pretrained(petrained_model_name)\n",
        "\n",
        "  model.config.early_stopping = True\n",
        "  model.config.cls_token_id = tokenizer.cls_token_id\n",
        "  model.config.eos_token_id = tokenizer.sep_token_id\n",
        "  model.config.pad_token_id = tokenizer.pad_token_id\n",
        "  \n",
        "\n",
        "  return model, tokenizer"
      ],
      "metadata": {
        "id": "cBFPNUy3nh9a"
      },
      "execution_count": null,
      "outputs": []
    },
    {
      "cell_type": "markdown",
      "source": [
        "#### Dataset Tokenization\n",
        "Before we can actually start the training process we need some functions to tokenize our datasets. For compatibility reason we will use the Huggingface dataset type from the Datasets library."
      ],
      "metadata": {
        "id": "wHzP-jAv5qM6"
      }
    },
    {
      "cell_type": "code",
      "source": [
        "def process_data_to_model_inputs(batch, tokenizer):\n",
        "  '''\n",
        "  This function allows to tokenize a batch of data\n",
        "\n",
        "  :param batch: the batch of data that will be tokenized\n",
        "  :param tokenizer: the model tokenizer that will be used to tokenize the batch\n",
        "\n",
        "  :return batch: batch of data tokenized\n",
        "  '''\n",
        "  INPUT_MAX_LENGTH = 128\n",
        "  input = []\n",
        "  for conclusion, stance, premise in zip(batch[\"Conclusion\"], batch[\"Stance\"], batch[\"Premise\"]):\n",
        "    input.append(premise +' '+ tokenizer.sep_token + ' this is ' + stance + ' ' + conclusion)\n",
        "\n",
        "  inputs = tokenizer(input,\n",
        "                     padding=\"max_length\",\n",
        "                     truncation=\"longest_first\",\n",
        "                     max_length=INPUT_MAX_LENGTH)\n",
        "  \n",
        "\n",
        "  \n",
        "  batch[\"input_ids\"] = inputs.input_ids\n",
        "  batch[\"attention_mask\"] = inputs.attention_mask\n",
        "  return batch"
      ],
      "metadata": {
        "id": "FMkkFWc2JbYx"
      },
      "execution_count": null,
      "outputs": []
    },
    {
      "cell_type": "code",
      "source": [
        "def tokenize_dataset(df : pd.DataFrame, tokenizer):\n",
        "  '''\n",
        "  This function allows to tokenize an entire dataset\n",
        "\n",
        "  :param df: the dataframe that will be tokenized\n",
        "  :param tokenizer: the model tokenizer that will be used to tokenize the dataset\n",
        "\n",
        "  :return df_tokenized: dataset tokenized\n",
        "  '''\n",
        "  \n",
        "  df_tokenized = datasets.Dataset.from_pandas(df)\n",
        "  old_column_names = (list(df_tokenized.features.keys()))\n",
        "  old_column_names.remove('labels')\n",
        "\n",
        "  df_tokenized = df_tokenized.map(\n",
        "    process_data_to_model_inputs, \n",
        "    fn_kwargs={ \"tokenizer\": tokenizer},\n",
        "    batched=True, \n",
        "    batch_size=BATCH_SIZE, \n",
        "    remove_columns=old_column_names\n",
        "  )\n",
        "  df_tokenized = df_tokenized.cast_column(\"labels\", Sequence(Value(\"float32\")))\n",
        "  df_tokenized.set_format(type=\"torch\", device = device, columns=[\"input_ids\", \"attention_mask\", \"labels\"])\n",
        "  return df_tokenized"
      ],
      "metadata": {
        "id": "PjidtLorJgKe"
      },
      "execution_count": null,
      "outputs": []
    },
    {
      "cell_type": "markdown",
      "source": [
        "#### Define the Metric function\n",
        "To evaluate our results we will use the F1 score, commonly used in text classification tasks, and the Area Under the Receiver Operating Characteristic Curve (ROC AUC) score adjusted for multi-label problems."
      ],
      "metadata": {
        "id": "XfO1a0Dnnbvk"
      }
    },
    {
      "cell_type": "code",
      "source": [
        "def multi_label_metrics(predictions, labels, threshold=0.5):\n",
        "    '''\n",
        "    Utility function used to calculate the F1 score and ROC AUC score for multi-label tasks.\n",
        "    Specifically, this function will use the sigmoid to convert from logit to probability and \n",
        "    then apply a threshold to convert to a binary array. Finally, the metric can be calculated.\n",
        "\n",
        "    :param predictions: predicted logits from the model\n",
        "    :param labels: ground-truth values\n",
        "    :param threshold: the threshold applied to convert from probability to binary array\n",
        "\n",
        "    :return a dictionary containing the computed F1 score and ROC AUC score\n",
        "    '''\n",
        "    # first, apply sigmoid on predictions which are of shape (batch_size, num_labels)\n",
        "    sigmoid = torch.nn.Sigmoid()\n",
        "    probs = sigmoid(torch.Tensor(predictions))\n",
        "    # next, use threshold to turn them into integer predictions\n",
        "    y_pred = np.zeros(probs.shape)\n",
        "    y_pred[np.where(probs >= threshold)] = 1\n",
        "    # finally, compute metrics\n",
        "    y_true = labels\n",
        "    f1_macro_average = f1_score(y_true=y_true, y_pred=y_pred, average='macro')\n",
        "    roc_auc = roc_auc_score(y_true, y_pred, average = 'macro')\n",
        "    # return as dictionary\n",
        "    metrics = {'macro f1': f1_macro_average,\n",
        "               'roc_auc': roc_auc}\n",
        "    return metrics\n",
        "\n",
        "def compute_metrics(p: EvalPrediction):\n",
        "    '''\n",
        "    This function allows to compute the F1 score value  and the ROC AUC score for a batch of predictions\n",
        "\n",
        "    :param EvalPrediction: the predicted labels\n",
        "\n",
        "    :return a dictionary containing the computed F1 score and ROC AUC score for the entire batch \n",
        "    '''\n",
        "    preds = p.predictions[0] if isinstance(p.predictions,tuple) else p.predictions\n",
        "    result = multi_label_metrics(predictions=preds,labels=p.label_ids)\n",
        "    return result"
      ],
      "metadata": {
        "id": "YmtE6jp4nbQq"
      },
      "execution_count": null,
      "outputs": []
    },
    {
      "cell_type": "markdown",
      "source": [
        "####Defining the Training Function\n",
        "To train our model we will use the *Trainer API* from Huggingface.\n",
        "The Trainer class provides an API for feature-complete training in PyTorch for \n",
        "most standard use cases. So, the Trainer class is a simple but feature-complete training and eval loop for PyTorch, optimized for Huggingface Transformers. \\\\\n",
        "In this section we will define two utility functions used to get the Trainer and to start training a model."
      ],
      "metadata": {
        "id": "qoFnElEXD748"
      }
    },
    {
      "cell_type": "code",
      "source": [
        "def get_trainer(model,tokenizer, training_args, df_train, df_val):\n",
        "  '''\n",
        "  This function allows to get a Trainer object that will be used\n",
        "  to train our models\n",
        "\n",
        "  :param model: the model that will be trained\n",
        "  :param tokenizer: the model tokenizer\n",
        "  :param training_args: TrainingArguments object that contains the trainer settings\n",
        "  :param df_train: the dataset used for the training phase\n",
        "  :param df_val: the dataset used fot the validation phase\n",
        "\n",
        "  :return Trainer object\n",
        "  '''\n",
        "  trainer = Trainer(\n",
        "    model=model,\n",
        "    args=training_args,\n",
        "    compute_metrics=compute_metrics,\n",
        "    tokenizer= tokenizer,\n",
        "    train_dataset=df_train,\n",
        "    eval_dataset=df_val,\n",
        "  )\n",
        "  return trainer\n"
      ],
      "metadata": {
        "id": "6uszscCk1Ogs"
      },
      "execution_count": null,
      "outputs": []
    },
    {
      "cell_type": "code",
      "source": [
        "def train_model(model, tokenizer, training_args, df_train, df_val, save_path, resume_from_checkpoint = False ):\n",
        "  '''\n",
        "  This function allows to start or resume the model training, after the training it saves the model\n",
        "\n",
        "  :param model: the model that will be trained\n",
        "  :param tokenizer: the model tokenizer\n",
        "  :param training_args: TrainingArguments that contains the trainer settings\n",
        "  :param df_train: the dataset used for the training phase\n",
        "  :param df_val: the dataset used fot the validation phase\n",
        "  :param save_path: the path where the model will be saved\n",
        "  :param resume_from_checkpoint: a boolean that checks if the training will restart from a checkpoint\n",
        "  '''\n",
        "\n",
        "  trainer = get_trainer(model, tokenizer, training_args, df_train, df_val)\n",
        "  print('*********sanity check that we can run evaluation***********')\n",
        "  trainer.evaluate()\n",
        "  print('************ TRAINING START ************')\n",
        "  trainer.train(resume_from_checkpoint = resume_from_checkpoint)\n",
        "  trainer.save_model(save_path)\n",
        "  print('********** TRAINING END *************')\n",
        "  return "
      ],
      "metadata": {
        "id": "ngcRmJx9zTGO"
      },
      "execution_count": null,
      "outputs": []
    },
    {
      "cell_type": "markdown",
      "source": [
        "#### Model evaluation functions\n",
        "After we have completed the training phase we need to evaluate our models on the test set, so we will define some function in order to speed up our evaluations."
      ],
      "metadata": {
        "id": "E2jfhXdhkyaT"
      }
    },
    {
      "cell_type": "code",
      "source": [
        "def generate_predictions_for_evaluation(batch, model, tokenizer, treshold):\n",
        "  '''\n",
        "  This function allows to generate classification predictions for a batch of inputs\n",
        "\n",
        "  :param batch: the batch of input data\n",
        "  :param model: the model that will be used to classify\n",
        "  :param tokenizer: the model tokenizer\n",
        "  :param threshold: the threshold applied to convert from probability to binary array\n",
        "\n",
        "\n",
        "  :return batch: the batch extended with the predicted labels as binary array and the corresponding probability as float\n",
        "  '''\n",
        "  outputs = model(batch['input_ids'],attention_mask=batch['attention_mask']).logits.tolist()\n",
        "\n",
        "  sigmoid = torch.nn.Sigmoid()\n",
        "  probs = sigmoid(torch.Tensor(outputs))\n",
        "  \n",
        "\n",
        "  pred_labels = np.where(np.array(probs) > treshold, 1, 0)\n",
        "  \n",
        "  batch[\"predictions\"] = pred_labels\n",
        "  batch[\"probabilities\"] = probs\n",
        "  return batch\n",
        "\n",
        "\n",
        "def compute_evaluation_metrics(model, tokenizer, df_test,treshold = 0.5, verbose = True):\n",
        "    '''\n",
        "    This function allows to compute the Precision, the Tecall and the F1 score\n",
        "    for each single label and their Micro, Macro, Samples and Weighted average\n",
        "    using the sklearn classification_report implementation\n",
        "\n",
        "\n",
        "    :param model: the model that will be used to classify\n",
        "    :param tokenizer: the model tokenizer\n",
        "    :param df_test: the test set used for evaluation\n",
        "    :param threshold: the threshold applied to convert from probability to binary array\n",
        "    :param verbose: if true print the sklearn classification report\n",
        "\n",
        "    :return \n",
        "      - metrics: the computed metrics as dictionary\n",
        "      - model_results: Huggingface Dataset object containing the predictions as binary array and the corresponding probability \n",
        "    '''\n",
        "    model_results = df_test.map(generate_predictions_for_evaluation,\n",
        "                             fn_kwargs={ \"model\": model,\"tokenizer\": tokenizer, \"treshold\" : treshold},\n",
        "                             batched=True,\n",
        "                             batch_size=BATCH_SIZE,\n",
        "                             remove_columns=['input_ids', 'attention_mask']\n",
        "                             )\n",
        "\n",
        "    predictions = model_results['predictions'].cpu().data.numpy()\n",
        "    y_true = model_results['labels'].cpu().data.numpy()\n",
        "\n",
        "    if verbose:                                                  \n",
        "      print(sklearn.metrics.classification_report(y_true,predictions, zero_division =1))\n",
        "\n",
        "    metrics = sklearn.metrics.classification_report(y_true,predictions, output_dict = True,  zero_division =1)\n",
        "\n",
        "    return metrics, model_results\n"
      ],
      "metadata": {
        "id": "DKbjYCLnk285"
      },
      "execution_count": null,
      "outputs": []
    },
    {
      "cell_type": "markdown",
      "source": [
        "### Model 1: BERT base uncased\n",
        "Our first tested model will be BERT-base-uncased\n"
      ],
      "metadata": {
        "id": "zGn03yHq9KF-"
      }
    },
    {
      "cell_type": "markdown",
      "source": [
        "#### Model Training\n",
        "After some tests we found the following as the best parameter to train this model:\n",
        "- batch size = 64\n",
        "- learning rates = 5e-5\n",
        "- loss = DB\n",
        "- epochs = 3\n",
        "\n",
        "Now we can train our model.\n"
      ],
      "metadata": {
        "id": "KoKjOSnCD_LW"
      }
    },
    {
      "cell_type": "code",
      "source": [
        "BATCH_SIZE = 64\n",
        "model_name = 'bert-base-uncased'\n",
        "training_checkpoint_path = PROJECT_WORK_LOCAL_PATH + \"/checkpoint/\" + model_name\n",
        "save_model_path = PROJECT_WORK_LOCAL_PATH + \"/trained_model/\" + model_name\n",
        "\n",
        "LOSS_NAME = 'DBloss'\n",
        "#LOSS_NAME = 'BCE'\n",
        "\n",
        "training_args = TrainingArguments(\n",
        "    evaluation_strategy=\"epoch\",\n",
        "    save_strategy=\"no\",\n",
        "    num_train_epochs=4,\n",
        "    weight_decay=0.01,\n",
        "    learning_rate=5e-5,\n",
        "    per_device_train_batch_size=BATCH_SIZE,\n",
        "    per_device_eval_batch_size=BATCH_SIZE,\n",
        "    fp16=True, \n",
        "    logging_steps= len(df_train) // BATCH_SIZE,\n",
        "    output_dir = training_checkpoint_path,\n",
        "    optim='adamw_torch',\n",
        "    report_to ='all',\n",
        ")\n",
        "\n",
        "print('Loading the model and tokenizer')\n",
        "model, tokenizer = get_model_and_tokenizer(model_name)\n",
        "print(f'Model {model_name} downloaded')\n",
        "\n",
        "print('************ DATASETS TOKENIZATION *******')\n",
        "df_train_tokenized = tokenize_dataset(df_train, tokenizer)\n",
        "df_val_tokenized = tokenize_dataset(df_val, tokenizer)\n",
        "\n",
        "train_model(model, \n",
        "            tokenizer,\n",
        "            training_args,\n",
        "            df_train_tokenized, \n",
        "            df_val_tokenized, \n",
        "            save_path = save_model_path,\n",
        "            resume_from_checkpoint = False\n",
        "            )\n",
        "\n",
        "\n",
        "del model\n",
        "torch.cuda.empty_cache()"
      ],
      "metadata": {
        "colab": {
          "base_uri": "https://localhost:8080/",
          "height": 1000,
          "referenced_widgets": [
            "ebff831b385e41c2b691252bf3dd2c96",
            "8ab5ea81cbf14bd6a442a2a882473831",
            "ae9c68890b244bff8866ad6d88764b2a",
            "a7f05ea699324eab83ffb1df8d7ee14f",
            "943688ec47a142e8a0c4fc3c30a78317",
            "f6adcb3dcbb3489198871ed6f1cf5990",
            "acb218e856c34b59b3e29794306466ec",
            "a82631411410471d83fc54c1592ad045",
            "ec25bb073b25472189903ecc4c9499f0",
            "6fef1cedc39e4e1c988b2610f8dcb55f",
            "33329e10282444999278c7416d6a1a00",
            "48107bdcb0704f08b0c0d9db07615c40",
            "a8b9e935a68e41ca88725442b2236582",
            "54136f08abaa43b28f8c37cf75847e62",
            "641957d776be4829a8017a928147dd30",
            "fb8009b8bf324595a1103d0941d14314",
            "c2a30c1eaa0f4cd994d691fc1e990310",
            "93fa3deca0274e2795b68472cfd5ea8f",
            "a194c956904542aa9279abc143d9a283",
            "d0496abd9557489b8d018111816998ad",
            "e304e90edaf74be283ed4d53f4879c66",
            "01f9a1f8d7224224a6da4f45b3784274",
            "38b19d45c4e5426188a956dadae16e9d",
            "b3610f71642049cfb09cb71082c46506",
            "714fb44788fa41bdaaf5461aee45fe4c",
            "5838c4cb4f154658806e6896eb52ce90",
            "1b9193ae9af04228afb6457a4e6b83c0",
            "f523745fe7da4c6a950ad664dc0595ab",
            "965130ae82864517a500e863ace83087",
            "2956dbef3d714a2c86ad1f4a03d788cf",
            "6b48579c9c6f4758b9067dfe510fbcfa",
            "5388578f06a14ce398288e947633daea",
            "ad60beb6b7124d2ea32c7bdc02a80089",
            "df71188f62b14a0eb2567628cd162d94",
            "b01143c7cdfc4c9f96c5b66547195506",
            "9c86579048cc45b5a254f81894234bce",
            "9a1318f7b7c94aaa8c0c40ef29570621",
            "81022e5444a74c15a321901c6508fad1",
            "feef77da51704c88943992451d3def3f",
            "3edca68bbc7b41be97aea870eaa52463",
            "77f3384edca64c78baee1e58375666f8",
            "a1d4500e8c114f7c8c2d3d98fd90fa61",
            "cc4030680570423bac41afd2b819e6ec",
            "4141f08bbf1946108d7b888fa388b5ec",
            "4d1fe1174f044997b90e9fc7668713c8",
            "c499b353787f4c0f8871aae23e5d800c",
            "4cc943506e4643119062c8b0574e10a5",
            "58b591a249754f279f4d122a24b815ff",
            "c4fb1bad12f14f1eab1c3a2b75548b0a",
            "2e32a0fe8d2d41229049e022bcbe3a8e",
            "151f09ee7ed94911873cdf0176e4b480",
            "2d1557ec36c04a70ae77926b94fd1bb4",
            "b6ddadbdca22402c96f85294b403211d",
            "6c0838221a4f469ea9d2e21e46b7abdb",
            "2a25a2cc0d104376b0e462f23cf8bcd5",
            "3903ae64a4aa480eaae357e22b0ec92b",
            "10712b20e0a848678cb299a94abc66d1",
            "de5d0178dc544da48efd95019c95989b",
            "e4427ebed1364458bec4025294244823",
            "df942f2657994252a9f242424ea20a6d",
            "a2bb120a81644868bc3c78eb60d1ac3a",
            "b904b1f56a7347f090f9a637830f51a1",
            "8aa26f18ee94462795740c3dcbfe9ce4",
            "15cc113dbe7e4777acb20ff967a0424e",
            "bb3af992a224493bba7f9ec64873338f",
            "be003d5a6d2946ca88db863bc10166c2",
            "c17427ae4af34ffdac28af258145e5c4",
            "13eeb00fc1604f03b5c230af11e7d017",
            "eb8fd6465206493091c8e38f0715ae8c",
            "54c0297fad9b4c34a93a2dae53b5fbf1",
            "e2940651cccd4430a2f617f1b55350fa",
            "c9bfe56d0dee4925b71b4df254c23c21",
            "bd69c011a81a4136a22346cff6b079a9",
            "48f3d053727c4866bc378521bb96da95",
            "f70df512e12e4ee3bfe707ef98bd982d",
            "99df7dc94b74443392accbe56346da44",
            "9771e03d4a9a449fb550bd89a6add528",
            "07018ef2fc7343f78c0027bfd3792750",
            "da591c334471437aa079bdea32b8d7cb",
            "f878287e0a7c4ace85bee95c825214d6",
            "d617cc52e98d4c55a26b974570182dec",
            "fb35d150a62d4d0cb7f03ff69588a0f0",
            "8a85faa1ccf245b98a3a064854272d63",
            "2bce700e218f410691e5df1358834f93",
            "96a94db4e21b487b9363f621f3fbf98a",
            "ac344e84a49e47e1a1ac07aa3ca1e81b",
            "47d63e6ab5ab4defa03cbb707a6ccee5",
            "22fd7ae6a311478aabda706ed57d183c",
            "bc05e243492d46fc8af9ecc2daf740ca",
            "c574094e1f714cdea09eae1a9e33b354",
            "4d2284799559429ab88ccfb08eaad764",
            "981d5f652fa44907a22338ae762b1f21",
            "744ad093ab3244758bac647e01432778",
            "9b7d8a0be4574fdda17e4e6f77f363c0",
            "464f25064e4f427a904058377de3f5ea",
            "87e1381625434b749c7a796ab8f39c60",
            "cccd15b75a12463eb0f0a53e07dbef40",
            "0e953ccf32f440f1a34e7a8141203a0f",
            "1ec8f17a4849407a9d87690d50022b54"
          ]
        },
        "outputId": "1191f3fe-cb00-4fa5-9cd1-0abc49a923ef",
        "id": "8nbLl7V0omJB"
      },
      "execution_count": null,
      "outputs": [
        {
          "output_type": "stream",
          "name": "stderr",
          "text": [
            "PyTorch: setting up devices\n"
          ]
        },
        {
          "output_type": "stream",
          "name": "stdout",
          "text": [
            "Loading the model and tokenizer\n"
          ]
        },
        {
          "output_type": "display_data",
          "data": {
            "text/plain": [
              "Downloading:   0%|          | 0.00/570 [00:00<?, ?B/s]"
            ],
            "application/vnd.jupyter.widget-view+json": {
              "version_major": 2,
              "version_minor": 0,
              "model_id": "ebff831b385e41c2b691252bf3dd2c96"
            }
          },
          "metadata": {}
        },
        {
          "output_type": "stream",
          "name": "stderr",
          "text": [
            "loading configuration file config.json from cache at /root/.cache/huggingface/hub/models--bert-base-uncased/snapshots/0a6aa9128b6194f4f3c4db429b6cb4891cdb421b/config.json\n",
            "Model config BertConfig {\n",
            "  \"_name_or_path\": \"bert-base-uncased\",\n",
            "  \"architectures\": [\n",
            "    \"BertForMaskedLM\"\n",
            "  ],\n",
            "  \"attention_probs_dropout_prob\": 0.1,\n",
            "  \"classifier_dropout\": null,\n",
            "  \"gradient_checkpointing\": false,\n",
            "  \"hidden_act\": \"gelu\",\n",
            "  \"hidden_dropout_prob\": 0.1,\n",
            "  \"hidden_size\": 768,\n",
            "  \"id2label\": {\n",
            "    \"0\": \"Self-direction: thought\",\n",
            "    \"1\": \"Self-direction: action\",\n",
            "    \"2\": \"Stimulation\",\n",
            "    \"3\": \"Hedonism\",\n",
            "    \"4\": \"Achievement\",\n",
            "    \"5\": \"Power: dominance\",\n",
            "    \"6\": \"Power: resources\",\n",
            "    \"7\": \"Face\",\n",
            "    \"8\": \"Security: personal\",\n",
            "    \"9\": \"Security: societal\",\n",
            "    \"10\": \"Tradition\",\n",
            "    \"11\": \"Conformity: rules\",\n",
            "    \"12\": \"Conformity: interpersonal\",\n",
            "    \"13\": \"Humility\",\n",
            "    \"14\": \"Benevolence: caring\",\n",
            "    \"15\": \"Benevolence: dependability\",\n",
            "    \"16\": \"Universalism: concern\",\n",
            "    \"17\": \"Universalism: nature\",\n",
            "    \"18\": \"Universalism: tolerance\",\n",
            "    \"19\": \"Universalism: objectivity\"\n",
            "  },\n",
            "  \"initializer_range\": 0.02,\n",
            "  \"intermediate_size\": 3072,\n",
            "  \"label2id\": {\n",
            "    \"Achievement\": 4,\n",
            "    \"Benevolence: caring\": 14,\n",
            "    \"Benevolence: dependability\": 15,\n",
            "    \"Conformity: interpersonal\": 12,\n",
            "    \"Conformity: rules\": 11,\n",
            "    \"Face\": 7,\n",
            "    \"Hedonism\": 3,\n",
            "    \"Humility\": 13,\n",
            "    \"Power: dominance\": 5,\n",
            "    \"Power: resources\": 6,\n",
            "    \"Security: personal\": 8,\n",
            "    \"Security: societal\": 9,\n",
            "    \"Self-direction: action\": 1,\n",
            "    \"Self-direction: thought\": 0,\n",
            "    \"Stimulation\": 2,\n",
            "    \"Tradition\": 10,\n",
            "    \"Universalism: concern\": 16,\n",
            "    \"Universalism: nature\": 17,\n",
            "    \"Universalism: objectivity\": 19,\n",
            "    \"Universalism: tolerance\": 18\n",
            "  },\n",
            "  \"layer_norm_eps\": 1e-12,\n",
            "  \"max_position_embeddings\": 512,\n",
            "  \"model_type\": \"bert\",\n",
            "  \"num_attention_heads\": 12,\n",
            "  \"num_hidden_layers\": 12,\n",
            "  \"pad_token_id\": 0,\n",
            "  \"position_embedding_type\": \"absolute\",\n",
            "  \"transformers_version\": \"4.25.1\",\n",
            "  \"type_vocab_size\": 2,\n",
            "  \"use_cache\": true,\n",
            "  \"vocab_size\": 30522\n",
            "}\n",
            "\n"
          ]
        },
        {
          "output_type": "display_data",
          "data": {
            "text/plain": [
              "Downloading:   0%|          | 0.00/440M [00:00<?, ?B/s]"
            ],
            "application/vnd.jupyter.widget-view+json": {
              "version_major": 2,
              "version_minor": 0,
              "model_id": "48107bdcb0704f08b0c0d9db07615c40"
            }
          },
          "metadata": {}
        },
        {
          "output_type": "stream",
          "name": "stderr",
          "text": [
            "loading weights file pytorch_model.bin from cache at /root/.cache/huggingface/hub/models--bert-base-uncased/snapshots/0a6aa9128b6194f4f3c4db429b6cb4891cdb421b/pytorch_model.bin\n",
            "Some weights of the model checkpoint at bert-base-uncased were not used when initializing BertForSequenceClassification: ['cls.predictions.transform.dense.bias', 'cls.predictions.bias', 'cls.predictions.transform.dense.weight', 'cls.predictions.decoder.weight', 'cls.predictions.transform.LayerNorm.bias', 'cls.predictions.transform.LayerNorm.weight', 'cls.seq_relationship.bias', 'cls.seq_relationship.weight']\n",
            "- This IS expected if you are initializing BertForSequenceClassification from the checkpoint of a model trained on another task or with another architecture (e.g. initializing a BertForSequenceClassification model from a BertForPreTraining model).\n",
            "- This IS NOT expected if you are initializing BertForSequenceClassification from the checkpoint of a model that you expect to be exactly identical (initializing a BertForSequenceClassification model from a BertForSequenceClassification model).\n",
            "Some weights of BertForSequenceClassification were not initialized from the model checkpoint at bert-base-uncased and are newly initialized: ['classifier.weight', 'classifier.bias']\n",
            "You should probably TRAIN this model on a down-stream task to be able to use it for predictions and inference.\n"
          ]
        },
        {
          "output_type": "display_data",
          "data": {
            "text/plain": [
              "Downloading:   0%|          | 0.00/28.0 [00:00<?, ?B/s]"
            ],
            "application/vnd.jupyter.widget-view+json": {
              "version_major": 2,
              "version_minor": 0,
              "model_id": "38b19d45c4e5426188a956dadae16e9d"
            }
          },
          "metadata": {}
        },
        {
          "output_type": "stream",
          "name": "stderr",
          "text": [
            "loading configuration file config.json from cache at /root/.cache/huggingface/hub/models--bert-base-uncased/snapshots/0a6aa9128b6194f4f3c4db429b6cb4891cdb421b/config.json\n",
            "Model config BertConfig {\n",
            "  \"_name_or_path\": \"bert-base-uncased\",\n",
            "  \"architectures\": [\n",
            "    \"BertForMaskedLM\"\n",
            "  ],\n",
            "  \"attention_probs_dropout_prob\": 0.1,\n",
            "  \"classifier_dropout\": null,\n",
            "  \"gradient_checkpointing\": false,\n",
            "  \"hidden_act\": \"gelu\",\n",
            "  \"hidden_dropout_prob\": 0.1,\n",
            "  \"hidden_size\": 768,\n",
            "  \"initializer_range\": 0.02,\n",
            "  \"intermediate_size\": 3072,\n",
            "  \"layer_norm_eps\": 1e-12,\n",
            "  \"max_position_embeddings\": 512,\n",
            "  \"model_type\": \"bert\",\n",
            "  \"num_attention_heads\": 12,\n",
            "  \"num_hidden_layers\": 12,\n",
            "  \"pad_token_id\": 0,\n",
            "  \"position_embedding_type\": \"absolute\",\n",
            "  \"transformers_version\": \"4.25.1\",\n",
            "  \"type_vocab_size\": 2,\n",
            "  \"use_cache\": true,\n",
            "  \"vocab_size\": 30522\n",
            "}\n",
            "\n"
          ]
        },
        {
          "output_type": "display_data",
          "data": {
            "text/plain": [
              "Downloading:   0%|          | 0.00/232k [00:00<?, ?B/s]"
            ],
            "application/vnd.jupyter.widget-view+json": {
              "version_major": 2,
              "version_minor": 0,
              "model_id": "df71188f62b14a0eb2567628cd162d94"
            }
          },
          "metadata": {}
        },
        {
          "output_type": "display_data",
          "data": {
            "text/plain": [
              "Downloading:   0%|          | 0.00/466k [00:00<?, ?B/s]"
            ],
            "application/vnd.jupyter.widget-view+json": {
              "version_major": 2,
              "version_minor": 0,
              "model_id": "4d1fe1174f044997b90e9fc7668713c8"
            }
          },
          "metadata": {}
        },
        {
          "output_type": "stream",
          "name": "stderr",
          "text": [
            "loading file vocab.txt from cache at /root/.cache/huggingface/hub/models--bert-base-uncased/snapshots/0a6aa9128b6194f4f3c4db429b6cb4891cdb421b/vocab.txt\n",
            "loading file tokenizer.json from cache at /root/.cache/huggingface/hub/models--bert-base-uncased/snapshots/0a6aa9128b6194f4f3c4db429b6cb4891cdb421b/tokenizer.json\n",
            "loading file added_tokens.json from cache at None\n",
            "loading file special_tokens_map.json from cache at None\n",
            "loading file tokenizer_config.json from cache at /root/.cache/huggingface/hub/models--bert-base-uncased/snapshots/0a6aa9128b6194f4f3c4db429b6cb4891cdb421b/tokenizer_config.json\n",
            "loading configuration file config.json from cache at /root/.cache/huggingface/hub/models--bert-base-uncased/snapshots/0a6aa9128b6194f4f3c4db429b6cb4891cdb421b/config.json\n",
            "Model config BertConfig {\n",
            "  \"_name_or_path\": \"bert-base-uncased\",\n",
            "  \"architectures\": [\n",
            "    \"BertForMaskedLM\"\n",
            "  ],\n",
            "  \"attention_probs_dropout_prob\": 0.1,\n",
            "  \"classifier_dropout\": null,\n",
            "  \"gradient_checkpointing\": false,\n",
            "  \"hidden_act\": \"gelu\",\n",
            "  \"hidden_dropout_prob\": 0.1,\n",
            "  \"hidden_size\": 768,\n",
            "  \"initializer_range\": 0.02,\n",
            "  \"intermediate_size\": 3072,\n",
            "  \"layer_norm_eps\": 1e-12,\n",
            "  \"max_position_embeddings\": 512,\n",
            "  \"model_type\": \"bert\",\n",
            "  \"num_attention_heads\": 12,\n",
            "  \"num_hidden_layers\": 12,\n",
            "  \"pad_token_id\": 0,\n",
            "  \"position_embedding_type\": \"absolute\",\n",
            "  \"transformers_version\": \"4.25.1\",\n",
            "  \"type_vocab_size\": 2,\n",
            "  \"use_cache\": true,\n",
            "  \"vocab_size\": 30522\n",
            "}\n",
            "\n"
          ]
        },
        {
          "output_type": "stream",
          "name": "stdout",
          "text": [
            "Model bert-base-uncased downloaded\n",
            "************ DATASETS TOKENIZATION *******\n"
          ]
        },
        {
          "output_type": "display_data",
          "data": {
            "text/plain": [
              "  0%|          | 0/196 [00:00<?, ?ba/s]"
            ],
            "application/vnd.jupyter.widget-view+json": {
              "version_major": 2,
              "version_minor": 0,
              "model_id": "3903ae64a4aa480eaae357e22b0ec92b"
            }
          },
          "metadata": {}
        },
        {
          "output_type": "display_data",
          "data": {
            "text/plain": [
              "Casting the dataset:   0%|          | 0/13 [00:00<?, ?ba/s]"
            ],
            "application/vnd.jupyter.widget-view+json": {
              "version_major": 2,
              "version_minor": 0,
              "model_id": "c17427ae4af34ffdac28af258145e5c4"
            }
          },
          "metadata": {}
        },
        {
          "output_type": "display_data",
          "data": {
            "text/plain": [
              "  0%|          | 0/17 [00:00<?, ?ba/s]"
            ],
            "application/vnd.jupyter.widget-view+json": {
              "version_major": 2,
              "version_minor": 0,
              "model_id": "07018ef2fc7343f78c0027bfd3792750"
            }
          },
          "metadata": {}
        },
        {
          "output_type": "display_data",
          "data": {
            "text/plain": [
              "Casting the dataset:   0%|          | 0/2 [00:00<?, ?ba/s]"
            ],
            "application/vnd.jupyter.widget-view+json": {
              "version_major": 2,
              "version_minor": 0,
              "model_id": "bc05e243492d46fc8af9ecc2daf740ca"
            }
          },
          "metadata": {}
        },
        {
          "output_type": "stream",
          "name": "stderr",
          "text": [
            "Using cuda_amp half precision backend\n",
            "***** Running Evaluation *****\n",
            "  Num examples = 1079\n",
            "  Batch size = 64\n",
            "You're using a BertTokenizerFast tokenizer. Please note that with a fast tokenizer, using the `__call__` method is faster than using a method to encode the text followed by a call to the `pad` method to get a padded encoding.\n"
          ]
        },
        {
          "output_type": "stream",
          "name": "stdout",
          "text": [
            "*********sanity check that we can run evaluation***********\n"
          ]
        },
        {
          "output_type": "display_data",
          "data": {
            "text/plain": [
              "<IPython.core.display.HTML object>"
            ],
            "text/html": [
              "\n",
              "    <div>\n",
              "      \n",
              "      <progress value='34' max='17' style='width:300px; height:20px; vertical-align: middle;'></progress>\n",
              "      [17/17 01:29]\n",
              "    </div>\n",
              "    "
            ]
          },
          "metadata": {}
        },
        {
          "output_type": "stream",
          "name": "stderr",
          "text": [
            "***** Running training *****\n",
            "  Num examples = 12540\n",
            "  Num Epochs = 4\n",
            "  Instantaneous batch size per device = 64\n",
            "  Total train batch size (w. parallel, distributed & accumulation) = 64\n",
            "  Gradient Accumulation steps = 1\n",
            "  Total optimization steps = 784\n",
            "  Number of trainable parameters = 109497620\n"
          ]
        },
        {
          "output_type": "stream",
          "name": "stdout",
          "text": [
            "************ TRAINING START ************\n"
          ]
        },
        {
          "output_type": "display_data",
          "data": {
            "text/plain": [
              "<IPython.core.display.HTML object>"
            ],
            "text/html": [
              "\n",
              "    <div>\n",
              "      \n",
              "      <progress value='784' max='784' style='width:300px; height:20px; vertical-align: middle;'></progress>\n",
              "      [784/784 05:45, Epoch 4/4]\n",
              "    </div>\n",
              "    <table border=\"1\" class=\"dataframe\">\n",
              "  <thead>\n",
              " <tr style=\"text-align: left;\">\n",
              "      <th>Epoch</th>\n",
              "      <th>Training Loss</th>\n",
              "      <th>Validation Loss</th>\n",
              "      <th>Macro f1</th>\n",
              "      <th>Roc Auc</th>\n",
              "    </tr>\n",
              "  </thead>\n",
              "  <tbody>\n",
              "    <tr>\n",
              "      <td>1</td>\n",
              "      <td>0.365200</td>\n",
              "      <td>0.340221</td>\n",
              "      <td>0.244525</td>\n",
              "      <td>0.583736</td>\n",
              "    </tr>\n",
              "    <tr>\n",
              "      <td>2</td>\n",
              "      <td>0.271300</td>\n",
              "      <td>0.321674</td>\n",
              "      <td>0.349005</td>\n",
              "      <td>0.624533</td>\n",
              "    </tr>\n",
              "    <tr>\n",
              "      <td>3</td>\n",
              "      <td>0.221600</td>\n",
              "      <td>0.323271</td>\n",
              "      <td>0.396956</td>\n",
              "      <td>0.644597</td>\n",
              "    </tr>\n",
              "    <tr>\n",
              "      <td>4</td>\n",
              "      <td>0.192200</td>\n",
              "      <td>0.325463</td>\n",
              "      <td>0.397676</td>\n",
              "      <td>0.645184</td>\n",
              "    </tr>\n",
              "  </tbody>\n",
              "</table><p>"
            ]
          },
          "metadata": {}
        },
        {
          "output_type": "stream",
          "name": "stderr",
          "text": [
            "***** Running Evaluation *****\n",
            "  Num examples = 1079\n",
            "  Batch size = 64\n",
            "***** Running Evaluation *****\n",
            "  Num examples = 1079\n",
            "  Batch size = 64\n",
            "***** Running Evaluation *****\n",
            "  Num examples = 1079\n",
            "  Batch size = 64\n",
            "***** Running Evaluation *****\n",
            "  Num examples = 1079\n",
            "  Batch size = 64\n",
            "\n",
            "\n",
            "Training completed. Do not forget to share your model on huggingface.co/models =)\n",
            "\n",
            "\n",
            "Saving model checkpoint to /content/gdrive/MyDrive/unibo/NLP/projectWork/trained_model/bert-base-uncased\n",
            "Configuration saved in /content/gdrive/MyDrive/unibo/NLP/projectWork/trained_model/bert-base-uncased/config.json\n",
            "Model weights saved in /content/gdrive/MyDrive/unibo/NLP/projectWork/trained_model/bert-base-uncased/pytorch_model.bin\n",
            "tokenizer config file saved in /content/gdrive/MyDrive/unibo/NLP/projectWork/trained_model/bert-base-uncased/tokenizer_config.json\n",
            "Special tokens file saved in /content/gdrive/MyDrive/unibo/NLP/projectWork/trained_model/bert-base-uncased/special_tokens_map.json\n"
          ]
        },
        {
          "output_type": "stream",
          "name": "stdout",
          "text": [
            "********** TRAINING END *************\n"
          ]
        }
      ]
    },
    {
      "cell_type": "markdown",
      "source": [
        "#### Model Evaluation\n",
        "For the model evaluation phase we decided to exploit two different technique of thresholding:\n",
        "\n",
        "- **Global Thresholding** which uses a single threshold for all the labels;\n",
        "- **Individual Thresholding** which uses a different threshold value for each label."
      ],
      "metadata": {
        "id": "PX-fjUOoAtjO"
      }
    },
    {
      "cell_type": "markdown",
      "source": [
        "First of all we load the tokenizer and our model from the drive."
      ],
      "metadata": {
        "id": "sgysVtklBie7"
      }
    },
    {
      "cell_type": "code",
      "source": [
        "BATCH_SIZE = 64\n",
        "model_name = 'bert-base-uncased'\n",
        "save_model_path = PROJECT_WORK_LOCAL_PATH + \"/trained_model/\" + model_name\n",
        "\n",
        "model = AutoModelMultilabelSequenceClassification.from_pretrained(save_model_path).to(device)\n",
        "tokenizer = AutoTokenizer.from_pretrained(model_name)"
      ],
      "metadata": {
        "colab": {
          "base_uri": "https://localhost:8080/"
        },
        "outputId": "f71208d3-2d3a-4796-ca5f-7d1fcdc6b62b",
        "id": "r1yP0QlposOa"
      },
      "execution_count": null,
      "outputs": [
        {
          "output_type": "stream",
          "name": "stderr",
          "text": [
            "loading configuration file /content/gdrive/MyDrive/unibo/NLP/projectWork/trained_model/bert-base-uncased/config.json\n",
            "Model config BertConfig {\n",
            "  \"_name_or_path\": \"/content/gdrive/MyDrive/unibo/NLP/projectWork/trained_model/bert-base-uncased\",\n",
            "  \"architectures\": [\n",
            "    \"BertForSequenceClassification\"\n",
            "  ],\n",
            "  \"attention_probs_dropout_prob\": 0.1,\n",
            "  \"classifier_dropout\": null,\n",
            "  \"cls_token_id\": 101,\n",
            "  \"early_stopping\": true,\n",
            "  \"eos_token_id\": 102,\n",
            "  \"gradient_checkpointing\": false,\n",
            "  \"hidden_act\": \"gelu\",\n",
            "  \"hidden_dropout_prob\": 0.1,\n",
            "  \"hidden_size\": 768,\n",
            "  \"id2label\": {\n",
            "    \"0\": \"Self-direction: thought\",\n",
            "    \"1\": \"Self-direction: action\",\n",
            "    \"2\": \"Stimulation\",\n",
            "    \"3\": \"Hedonism\",\n",
            "    \"4\": \"Achievement\",\n",
            "    \"5\": \"Power: dominance\",\n",
            "    \"6\": \"Power: resources\",\n",
            "    \"7\": \"Face\",\n",
            "    \"8\": \"Security: personal\",\n",
            "    \"9\": \"Security: societal\",\n",
            "    \"10\": \"Tradition\",\n",
            "    \"11\": \"Conformity: rules\",\n",
            "    \"12\": \"Conformity: interpersonal\",\n",
            "    \"13\": \"Humility\",\n",
            "    \"14\": \"Benevolence: caring\",\n",
            "    \"15\": \"Benevolence: dependability\",\n",
            "    \"16\": \"Universalism: concern\",\n",
            "    \"17\": \"Universalism: nature\",\n",
            "    \"18\": \"Universalism: tolerance\",\n",
            "    \"19\": \"Universalism: objectivity\"\n",
            "  },\n",
            "  \"initializer_range\": 0.02,\n",
            "  \"intermediate_size\": 3072,\n",
            "  \"label2id\": {\n",
            "    \"Achievement\": 4,\n",
            "    \"Benevolence: caring\": 14,\n",
            "    \"Benevolence: dependability\": 15,\n",
            "    \"Conformity: interpersonal\": 12,\n",
            "    \"Conformity: rules\": 11,\n",
            "    \"Face\": 7,\n",
            "    \"Hedonism\": 3,\n",
            "    \"Humility\": 13,\n",
            "    \"Power: dominance\": 5,\n",
            "    \"Power: resources\": 6,\n",
            "    \"Security: personal\": 8,\n",
            "    \"Security: societal\": 9,\n",
            "    \"Self-direction: action\": 1,\n",
            "    \"Self-direction: thought\": 0,\n",
            "    \"Stimulation\": 2,\n",
            "    \"Tradition\": 10,\n",
            "    \"Universalism: concern\": 16,\n",
            "    \"Universalism: nature\": 17,\n",
            "    \"Universalism: objectivity\": 19,\n",
            "    \"Universalism: tolerance\": 18\n",
            "  },\n",
            "  \"layer_norm_eps\": 1e-12,\n",
            "  \"max_position_embeddings\": 512,\n",
            "  \"model_type\": \"bert\",\n",
            "  \"num_attention_heads\": 12,\n",
            "  \"num_hidden_layers\": 12,\n",
            "  \"pad_token_id\": 0,\n",
            "  \"position_embedding_type\": \"absolute\",\n",
            "  \"problem_type\": \"multi_label_classification\",\n",
            "  \"torch_dtype\": \"float32\",\n",
            "  \"transformers_version\": \"4.25.1\",\n",
            "  \"type_vocab_size\": 2,\n",
            "  \"use_cache\": true,\n",
            "  \"vocab_size\": 30522\n",
            "}\n",
            "\n",
            "loading weights file /content/gdrive/MyDrive/unibo/NLP/projectWork/trained_model/bert-base-uncased/pytorch_model.bin\n",
            "All model checkpoint weights were used when initializing BertForSequenceClassification.\n",
            "\n",
            "All the weights of BertForSequenceClassification were initialized from the model checkpoint at /content/gdrive/MyDrive/unibo/NLP/projectWork/trained_model/bert-base-uncased.\n",
            "If your task is similar to the task the model of the checkpoint was trained on, you can already use BertForSequenceClassification for predictions without further training.\n",
            "loading configuration file config.json from cache at /root/.cache/huggingface/hub/models--bert-base-uncased/snapshots/0a6aa9128b6194f4f3c4db429b6cb4891cdb421b/config.json\n",
            "Model config BertConfig {\n",
            "  \"_name_or_path\": \"bert-base-uncased\",\n",
            "  \"architectures\": [\n",
            "    \"BertForMaskedLM\"\n",
            "  ],\n",
            "  \"attention_probs_dropout_prob\": 0.1,\n",
            "  \"classifier_dropout\": null,\n",
            "  \"gradient_checkpointing\": false,\n",
            "  \"hidden_act\": \"gelu\",\n",
            "  \"hidden_dropout_prob\": 0.1,\n",
            "  \"hidden_size\": 768,\n",
            "  \"initializer_range\": 0.02,\n",
            "  \"intermediate_size\": 3072,\n",
            "  \"layer_norm_eps\": 1e-12,\n",
            "  \"max_position_embeddings\": 512,\n",
            "  \"model_type\": \"bert\",\n",
            "  \"num_attention_heads\": 12,\n",
            "  \"num_hidden_layers\": 12,\n",
            "  \"pad_token_id\": 0,\n",
            "  \"position_embedding_type\": \"absolute\",\n",
            "  \"transformers_version\": \"4.25.1\",\n",
            "  \"type_vocab_size\": 2,\n",
            "  \"use_cache\": true,\n",
            "  \"vocab_size\": 30522\n",
            "}\n",
            "\n",
            "loading file vocab.txt from cache at /root/.cache/huggingface/hub/models--bert-base-uncased/snapshots/0a6aa9128b6194f4f3c4db429b6cb4891cdb421b/vocab.txt\n",
            "loading file tokenizer.json from cache at /root/.cache/huggingface/hub/models--bert-base-uncased/snapshots/0a6aa9128b6194f4f3c4db429b6cb4891cdb421b/tokenizer.json\n",
            "loading file added_tokens.json from cache at None\n",
            "loading file special_tokens_map.json from cache at None\n",
            "loading file tokenizer_config.json from cache at /root/.cache/huggingface/hub/models--bert-base-uncased/snapshots/0a6aa9128b6194f4f3c4db429b6cb4891cdb421b/tokenizer_config.json\n",
            "loading configuration file config.json from cache at /root/.cache/huggingface/hub/models--bert-base-uncased/snapshots/0a6aa9128b6194f4f3c4db429b6cb4891cdb421b/config.json\n",
            "Model config BertConfig {\n",
            "  \"_name_or_path\": \"bert-base-uncased\",\n",
            "  \"architectures\": [\n",
            "    \"BertForMaskedLM\"\n",
            "  ],\n",
            "  \"attention_probs_dropout_prob\": 0.1,\n",
            "  \"classifier_dropout\": null,\n",
            "  \"gradient_checkpointing\": false,\n",
            "  \"hidden_act\": \"gelu\",\n",
            "  \"hidden_dropout_prob\": 0.1,\n",
            "  \"hidden_size\": 768,\n",
            "  \"initializer_range\": 0.02,\n",
            "  \"intermediate_size\": 3072,\n",
            "  \"layer_norm_eps\": 1e-12,\n",
            "  \"max_position_embeddings\": 512,\n",
            "  \"model_type\": \"bert\",\n",
            "  \"num_attention_heads\": 12,\n",
            "  \"num_hidden_layers\": 12,\n",
            "  \"pad_token_id\": 0,\n",
            "  \"position_embedding_type\": \"absolute\",\n",
            "  \"transformers_version\": \"4.25.1\",\n",
            "  \"type_vocab_size\": 2,\n",
            "  \"use_cache\": true,\n",
            "  \"vocab_size\": 30522\n",
            "}\n",
            "\n"
          ]
        }
      ]
    },
    {
      "cell_type": "markdown",
      "source": [
        "#####Global Threshold"
      ],
      "metadata": {
        "id": "HtjCovE5XwJu"
      }
    },
    {
      "cell_type": "markdown",
      "source": [
        "For the global threshold technique we decided to use a generic 0.5 value for our threshold, in the following table the obtained results. "
      ],
      "metadata": {
        "id": "s4z3_o7MXyfE"
      }
    },
    {
      "cell_type": "code",
      "source": [
        "print('************ Test set tokenization*******')\n",
        "df_test_tokenized = tokenize_dataset(df_test, tokenizer)\n",
        "model1_metrics, df_with_results = compute_evaluation_metrics(model,tokenizer,df_test_tokenized, treshold = 0.5 )"
      ],
      "metadata": {
        "colab": {
          "base_uri": "https://localhost:8080/",
          "height": 616,
          "referenced_widgets": [
            "c06b6a48b81a490dbbb150392eabd1e8",
            "cfbde0e3a914445ebe549fd46530e5d6",
            "94c8b986842c4cff8ca88ff70dc778a2",
            "b8921c7a0cf949f0872b035c9fa77447",
            "bd5fd10acc524695bf705d82b4f4dd35",
            "e7a6f67b994f4a0da2c46cc54b385ace",
            "09e45bff1a4b4e7ab9f5762e9f5acae3",
            "04e6a35c83f5469da878a86518821992",
            "94d80156263b4ba5ace166d349bcb9b1",
            "6f1c09a10cc24775b838b1706649b034",
            "31c0c4b3359a46c6bb0e07b38bcace72",
            "7b29124f853a4e51b493f3a4bd626a39",
            "5fc1723816764ad19dd99f30ad42500b",
            "ccc7de284b584d529a3603a1829d24b4",
            "34618baf76824768af603e64ec575a6e",
            "0d93558d2f914fadbef091e202773c1f",
            "ff1950c31bec4c60821bd3188089e58f",
            "78a1a9c5983b4286af2a48808999e9e5",
            "e740ff3dd65d441d8cb0de4a97016492",
            "1595af6e13e44ee097ba0fff2dfa6bc3",
            "e794b9f0d29e4b478957b6743cd6b226",
            "5023448808134cbcad9306fac8c88fe3",
            "5e2bc389874b48d1a2a902fd355b42b5",
            "0a0266d230914d27b5520c7b5fd76d03",
            "12f67d399b7e4b6cadb570a97e55d535",
            "e6a5dd9a11a54f62b804e3e0852d96a7",
            "f8fb06d4f24b4a5485207025b3769d06",
            "b483f4db27c54859bc694f18911952c9",
            "2bdad2706b6541e6b5e81d1e9e11435e",
            "3e245313368f4e598aebb92a5749c993",
            "39736ab503a943448e027bae4232c48e",
            "68ec6f496ca24d73b1807e32d6321bad",
            "9dd38580ef69498e8bd90021ec2129c1"
          ]
        },
        "outputId": "0e874078-6b30-49d0-f542-02eea4a63de5",
        "id": "jtT9fNePowdH"
      },
      "execution_count": null,
      "outputs": [
        {
          "output_type": "stream",
          "name": "stdout",
          "text": [
            "************ Test set tokenization*******\n"
          ]
        },
        {
          "output_type": "display_data",
          "data": {
            "text/plain": [
              "  0%|          | 0/30 [00:00<?, ?ba/s]"
            ],
            "application/vnd.jupyter.widget-view+json": {
              "version_major": 2,
              "version_minor": 0,
              "model_id": "c06b6a48b81a490dbbb150392eabd1e8"
            }
          },
          "metadata": {}
        },
        {
          "output_type": "display_data",
          "data": {
            "text/plain": [
              "Casting the dataset:   0%|          | 0/2 [00:00<?, ?ba/s]"
            ],
            "application/vnd.jupyter.widget-view+json": {
              "version_major": 2,
              "version_minor": 0,
              "model_id": "7b29124f853a4e51b493f3a4bd626a39"
            }
          },
          "metadata": {}
        },
        {
          "output_type": "display_data",
          "data": {
            "text/plain": [
              "  0%|          | 0/30 [00:00<?, ?ba/s]"
            ],
            "application/vnd.jupyter.widget-view+json": {
              "version_major": 2,
              "version_minor": 0,
              "model_id": "5e2bc389874b48d1a2a902fd355b42b5"
            }
          },
          "metadata": {}
        },
        {
          "output_type": "stream",
          "name": "stdout",
          "text": [
            "              precision    recall  f1-score   support\n",
            "\n",
            "           0       0.61      0.39      0.48       251\n",
            "           1       0.62      0.45      0.53       496\n",
            "           2       1.00      0.00      0.00       138\n",
            "           3       1.00      0.00      0.00       103\n",
            "           4       0.72      0.55      0.63       575\n",
            "           5       0.65      0.07      0.12       164\n",
            "           6       0.51      0.32      0.39       132\n",
            "           7       1.00      0.00      0.00       130\n",
            "           8       0.73      0.74      0.74       759\n",
            "           9       0.65      0.55      0.59       488\n",
            "          10       0.65      0.30      0.41       172\n",
            "          11       0.60      0.33      0.43       455\n",
            "          12       1.00      0.00      0.00        60\n",
            "          13       0.00      0.00      0.00       127\n",
            "          14       0.63      0.43      0.51       633\n",
            "          15       0.38      0.02      0.04       268\n",
            "          16       0.71      0.58      0.64       687\n",
            "          17       0.76      0.53      0.62       127\n",
            "          18       0.44      0.04      0.07       223\n",
            "          19       0.56      0.28      0.37       371\n",
            "\n",
            "   micro avg       0.67      0.41      0.50      6359\n",
            "   macro avg       0.66      0.28      0.33      6359\n",
            "weighted avg       0.65      0.41      0.46      6359\n",
            " samples avg       0.70      0.46      0.51      6359\n",
            "\n"
          ]
        }
      ]
    },
    {
      "cell_type": "markdown",
      "source": [
        "##### Individual Treshold"
      ],
      "metadata": {
        "id": "O8T4zdBnl73C"
      }
    },
    {
      "cell_type": "markdown",
      "source": [
        "To compute the individual threshold for each label we pick the values that maximize each f1 score, obviously all the computation are made on the train set."
      ],
      "metadata": {
        "id": "F909K-xDX4ZC"
      }
    },
    {
      "cell_type": "code",
      "source": [
        "df_train_val= pd.concat([df_train, df_val], axis=0)\n",
        "df_train_val_tokenized = tokenize_dataset(df_train_val, tokenizer)\n",
        "\n",
        "_, df_train_val_results = compute_evaluation_metrics(model,tokenizer,df_train_val_tokenized, treshold = 0.5, verbose = False )\n",
        "\n",
        "probabilities = df_train_val_results['probabilities'].cpu().data.numpy()\n",
        "labels = df_train_val_results['labels'].cpu().data.numpy()\n",
        "\n",
        "tresholds = np.linspace(0.01, 0.5, 50)\n",
        "best_tresholds = {}\n",
        "\n",
        "idx = 0\n",
        "for probabilities, labels in zip(probabilities.T, labels.T):\n",
        "  f1_scores = []\n",
        "  for treshold in tresholds:\n",
        "    pred_labels = np.where(probabilities > treshold, 1, 0)\n",
        "    f1_scores.append(f1_score(y_true=labels, y_pred=pred_labels))\n",
        "\n",
        "  best_tresholds.update({ LABELS_LIST[idx] : tresholds[np.argmax(f1_scores)]})\n",
        "  idx +=1\n",
        "\n",
        "print('Best individual tresholds founded:')\n",
        "best_tresholds  "
      ],
      "metadata": {
        "colab": {
          "base_uri": "https://localhost:8080/",
          "height": 478,
          "referenced_widgets": [
            "75437d3fbcf945af95b807e2f2d425ae",
            "dca3d863a94f471f829d7dea5fe2d391",
            "2fcc710375454252a7ecab11db03a988",
            "bbc4f871efd342aeb5077a1a23de99a4",
            "9d6c73adbb1b481c853e9b3e65ebbd65",
            "a00552cc32444f6c8724796543b0139e",
            "876e2324f9a8478ab585c89a1bfe2b2d",
            "8ba06105dc554cd1871217bb67c8dca3",
            "009f9fa96520435da9f4fdac1f5c0a44",
            "921efea4d44040f9978f468886c2b1f5",
            "6498711a6c834774845a7e58904f9bd1",
            "c1f04ac29b504d77ab5382ce17ce9df7",
            "5c9a0699a3254025be716fc218a8973e",
            "c773ae6b5cdd424fa3f28d6b1ccb6551",
            "9b347062633146aa8b1c95b374cf0da5",
            "70fab5c8d24146ec88f5af9e66365931",
            "58c56db0eefb47ea88c9c9c78120601e",
            "3c705070c055431680e45dca956d7069",
            "653329acb79e4990b07d49f1f06a8711",
            "25f165b62c91406a8e026c8f7fb88a3b",
            "5200cb3b1cf6414eb1042af349c4d6a2",
            "c5a9db6142dd4a839a9b27079534b09c",
            "88733ac28aab4ecfa4e88f7276065dca",
            "e0ec421fe3c64dd0a5e8d0634523c45d",
            "efc85e9ec22147819b95adf9f8a02c2d",
            "bb6f79e366554da0a0163ea61c4713fb",
            "0b882a7f6ed34dfcba3aa3d819c124f8",
            "dd3c54b08a6247028a70ff575858a105",
            "a9f06058f9454f338bba7f4710de8157",
            "55eb6fa669f949938dd06c0015ed4813",
            "6e22e40aad0549acaf7fbffc75c08bb6",
            "db8aa4ce87f54e88bd54380c321e5848",
            "46c5862b269e4059b408e135c41a7f4e"
          ]
        },
        "outputId": "adaf92b1-2e97-46bd-821a-9d695461dd7b",
        "id": "5RWpag4Io1dd"
      },
      "execution_count": null,
      "outputs": [
        {
          "output_type": "display_data",
          "data": {
            "text/plain": [
              "  0%|          | 0/213 [00:00<?, ?ba/s]"
            ],
            "application/vnd.jupyter.widget-view+json": {
              "version_major": 2,
              "version_minor": 0,
              "model_id": "75437d3fbcf945af95b807e2f2d425ae"
            }
          },
          "metadata": {}
        },
        {
          "output_type": "display_data",
          "data": {
            "text/plain": [
              "Casting the dataset:   0%|          | 0/14 [00:00<?, ?ba/s]"
            ],
            "application/vnd.jupyter.widget-view+json": {
              "version_major": 2,
              "version_minor": 0,
              "model_id": "c1f04ac29b504d77ab5382ce17ce9df7"
            }
          },
          "metadata": {}
        },
        {
          "output_type": "display_data",
          "data": {
            "text/plain": [
              "  0%|          | 0/213 [00:00<?, ?ba/s]"
            ],
            "application/vnd.jupyter.widget-view+json": {
              "version_major": 2,
              "version_minor": 0,
              "model_id": "88733ac28aab4ecfa4e88f7276065dca"
            }
          },
          "metadata": {}
        },
        {
          "output_type": "stream",
          "name": "stdout",
          "text": [
            "Best individual tresholds founded:\n"
          ]
        },
        {
          "output_type": "execute_result",
          "data": {
            "text/plain": [
              "{'Self-direction: thought': 0.41000000000000003,\n",
              " 'Self-direction: action': 0.37,\n",
              " 'Stimulation': 0.02,\n",
              " 'Hedonism': 0.01,\n",
              " 'Achievement': 0.46,\n",
              " 'Power: dominance': 0.24000000000000002,\n",
              " 'Power: resources': 0.37,\n",
              " 'Face': 0.15000000000000002,\n",
              " 'Security: personal': 0.45,\n",
              " 'Security: societal': 0.48000000000000004,\n",
              " 'Tradition': 0.29000000000000004,\n",
              " 'Conformity: rules': 0.37,\n",
              " 'Conformity: interpersonal': 0.03,\n",
              " 'Humility': 0.18000000000000002,\n",
              " 'Benevolence: caring': 0.37,\n",
              " 'Benevolence: dependability': 0.24000000000000002,\n",
              " 'Universalism: concern': 0.44,\n",
              " 'Universalism: nature': 0.31,\n",
              " 'Universalism: tolerance': 0.27,\n",
              " 'Universalism: objectivity': 0.29000000000000004}"
            ]
          },
          "metadata": {},
          "execution_count": 46
        }
      ]
    },
    {
      "cell_type": "markdown",
      "source": [
        "After computing the individual tresholds for each label, we can evaluate our model, the results are in the following table."
      ],
      "metadata": {
        "id": "q5HwikNxWMJs"
      }
    },
    {
      "cell_type": "code",
      "source": [
        "probabilities = df_with_results['probabilities'].cpu().data.numpy()\n",
        "labels = df_with_results['labels'].cpu().data.numpy()\n",
        "\n",
        "for i, prob in enumerate(probabilities):\n",
        "  for j, p in enumerate(prob):\n",
        "    probabilities[i][j] = np.where(probabilities[i][j] > best_tresholds[LABELS_LIST[j]], 1, 0)\n",
        "\n",
        "print(sklearn.metrics.classification_report(labels,probabilities))\n"
      ],
      "metadata": {
        "colab": {
          "base_uri": "https://localhost:8080/"
        },
        "outputId": "1b782981-1605-41ba-c19a-7118126854f1",
        "id": "IQ3lBBDoo1de"
      },
      "execution_count": null,
      "outputs": [
        {
          "output_type": "stream",
          "name": "stdout",
          "text": [
            "              precision    recall  f1-score   support\n",
            "\n",
            "           0       0.52      0.47      0.50       251\n",
            "           1       0.55      0.53      0.54       496\n",
            "           2       0.05      0.09      0.07       138\n",
            "           3       0.03      0.24      0.06       103\n",
            "           4       0.70      0.57      0.63       575\n",
            "           5       0.30      0.18      0.23       164\n",
            "           6       0.41      0.40      0.41       132\n",
            "           7       0.19      0.15      0.17       130\n",
            "           8       0.72      0.77      0.74       759\n",
            "           9       0.64      0.56      0.60       488\n",
            "          10       0.54      0.39      0.45       172\n",
            "          11       0.55      0.42      0.48       455\n",
            "          12       0.03      0.02      0.02        60\n",
            "          13       0.13      0.03      0.05       127\n",
            "          14       0.56      0.59      0.57       633\n",
            "          15       0.25      0.33      0.29       268\n",
            "          16       0.68      0.62      0.65       687\n",
            "          17       0.72      0.57      0.64       127\n",
            "          18       0.33      0.16      0.21       223\n",
            "          19       0.44      0.44      0.44       371\n",
            "\n",
            "   micro avg       0.48      0.49      0.49      6359\n",
            "   macro avg       0.42      0.38      0.39      6359\n",
            "weighted avg       0.53      0.49      0.51      6359\n",
            " samples avg       0.54      0.54      0.49      6359\n",
            "\n"
          ]
        },
        {
          "output_type": "stream",
          "name": "stderr",
          "text": [
            "/usr/local/lib/python3.8/dist-packages/sklearn/metrics/_classification.py:1318: UndefinedMetricWarning: Precision and F-score are ill-defined and being set to 0.0 in samples with no predicted labels. Use `zero_division` parameter to control this behavior.\n",
            "  _warn_prf(average, modifier, msg_start, len(result))\n"
          ]
        }
      ]
    },
    {
      "cell_type": "markdown",
      "source": [
        "### Model 2: RoBERTa Base\n",
        "Our second tested model will be Roberta Base"
      ],
      "metadata": {
        "id": "9sUGIlNKmJmb"
      }
    },
    {
      "cell_type": "markdown",
      "source": [
        "#### Model Training\n",
        "After some tests we found the following as the best parameter to train this model:\n",
        "- batch size = 32\n",
        "- learning rates = 2e-5\n",
        "- loss = BCE\n",
        "- epochs = 4\n",
        "\n",
        "Now we can train our model.\n"
      ],
      "metadata": {
        "id": "efc2P8s7mJmb"
      }
    },
    {
      "cell_type": "code",
      "source": [
        "BATCH_SIZE = 32\n",
        "model_name = 'roberta-base'\n",
        "training_checkpoint_path = PROJECT_WORK_LOCAL_PATH + \"/checkpoint/\" + model_name\n",
        "save_model_path = PROJECT_WORK_LOCAL_PATH + \"/trained_model/\" + model_name\n",
        "\n",
        "#LOSS_NAME = 'DBloss'\n",
        "LOSS_NAME = 'BCE'\n",
        "\n",
        "training_args = TrainingArguments(\n",
        "    evaluation_strategy=\"epoch\",\n",
        "    save_strategy=\"no\",\n",
        "    num_train_epochs=4,\n",
        "    weight_decay=0.01,\n",
        "    learning_rate=2e-5,\n",
        "    per_device_train_batch_size=BATCH_SIZE,\n",
        "    per_device_eval_batch_size=BATCH_SIZE,\n",
        "    fp16=False, \n",
        "    logging_steps= len(df_train) // BATCH_SIZE,\n",
        "    output_dir = training_checkpoint_path,\n",
        "    optim='adamw_torch',\n",
        "    report_to ='all',\n",
        "    lr_scheduler_type ='cosine'\n",
        ")\n",
        "\n",
        "print('Loading the model and tokenizer')\n",
        "model, tokenizer = get_model_and_tokenizer(model_name)\n",
        "print(f'Model {model_name} downloaded')\n",
        "\n",
        "print('************ DATASETS TOKENIZATION *******')\n",
        "df_train_tokenized = tokenize_dataset(df_train, tokenizer)\n",
        "df_val_tokenized = tokenize_dataset(df_val, tokenizer)\n",
        "\n",
        "train_model(model, \n",
        "            tokenizer,\n",
        "            training_args,\n",
        "            df_train_tokenized, \n",
        "            df_val_tokenized, \n",
        "            save_path = save_model_path,\n",
        "            resume_from_checkpoint = False\n",
        "            )\n",
        "\n",
        "\n",
        "del model\n",
        "torch.cuda.empty_cache()"
      ],
      "metadata": {
        "colab": {
          "base_uri": "https://localhost:8080/",
          "height": 1000,
          "referenced_widgets": [
            "4c9e0cfe087848528c9b039685c4b6b5",
            "6de8f410be3c4d20a5b0cc7a9eaf6511",
            "cf54e145c27b454bb8610a253e2f0631",
            "05d0588e1b274a2bb1a0032fe5d96e3a",
            "f2861a0de24348638abfe8007d2d06f3",
            "d3b459b4367143f39adf2e1600ccdca5",
            "431f68863d284828a03e8582eefd4630",
            "8a5149130d6546d28a1007bd3a9f6716",
            "774e61905c5a4c8db0fbb3a4c2f8c9f6",
            "ea7c0ec90364430f8bf42d06934616a4",
            "16b16a09ec3148d2904f8e747323c253",
            "0ce3c51129ee4b7f864bbaf6cbfcdb24",
            "561bb8bc81674827ad8166088f6e24f7",
            "9551d6ca17734a928afdb3de3241fc54",
            "6314a03a93da4ade9be4735748a0796a",
            "84c4d0828c8440318c7464e5ec214fa2",
            "bc5a5fe87e6b45d1a33cc1d355effd84",
            "70bd67d0dc7246e5aa68f74da9d479d3",
            "0f692779fa954df2ab971e3549bc14e1",
            "bb8aa6255c95444ea1ce2b06831af96f",
            "80ffddb79a37498a916babfd497ab707",
            "a1841ca530da4d38b7cf19d232a29ef8",
            "8a4aca75c11347fcbde9ddde2548dbbe",
            "762b051a8d23417fb9a39267cb41279e",
            "4f761c142a2c4983bbb411fda346e34d",
            "5af295e2481a4d699ebc6774ba1ec2d6",
            "7d2986ece12f46f3a4fe443373305b4e",
            "3a7aa2903a34414988d1ecd5f4871ee9",
            "c23d9682f2334ecda64ee810368e21c7",
            "c740f7e7bd8b410eb68c3b00afa4b3c7",
            "58abae1cbdcd4cc28f1eae89def9b656",
            "76eff67fd033404291b262d667e3a038",
            "cc00d554afb44bcca50588bda28051e8",
            "d13e545e8d6949c9be779f094e49d255",
            "9a99e7cc8b29416ca7cd66f03859c6f7",
            "d2bf6f30651a42b3b47e140aa6c46928",
            "e4c9d4734ede4edb8a5bf8cf400bd05b",
            "5f9e7449f39a4255a3ac7a52ee5e93a1",
            "31e6b324792c4c3c97435339be29e5e7",
            "b6edc02dd35c48019ce21ad5973d73dc",
            "4ebc602cff9d4207a3ea3e2d35735050",
            "789c62e4f2784672bf57b4296ccea39c",
            "29073bdc60cf49c2838026b8478b6dfb",
            "1162b6657f214d41be6d11f7ddd23165",
            "f6f7dc97245341a2ad1f112c29ebb41e",
            "7483d8df49254c8499bba78afef27abb",
            "c91cfd36592c4cecad77b20132929170",
            "cb795ddde8524f0f8d85b70d09ec2afb",
            "166e47cf022646e1a25fd3044e884586",
            "4ce79ba993b04c1ebb980501ecf667c4",
            "9373d4204ea74328b98b866eea12aa4a",
            "8ff4301a2ba944f6b6f499f8e506b165",
            "6ffe7506aef347858f44c465b0691dcb",
            "d7d100a373904bf5a549b95573e39fcc",
            "696abca9c9664a91b60ff2ddfea7aaca",
            "ed51e6a6738b4d5cab658c3d68310f75",
            "0a736307710d4229ac829499c499ac3c",
            "ed34b8b90dd24f9eb1bca6f30db5297d",
            "6293c1146a4d4d9598017ec92b5baadc",
            "a8fdc7b2ca424ca2bd206e0ac68a57fb",
            "60c2ea945a6845978d8efca92f8d6612",
            "720258060a694966b43e9d3dca646a24",
            "7dd3727a0797406a97d5e56540018ce8",
            "d46e4e828f2e4f1884998b6a69199113",
            "cd3bdf54efc44ab888bce1be03342af3",
            "51ab71fcb8134e818349ded937916205",
            "2e7eab9e2db740c089fc5589a5f37d19",
            "aac532e8f56d49fb9ff8c0d617c427f3",
            "abb9eb2e81bd4ab08cd6c6158ef8e677",
            "3bdd2147314f455f9fa7279ce817d7c9",
            "0d87c1bec49d46c9828d10178a00d972",
            "3057c38365d549529a62f0e754cb8ea4",
            "7cfd12ade9b145fd8a1c37d7ace212cc",
            "3fc56214566e498c9d782fe562a41daf",
            "c7df9870142e46ca8b017dc7201761c0",
            "aeb580b22a7246e48ccb8a4cd54bca27",
            "968d281ae25b4fb7a4c14eb6a8615dfc",
            "026104be99184c67a5ada3dc0ee14a90",
            "e5113edd8bd24a4296068c71827a929c",
            "4afafd9be39d47cfa699046fa36bc305",
            "bd470c1dd479452f9357f0b60d83532d",
            "76e10ebfde954b97b75409a45022320c",
            "5494af0a6a334d3ea8b82994219eaf17",
            "b5e13c03bd2c43f0b7f24fe0472e3cb9",
            "5b3297ac5dde45bcbdb3ea9e936f975b",
            "594d64cd8e0d4e6f8663466e305b832c",
            "d18cf25476e94190ad6df7504bf7e64c",
            "55f10350ce2042209a8c9dd620237ef5",
            "97b349810e524a619e43549134e12cba",
            "fb9066c05d3a42dda416e543fd366f00",
            "4157540fcac64039a811f640063d0c49",
            "02f856ce4e9c4f8ea4798c74e76be406",
            "2d5e72bb1b664733a20727a54cdd0777",
            "c80bda9797a945cd8ad228dea574d51b",
            "831ea95ade62412997e4418ae4dda944",
            "86e15e5313f744b7b01f9cb8c3bc225c",
            "2e6c6b4a3ee44e48895978561e6ca7e3",
            "74e280bf49e6458d86977552b1d4a96e",
            "410a58e609af48bf88b141c2f3e36247"
          ]
        },
        "outputId": "242e324b-f6fb-48f0-bb16-d0676a296e53",
        "id": "QfKe6YbQmJmb"
      },
      "execution_count": null,
      "outputs": [
        {
          "output_type": "stream",
          "name": "stdout",
          "text": [
            "Loading the model and tokenizer\n"
          ]
        },
        {
          "output_type": "display_data",
          "data": {
            "text/plain": [
              "Downloading:   0%|          | 0.00/481 [00:00<?, ?B/s]"
            ],
            "application/vnd.jupyter.widget-view+json": {
              "version_major": 2,
              "version_minor": 0,
              "model_id": "4c9e0cfe087848528c9b039685c4b6b5"
            }
          },
          "metadata": {}
        },
        {
          "output_type": "display_data",
          "data": {
            "text/plain": [
              "Downloading:   0%|          | 0.00/501M [00:00<?, ?B/s]"
            ],
            "application/vnd.jupyter.widget-view+json": {
              "version_major": 2,
              "version_minor": 0,
              "model_id": "0ce3c51129ee4b7f864bbaf6cbfcdb24"
            }
          },
          "metadata": {}
        },
        {
          "output_type": "stream",
          "name": "stderr",
          "text": [
            "Some weights of the model checkpoint at roberta-base were not used when initializing RobertaForSequenceClassification: ['lm_head.dense.weight', 'lm_head.layer_norm.bias', 'roberta.pooler.dense.bias', 'lm_head.decoder.weight', 'roberta.pooler.dense.weight', 'lm_head.layer_norm.weight', 'lm_head.dense.bias', 'lm_head.bias']\n",
            "- This IS expected if you are initializing RobertaForSequenceClassification from the checkpoint of a model trained on another task or with another architecture (e.g. initializing a BertForSequenceClassification model from a BertForPreTraining model).\n",
            "- This IS NOT expected if you are initializing RobertaForSequenceClassification from the checkpoint of a model that you expect to be exactly identical (initializing a BertForSequenceClassification model from a BertForSequenceClassification model).\n",
            "Some weights of RobertaForSequenceClassification were not initialized from the model checkpoint at roberta-base and are newly initialized: ['classifier.out_proj.weight', 'classifier.dense.weight', 'classifier.dense.bias', 'classifier.out_proj.bias']\n",
            "You should probably TRAIN this model on a down-stream task to be able to use it for predictions and inference.\n"
          ]
        },
        {
          "output_type": "display_data",
          "data": {
            "text/plain": [
              "Downloading:   0%|          | 0.00/899k [00:00<?, ?B/s]"
            ],
            "application/vnd.jupyter.widget-view+json": {
              "version_major": 2,
              "version_minor": 0,
              "model_id": "8a4aca75c11347fcbde9ddde2548dbbe"
            }
          },
          "metadata": {}
        },
        {
          "output_type": "display_data",
          "data": {
            "text/plain": [
              "Downloading:   0%|          | 0.00/456k [00:00<?, ?B/s]"
            ],
            "application/vnd.jupyter.widget-view+json": {
              "version_major": 2,
              "version_minor": 0,
              "model_id": "d13e545e8d6949c9be779f094e49d255"
            }
          },
          "metadata": {}
        },
        {
          "output_type": "display_data",
          "data": {
            "text/plain": [
              "Downloading:   0%|          | 0.00/1.36M [00:00<?, ?B/s]"
            ],
            "application/vnd.jupyter.widget-view+json": {
              "version_major": 2,
              "version_minor": 0,
              "model_id": "f6f7dc97245341a2ad1f112c29ebb41e"
            }
          },
          "metadata": {}
        },
        {
          "output_type": "stream",
          "name": "stdout",
          "text": [
            "Model roberta-base downloaded\n",
            "************ DATASETS TOKENIZATION *******\n"
          ]
        },
        {
          "output_type": "display_data",
          "data": {
            "text/plain": [
              "  0%|          | 0/392 [00:00<?, ?ba/s]"
            ],
            "application/vnd.jupyter.widget-view+json": {
              "version_major": 2,
              "version_minor": 0,
              "model_id": "ed51e6a6738b4d5cab658c3d68310f75"
            }
          },
          "metadata": {}
        },
        {
          "output_type": "display_data",
          "data": {
            "text/plain": [
              "Casting the dataset:   0%|          | 0/13 [00:00<?, ?ba/s]"
            ],
            "application/vnd.jupyter.widget-view+json": {
              "version_major": 2,
              "version_minor": 0,
              "model_id": "2e7eab9e2db740c089fc5589a5f37d19"
            }
          },
          "metadata": {}
        },
        {
          "output_type": "display_data",
          "data": {
            "text/plain": [
              "  0%|          | 0/34 [00:00<?, ?ba/s]"
            ],
            "application/vnd.jupyter.widget-view+json": {
              "version_major": 2,
              "version_minor": 0,
              "model_id": "026104be99184c67a5ada3dc0ee14a90"
            }
          },
          "metadata": {}
        },
        {
          "output_type": "display_data",
          "data": {
            "text/plain": [
              "Casting the dataset:   0%|          | 0/2 [00:00<?, ?ba/s]"
            ],
            "application/vnd.jupyter.widget-view+json": {
              "version_major": 2,
              "version_minor": 0,
              "model_id": "97b349810e524a619e43549134e12cba"
            }
          },
          "metadata": {}
        },
        {
          "output_type": "stream",
          "name": "stderr",
          "text": [
            "***** Running Evaluation *****\n",
            "  Num examples = 1079\n",
            "  Batch size = 32\n",
            "You're using a RobertaTokenizerFast tokenizer. Please note that with a fast tokenizer, using the `__call__` method is faster than using a method to encode the text followed by a call to the `pad` method to get a padded encoding.\n"
          ]
        },
        {
          "output_type": "stream",
          "name": "stdout",
          "text": [
            "*********sanity check that we can run evaluation***********\n"
          ]
        },
        {
          "output_type": "display_data",
          "data": {
            "text/plain": [
              "<IPython.core.display.HTML object>"
            ],
            "text/html": [
              "\n",
              "    <div>\n",
              "      \n",
              "      <progress value='68' max='34' style='width:300px; height:20px; vertical-align: middle;'></progress>\n",
              "      [34/34 04:27]\n",
              "    </div>\n",
              "    "
            ]
          },
          "metadata": {}
        },
        {
          "output_type": "stream",
          "name": "stderr",
          "text": [
            "***** Running training *****\n",
            "  Num examples = 12540\n",
            "  Num Epochs = 4\n",
            "  Instantaneous batch size per device = 32\n",
            "  Total train batch size (w. parallel, distributed & accumulation) = 32\n",
            "  Gradient Accumulation steps = 1\n",
            "  Total optimization steps = 1568\n",
            "  Number of trainable parameters = 124661012\n"
          ]
        },
        {
          "output_type": "stream",
          "name": "stdout",
          "text": [
            "************ TRAINING START ************\n"
          ]
        },
        {
          "output_type": "display_data",
          "data": {
            "text/plain": [
              "<IPython.core.display.HTML object>"
            ],
            "text/html": [
              "\n",
              "    <div>\n",
              "      \n",
              "      <progress value='1568' max='1568' style='width:300px; height:20px; vertical-align: middle;'></progress>\n",
              "      [1568/1568 17:31, Epoch 4/4]\n",
              "    </div>\n",
              "    <table border=\"1\" class=\"dataframe\">\n",
              "  <thead>\n",
              " <tr style=\"text-align: left;\">\n",
              "      <th>Epoch</th>\n",
              "      <th>Training Loss</th>\n",
              "      <th>Validation Loss</th>\n",
              "      <th>Macro f1</th>\n",
              "      <th>Roc Auc</th>\n",
              "    </tr>\n",
              "  </thead>\n",
              "  <tbody>\n",
              "    <tr>\n",
              "      <td>1</td>\n",
              "      <td>0.359300</td>\n",
              "      <td>0.329235</td>\n",
              "      <td>0.298132</td>\n",
              "      <td>0.603538</td>\n",
              "    </tr>\n",
              "    <tr>\n",
              "      <td>2</td>\n",
              "      <td>0.271900</td>\n",
              "      <td>0.312859</td>\n",
              "      <td>0.376307</td>\n",
              "      <td>0.635306</td>\n",
              "    </tr>\n",
              "    <tr>\n",
              "      <td>3</td>\n",
              "      <td>0.236300</td>\n",
              "      <td>0.308415</td>\n",
              "      <td>0.411883</td>\n",
              "      <td>0.651725</td>\n",
              "    </tr>\n",
              "    <tr>\n",
              "      <td>4</td>\n",
              "      <td>0.220600</td>\n",
              "      <td>0.308365</td>\n",
              "      <td>0.416046</td>\n",
              "      <td>0.653602</td>\n",
              "    </tr>\n",
              "  </tbody>\n",
              "</table><p>"
            ]
          },
          "metadata": {}
        },
        {
          "output_type": "stream",
          "name": "stderr",
          "text": [
            "***** Running Evaluation *****\n",
            "  Num examples = 1079\n",
            "  Batch size = 32\n",
            "***** Running Evaluation *****\n",
            "  Num examples = 1079\n",
            "  Batch size = 32\n",
            "***** Running Evaluation *****\n",
            "  Num examples = 1079\n",
            "  Batch size = 32\n",
            "***** Running Evaluation *****\n",
            "  Num examples = 1079\n",
            "  Batch size = 32\n",
            "\n",
            "\n",
            "Training completed. Do not forget to share your model on huggingface.co/models =)\n",
            "\n",
            "\n",
            "Saving model checkpoint to /content/gdrive/MyDrive/unibo/NLP/projectWork/trained_model/roberta-base\n",
            "Configuration saved in /content/gdrive/MyDrive/unibo/NLP/projectWork/trained_model/roberta-base/config.json\n",
            "Model weights saved in /content/gdrive/MyDrive/unibo/NLP/projectWork/trained_model/roberta-base/pytorch_model.bin\n",
            "tokenizer config file saved in /content/gdrive/MyDrive/unibo/NLP/projectWork/trained_model/roberta-base/tokenizer_config.json\n",
            "Special tokens file saved in /content/gdrive/MyDrive/unibo/NLP/projectWork/trained_model/roberta-base/special_tokens_map.json\n"
          ]
        },
        {
          "output_type": "stream",
          "name": "stdout",
          "text": [
            "********** TRAINING END *************\n"
          ]
        }
      ]
    },
    {
      "cell_type": "markdown",
      "source": [
        "#### Model Evaluation\n"
      ],
      "metadata": {
        "id": "BBIeqGz0mJmb"
      }
    },
    {
      "cell_type": "code",
      "source": [
        "BATCH_SIZE = 32\n",
        "model_name = 'roberta-base'\n",
        "save_model_path = PROJECT_WORK_LOCAL_PATH + \"/trained_model/\" + model_name\n",
        "\n",
        "model = AutoModelMultilabelSequenceClassification.from_pretrained(save_model_path).to(device)\n",
        "tokenizer = AutoTokenizer.from_pretrained(model_name)"
      ],
      "metadata": {
        "colab": {
          "base_uri": "https://localhost:8080/"
        },
        "outputId": "15908cb2-6ba3-4617-beed-f6cef27200b4",
        "id": "QIhZzPs0mJmc"
      },
      "execution_count": null,
      "outputs": [
        {
          "output_type": "stream",
          "name": "stderr",
          "text": [
            "loading configuration file /content/gdrive/MyDrive/unibo/NLP/projectWork/trained_model/roberta-base/config.json\n",
            "Model config RobertaConfig {\n",
            "  \"_name_or_path\": \"/content/gdrive/MyDrive/unibo/NLP/projectWork/trained_model/roberta-base\",\n",
            "  \"architectures\": [\n",
            "    \"RobertaForSequenceClassification\"\n",
            "  ],\n",
            "  \"attention_probs_dropout_prob\": 0.1,\n",
            "  \"bos_token_id\": 0,\n",
            "  \"classifier_dropout\": null,\n",
            "  \"cls_token_id\": 0,\n",
            "  \"early_stopping\": true,\n",
            "  \"eos_token_id\": 2,\n",
            "  \"hidden_act\": \"gelu\",\n",
            "  \"hidden_dropout_prob\": 0.1,\n",
            "  \"hidden_size\": 768,\n",
            "  \"id2label\": {\n",
            "    \"0\": \"Self-direction: thought\",\n",
            "    \"1\": \"Self-direction: action\",\n",
            "    \"2\": \"Stimulation\",\n",
            "    \"3\": \"Hedonism\",\n",
            "    \"4\": \"Achievement\",\n",
            "    \"5\": \"Power: dominance\",\n",
            "    \"6\": \"Power: resources\",\n",
            "    \"7\": \"Face\",\n",
            "    \"8\": \"Security: personal\",\n",
            "    \"9\": \"Security: societal\",\n",
            "    \"10\": \"Tradition\",\n",
            "    \"11\": \"Conformity: rules\",\n",
            "    \"12\": \"Conformity: interpersonal\",\n",
            "    \"13\": \"Humility\",\n",
            "    \"14\": \"Benevolence: caring\",\n",
            "    \"15\": \"Benevolence: dependability\",\n",
            "    \"16\": \"Universalism: concern\",\n",
            "    \"17\": \"Universalism: nature\",\n",
            "    \"18\": \"Universalism: tolerance\",\n",
            "    \"19\": \"Universalism: objectivity\"\n",
            "  },\n",
            "  \"initializer_range\": 0.02,\n",
            "  \"intermediate_size\": 3072,\n",
            "  \"label2id\": {\n",
            "    \"Achievement\": 4,\n",
            "    \"Benevolence: caring\": 14,\n",
            "    \"Benevolence: dependability\": 15,\n",
            "    \"Conformity: interpersonal\": 12,\n",
            "    \"Conformity: rules\": 11,\n",
            "    \"Face\": 7,\n",
            "    \"Hedonism\": 3,\n",
            "    \"Humility\": 13,\n",
            "    \"Power: dominance\": 5,\n",
            "    \"Power: resources\": 6,\n",
            "    \"Security: personal\": 8,\n",
            "    \"Security: societal\": 9,\n",
            "    \"Self-direction: action\": 1,\n",
            "    \"Self-direction: thought\": 0,\n",
            "    \"Stimulation\": 2,\n",
            "    \"Tradition\": 10,\n",
            "    \"Universalism: concern\": 16,\n",
            "    \"Universalism: nature\": 17,\n",
            "    \"Universalism: objectivity\": 19,\n",
            "    \"Universalism: tolerance\": 18\n",
            "  },\n",
            "  \"layer_norm_eps\": 1e-05,\n",
            "  \"max_position_embeddings\": 514,\n",
            "  \"model_type\": \"roberta\",\n",
            "  \"num_attention_heads\": 12,\n",
            "  \"num_hidden_layers\": 12,\n",
            "  \"pad_token_id\": 1,\n",
            "  \"position_embedding_type\": \"absolute\",\n",
            "  \"problem_type\": \"multi_label_classification\",\n",
            "  \"torch_dtype\": \"float32\",\n",
            "  \"transformers_version\": \"4.25.1\",\n",
            "  \"type_vocab_size\": 1,\n",
            "  \"use_cache\": true,\n",
            "  \"vocab_size\": 50265\n",
            "}\n",
            "\n",
            "loading weights file /content/gdrive/MyDrive/unibo/NLP/projectWork/trained_model/roberta-base/pytorch_model.bin\n",
            "All model checkpoint weights were used when initializing RobertaForSequenceClassification.\n",
            "\n",
            "All the weights of RobertaForSequenceClassification were initialized from the model checkpoint at /content/gdrive/MyDrive/unibo/NLP/projectWork/trained_model/roberta-base.\n",
            "If your task is similar to the task the model of the checkpoint was trained on, you can already use RobertaForSequenceClassification for predictions without further training.\n",
            "Could not locate the tokenizer configuration file, will try to use the model config instead.\n",
            "loading configuration file config.json from cache at /root/.cache/huggingface/hub/models--roberta-base/snapshots/ff46155979338ff8063cdad90908b498ab91b181/config.json\n",
            "Model config RobertaConfig {\n",
            "  \"_name_or_path\": \"roberta-base\",\n",
            "  \"architectures\": [\n",
            "    \"RobertaForMaskedLM\"\n",
            "  ],\n",
            "  \"attention_probs_dropout_prob\": 0.1,\n",
            "  \"bos_token_id\": 0,\n",
            "  \"classifier_dropout\": null,\n",
            "  \"eos_token_id\": 2,\n",
            "  \"hidden_act\": \"gelu\",\n",
            "  \"hidden_dropout_prob\": 0.1,\n",
            "  \"hidden_size\": 768,\n",
            "  \"initializer_range\": 0.02,\n",
            "  \"intermediate_size\": 3072,\n",
            "  \"layer_norm_eps\": 1e-05,\n",
            "  \"max_position_embeddings\": 514,\n",
            "  \"model_type\": \"roberta\",\n",
            "  \"num_attention_heads\": 12,\n",
            "  \"num_hidden_layers\": 12,\n",
            "  \"pad_token_id\": 1,\n",
            "  \"position_embedding_type\": \"absolute\",\n",
            "  \"transformers_version\": \"4.25.1\",\n",
            "  \"type_vocab_size\": 1,\n",
            "  \"use_cache\": true,\n",
            "  \"vocab_size\": 50265\n",
            "}\n",
            "\n",
            "loading file vocab.json from cache at /root/.cache/huggingface/hub/models--roberta-base/snapshots/ff46155979338ff8063cdad90908b498ab91b181/vocab.json\n",
            "loading file merges.txt from cache at /root/.cache/huggingface/hub/models--roberta-base/snapshots/ff46155979338ff8063cdad90908b498ab91b181/merges.txt\n",
            "loading file tokenizer.json from cache at /root/.cache/huggingface/hub/models--roberta-base/snapshots/ff46155979338ff8063cdad90908b498ab91b181/tokenizer.json\n",
            "loading file added_tokens.json from cache at None\n",
            "loading file special_tokens_map.json from cache at None\n",
            "loading file tokenizer_config.json from cache at None\n",
            "loading configuration file config.json from cache at /root/.cache/huggingface/hub/models--roberta-base/snapshots/ff46155979338ff8063cdad90908b498ab91b181/config.json\n",
            "Model config RobertaConfig {\n",
            "  \"_name_or_path\": \"roberta-base\",\n",
            "  \"architectures\": [\n",
            "    \"RobertaForMaskedLM\"\n",
            "  ],\n",
            "  \"attention_probs_dropout_prob\": 0.1,\n",
            "  \"bos_token_id\": 0,\n",
            "  \"classifier_dropout\": null,\n",
            "  \"eos_token_id\": 2,\n",
            "  \"hidden_act\": \"gelu\",\n",
            "  \"hidden_dropout_prob\": 0.1,\n",
            "  \"hidden_size\": 768,\n",
            "  \"initializer_range\": 0.02,\n",
            "  \"intermediate_size\": 3072,\n",
            "  \"layer_norm_eps\": 1e-05,\n",
            "  \"max_position_embeddings\": 514,\n",
            "  \"model_type\": \"roberta\",\n",
            "  \"num_attention_heads\": 12,\n",
            "  \"num_hidden_layers\": 12,\n",
            "  \"pad_token_id\": 1,\n",
            "  \"position_embedding_type\": \"absolute\",\n",
            "  \"transformers_version\": \"4.25.1\",\n",
            "  \"type_vocab_size\": 1,\n",
            "  \"use_cache\": true,\n",
            "  \"vocab_size\": 50265\n",
            "}\n",
            "\n"
          ]
        }
      ]
    },
    {
      "cell_type": "markdown",
      "source": [
        "#####Global Threshold"
      ],
      "metadata": {
        "id": "opGHiTjmmJmc"
      }
    },
    {
      "cell_type": "code",
      "source": [
        "print('************ Test set tokenization*******')\n",
        "df_test_tokenized = tokenize_dataset(df_test, tokenizer)\n",
        "model1_metrics, df_with_results = compute_evaluation_metrics(model,tokenizer,df_test_tokenized, treshold = 0.5 )"
      ],
      "metadata": {
        "colab": {
          "base_uri": "https://localhost:8080/",
          "height": 616,
          "referenced_widgets": [
            "4f7a86263b414e14b392e84ca7dffcb2",
            "003ab0748f524a97bcbfd6c77d3495a1",
            "065c4234ba5c4c309ec73f023fbe410f",
            "671f43b0d2d54f038265588708d1cf48",
            "518dc44432334a4bb761717c8ff47263",
            "c3772a5d57904b49ba664df2790fd53a",
            "7210b646835a4a21b4ef8e801bf2ac57",
            "54582bbfeeab48c7977bb4c3955317df",
            "794a198455a94f05aeaa28b7d66ebc76",
            "f27716611ea54583bfa1767a166bf54d",
            "c8987cc8bfc54b898330c47340aab0f9",
            "53c3f13fd08548028f087ccb355084ea",
            "352a651d7b444231ab18a40ffd6217b1",
            "674beddac1d04cc2a09290e65e5e1dab",
            "3811978aee0b4edab618830662acf021",
            "409653e1f302498f8750c39f5a509b1d",
            "cec5510553524700a413086345bd546d",
            "45a5ebef9f894048a0f9264d6cc2d792",
            "fcb9118274cc450da0c36e50fc7f48db",
            "ba124d03df0240568e541795e2283293",
            "c0b668f990f9454d868e7b41738c8546",
            "da731f7b5e5c40c9b921a07292cd906e",
            "ba43cd6dae8e45688eac9619f173ffb1",
            "3e7fe079042c4468b11d4047dad507cf",
            "bfdd6f8c2a624088aca878560b366ebb",
            "af26f3806fc14ecfbd7cd156becc56b7",
            "b0febcf6aac24818beb489683630980b",
            "88c006cd03f2433980dccaeb782af335",
            "ec61243f3156401396ddb91a5bdd9773",
            "0010819017e54b3191f2b3cbb78e1f4a",
            "579ecc5f5bba49088b465c88d195c89c",
            "a32e0c34399d461d98b97c3c6c94e4a7",
            "27df2cf0ee364f439cda88d572177180"
          ]
        },
        "outputId": "9458e4a9-c2d2-4966-ba16-fcca1a8b79af",
        "id": "xY9BHwJCmJmc"
      },
      "execution_count": null,
      "outputs": [
        {
          "output_type": "stream",
          "name": "stdout",
          "text": [
            "************ Test set tokenization*******\n"
          ]
        },
        {
          "output_type": "display_data",
          "data": {
            "text/plain": [
              "  0%|          | 0/60 [00:00<?, ?ba/s]"
            ],
            "application/vnd.jupyter.widget-view+json": {
              "version_major": 2,
              "version_minor": 0,
              "model_id": "4f7a86263b414e14b392e84ca7dffcb2"
            }
          },
          "metadata": {}
        },
        {
          "output_type": "display_data",
          "data": {
            "text/plain": [
              "Casting the dataset:   0%|          | 0/2 [00:00<?, ?ba/s]"
            ],
            "application/vnd.jupyter.widget-view+json": {
              "version_major": 2,
              "version_minor": 0,
              "model_id": "53c3f13fd08548028f087ccb355084ea"
            }
          },
          "metadata": {}
        },
        {
          "output_type": "display_data",
          "data": {
            "text/plain": [
              "  0%|          | 0/60 [00:00<?, ?ba/s]"
            ],
            "application/vnd.jupyter.widget-view+json": {
              "version_major": 2,
              "version_minor": 0,
              "model_id": "ba43cd6dae8e45688eac9619f173ffb1"
            }
          },
          "metadata": {}
        },
        {
          "output_type": "stream",
          "name": "stdout",
          "text": [
            "              precision    recall  f1-score   support\n",
            "\n",
            "           0       0.56      0.41      0.48       251\n",
            "           1       0.69      0.43      0.53       496\n",
            "           2       1.00      0.00      0.00       138\n",
            "           3       1.00      0.00      0.00       103\n",
            "           4       0.75      0.53      0.62       575\n",
            "           5       0.65      0.08      0.14       164\n",
            "           6       0.44      0.26      0.33       132\n",
            "           7       1.00      0.00      0.00       130\n",
            "           8       0.72      0.77      0.74       759\n",
            "           9       0.70      0.59      0.64       488\n",
            "          10       0.68      0.31      0.43       172\n",
            "          11       0.64      0.40      0.49       455\n",
            "          12       1.00      0.00      0.00        60\n",
            "          13       0.15      0.02      0.04       127\n",
            "          14       0.70      0.44      0.54       633\n",
            "          15       0.50      0.06      0.11       268\n",
            "          16       0.71      0.64      0.67       687\n",
            "          17       0.80      0.57      0.67       127\n",
            "          18       0.39      0.04      0.07       223\n",
            "          19       0.59      0.25      0.35       371\n",
            "\n",
            "   micro avg       0.69      0.42      0.52      6359\n",
            "   macro avg       0.68      0.29      0.34      6359\n",
            "weighted avg       0.68      0.42      0.48      6359\n",
            " samples avg       0.73      0.48      0.53      6359\n",
            "\n"
          ]
        }
      ]
    },
    {
      "cell_type": "markdown",
      "source": [
        "##### Individual Treshold"
      ],
      "metadata": {
        "id": "mqbkXZWEmJmc"
      }
    },
    {
      "cell_type": "code",
      "source": [
        "df_train_val= pd.concat([df_train, df_val], axis=0)\n",
        "df_train_val_tokenized = tokenize_dataset(df_train_val, tokenizer)\n",
        "\n",
        "_, df_train_val_results = compute_evaluation_metrics(model,tokenizer,df_train_val_tokenized, treshold = 0.5, verbose = False )\n",
        "\n",
        "probabilities = df_train_val_results['probabilities'].cpu().data.numpy()\n",
        "labels = df_train_val_results['labels'].cpu().data.numpy()\n",
        "\n",
        "tresholds = np.linspace(0.01, 0.5, 50)\n",
        "best_tresholds = {}\n",
        "\n",
        "idx = 0\n",
        "for probabilities, labels in zip(probabilities.T, labels.T):\n",
        "  f1_scores = []\n",
        "  for treshold in tresholds:\n",
        "    pred_labels = np.where(probabilities > treshold, 1, 0)\n",
        "    f1_scores.append(f1_score(y_true=labels, y_pred=pred_labels))\n",
        "\n",
        "  best_tresholds.update({ LABELS_LIST[idx] : tresholds[np.argmax(f1_scores)]})\n",
        "  idx +=1\n",
        "\n",
        "print('Best individual tresholds founded:')\n",
        "best_tresholds  "
      ],
      "metadata": {
        "colab": {
          "base_uri": "https://localhost:8080/",
          "height": 477,
          "referenced_widgets": [
            "43f8521ba46f49588fa7768fe071e749",
            "861616da385e4f4e8b9aa83ba8396d7f",
            "9518ee36f90c460e880ea9b943718722",
            "ff1035faa7984c1d8bb95be14959634e",
            "73e27f1a11014ebaa702028d8ffc9e92",
            "0cd2bc3c82844a6b881c891cab5ef798",
            "fc9e6fa90f6043de8261f1cf7f50172a",
            "276450e7bc1044c1af2756dadc8134ff",
            "c90a458793524328a5520f6dd92cb7fe",
            "3870fa8f9ef8401dbdca54dd04a84fe8",
            "c556dc75cc644638828a3df6676f2e42",
            "40982aa63d9e434f84fc4a018b7e95dc",
            "373573bb1799439295b2d52f9ecfb269",
            "33a5048ce97b48fd9c685ee2d6b78fc7",
            "d092704175bd43db97d764311f14432c",
            "3ddd97958c8b4585940ae4eee9449777",
            "b905db5fccaf4479be079fa83d179da3",
            "00b94b0b2b774ce48470706f32d777b6",
            "38143ec9cfc54d978e2879d930a59154",
            "fe6b00a9e1e341efa18c186f3a9e4975",
            "a0d9e3a0f2814d8e9d90e39f20512ddd",
            "3d7593d556454c1393063f8ceb27f52b",
            "deeebb33657945f1858876e7c7d1bdab",
            "b5cae2d9d0384a61aeb0a8ae4266cdab",
            "6a94fe2e75324264ba1b7e89a25edeb6",
            "9f60afe466a7427eaf387eb75e32f964",
            "e865495f16ce4e17b0e1cca8ed688df8",
            "64e231748fc2414fa39bdf631717877e",
            "9e50b62ab0a7450e9ed91e1e852d41fc",
            "fa1c3576d5304208ac5513631af0c89d",
            "0d44bafcc548443dba56e3b5553c22b5",
            "ef474c9cd54a4dbabba00ac231da7001",
            "ea7b88c402554e1984cded6c166c909e"
          ]
        },
        "outputId": "49da2f1a-21f5-4a61-b8b3-91451e5a349f",
        "id": "h7T7ANSomJmd"
      },
      "execution_count": null,
      "outputs": [
        {
          "output_type": "display_data",
          "data": {
            "text/plain": [
              "  0%|          | 0/426 [00:00<?, ?ba/s]"
            ],
            "application/vnd.jupyter.widget-view+json": {
              "version_major": 2,
              "version_minor": 0,
              "model_id": "43f8521ba46f49588fa7768fe071e749"
            }
          },
          "metadata": {}
        },
        {
          "output_type": "display_data",
          "data": {
            "text/plain": [
              "Casting the dataset:   0%|          | 0/14 [00:00<?, ?ba/s]"
            ],
            "application/vnd.jupyter.widget-view+json": {
              "version_major": 2,
              "version_minor": 0,
              "model_id": "40982aa63d9e434f84fc4a018b7e95dc"
            }
          },
          "metadata": {}
        },
        {
          "output_type": "display_data",
          "data": {
            "text/plain": [
              "  0%|          | 0/426 [00:00<?, ?ba/s]"
            ],
            "application/vnd.jupyter.widget-view+json": {
              "version_major": 2,
              "version_minor": 0,
              "model_id": "deeebb33657945f1858876e7c7d1bdab"
            }
          },
          "metadata": {}
        },
        {
          "output_type": "stream",
          "name": "stdout",
          "text": [
            "Best individual tresholds founded:\n"
          ]
        },
        {
          "output_type": "execute_result",
          "data": {
            "text/plain": [
              "{'Self-direction: thought': 0.42000000000000004,\n",
              " 'Self-direction: action': 0.35000000000000003,\n",
              " 'Stimulation': 0.01,\n",
              " 'Hedonism': 0.01,\n",
              " 'Achievement': 0.4,\n",
              " 'Power: dominance': 0.21000000000000002,\n",
              " 'Power: resources': 0.4,\n",
              " 'Face': 0.16,\n",
              " 'Security: personal': 0.46,\n",
              " 'Security: societal': 0.42000000000000004,\n",
              " 'Tradition': 0.31,\n",
              " 'Conformity: rules': 0.31,\n",
              " 'Conformity: interpersonal': 0.01,\n",
              " 'Humility': 0.22,\n",
              " 'Benevolence: caring': 0.29000000000000004,\n",
              " 'Benevolence: dependability': 0.27,\n",
              " 'Universalism: concern': 0.42000000000000004,\n",
              " 'Universalism: nature': 0.38,\n",
              " 'Universalism: tolerance': 0.27,\n",
              " 'Universalism: objectivity': 0.23}"
            ]
          },
          "metadata": {},
          "execution_count": 21
        }
      ]
    },
    {
      "cell_type": "code",
      "source": [
        "probabilities = df_with_results['probabilities'].cpu().data.numpy()\n",
        "labels = df_with_results['labels'].cpu().data.numpy()\n",
        "\n",
        "for i, prob in enumerate(probabilities):\n",
        "  for j, p in enumerate(prob):\n",
        "    probabilities[i][j] = np.where(probabilities[i][j] > best_tresholds[LABELS_LIST[j]], 1, 0)\n",
        "\n",
        "print(sklearn.metrics.classification_report(labels,probabilities))\n"
      ],
      "metadata": {
        "colab": {
          "base_uri": "https://localhost:8080/"
        },
        "outputId": "6efa316a-481c-4bf2-c971-f7819c3d9cf2",
        "id": "JRHnzmHGmJmd"
      },
      "execution_count": null,
      "outputs": [
        {
          "output_type": "stream",
          "name": "stdout",
          "text": [
            "              precision    recall  f1-score   support\n",
            "\n",
            "           0       0.51      0.50      0.51       251\n",
            "           1       0.62      0.54      0.58       496\n",
            "           2       0.09      0.52      0.15       138\n",
            "           3       0.06      0.68      0.11       103\n",
            "           4       0.71      0.59      0.64       575\n",
            "           5       0.33      0.26      0.29       164\n",
            "           6       0.42      0.39      0.41       132\n",
            "           7       0.19      0.12      0.14       130\n",
            "           8       0.70      0.79      0.74       759\n",
            "           9       0.65      0.66      0.66       488\n",
            "          10       0.52      0.41      0.46       172\n",
            "          11       0.54      0.56      0.55       455\n",
            "          12       0.03      0.42      0.05        60\n",
            "          13       0.15      0.12      0.13       127\n",
            "          14       0.53      0.68      0.60       633\n",
            "          15       0.28      0.28      0.28       268\n",
            "          16       0.68      0.70      0.69       687\n",
            "          17       0.75      0.59      0.66       127\n",
            "          18       0.35      0.17      0.23       223\n",
            "          19       0.43      0.59      0.50       371\n",
            "\n",
            "   micro avg       0.40      0.56      0.47      6359\n",
            "   macro avg       0.43      0.48      0.42      6359\n",
            "weighted avg       0.54      0.56      0.54      6359\n",
            " samples avg       0.46      0.61      0.48      6359\n",
            "\n"
          ]
        },
        {
          "output_type": "stream",
          "name": "stderr",
          "text": [
            "/usr/local/lib/python3.8/dist-packages/sklearn/metrics/_classification.py:1318: UndefinedMetricWarning: Precision and F-score are ill-defined and being set to 0.0 in samples with no predicted labels. Use `zero_division` parameter to control this behavior.\n",
            "  _warn_prf(average, modifier, msg_start, len(result))\n"
          ]
        }
      ]
    },
    {
      "cell_type": "markdown",
      "source": [
        "### Model 3: XLNet base\n",
        "The last model we are going to test is XLNet. This is a model which employs Transformer-XL as backbone model and achieved SOTA results on various language tasks.\n"
      ],
      "metadata": {
        "id": "pOiUZtiQX4EH"
      }
    },
    {
      "cell_type": "markdown",
      "source": [
        "#### Model training"
      ],
      "metadata": {
        "id": "GL7D0l5eZGU2"
      }
    },
    {
      "cell_type": "markdown",
      "source": [
        "After some tests we found the following as the best parameter to train this model:\n",
        "- batch size = 64\n",
        "- learning rates = 2e-5\n",
        "- loss: DBLoss\n",
        "- epochs = 4\n",
        "\n",
        "Now we can train our model."
      ],
      "metadata": {
        "id": "poWjIS1TX4EI"
      }
    },
    {
      "cell_type": "code",
      "source": [
        "BATCH_SIZE = 64\n",
        "model_name = 'xlnet-base-cased'\n",
        "training_checkpoint_path = PROJECT_WORK_LOCAL_PATH + \"/checkpoint/\" + model_name\n",
        "save_model_path = PROJECT_WORK_LOCAL_PATH + \"/trained_model/\" + model_name\n",
        "\n",
        "LOSS_NAME = 'DBloss'\n",
        "#LOSS_NAME = 'BCE'\n",
        "\n",
        "training_args = TrainingArguments(\n",
        "    evaluation_strategy=\"epoch\",\n",
        "    save_strategy=\"no\",\n",
        "    num_train_epochs=4,\n",
        "    weight_decay=0.01,\n",
        "    learning_rate=2e-5,\n",
        "    per_device_train_batch_size=BATCH_SIZE,\n",
        "    per_device_eval_batch_size=BATCH_SIZE,\n",
        "    fp16=False, \n",
        "    logging_steps= len(df_train) // BATCH_SIZE,\n",
        "    output_dir = training_checkpoint_path,\n",
        "    optim='adamw_torch',\n",
        "    report_to ='all',\n",
        "    lr_scheduler_type ='cosine'\n",
        ")\n",
        "\n",
        "print('Loading the model and tokenizer')\n",
        "model, tokenizer = get_model_and_tokenizer(model_name)\n",
        "print(f'Model {model_name} downloaded')\n",
        "\n",
        "print('************ DATASETS TOKENIZATION *******')\n",
        "df_train_tokenized = tokenize_dataset(df_train, tokenizer)\n",
        "df_val_tokenized = tokenize_dataset(df_val, tokenizer)\n",
        "\n",
        "train_model(model, \n",
        "            tokenizer,\n",
        "            training_args,\n",
        "            df_train_tokenized, \n",
        "            df_val_tokenized, \n",
        "            save_path = save_model_path,\n",
        "            resume_from_checkpoint = False\n",
        "            )\n",
        "\n",
        "\n",
        "del model\n",
        "torch.cuda.empty_cache()"
      ],
      "metadata": {
        "id": "yBZYz6bmX4EI",
        "colab": {
          "base_uri": "https://localhost:8080/",
          "height": 1000,
          "referenced_widgets": [
            "d7c34121b8084192a534bd88119f2992",
            "18c7646cd37f490e92505e5e61d1b4f3",
            "9e67f9f075644b2eabe4f217965a6d8f",
            "7790386d3a534e74abb1ec025b603ef4",
            "59d861f1c8a94083a5626c94ed40238d",
            "4f3824ac2b904a40bf13ba54cfb4565e",
            "951db60ade814b888b1c905493c986b7",
            "21308f03de2f44ff895a61b0d6d67c79",
            "fd9f6a7f49ce4beaa13c596fa20d160d",
            "76b1e88660874ee0b67a6fb8c629f0f5",
            "69c2c15a116b4f01a163e6aa420fa0d9",
            "5a0e37069beb438db763bab1a59f47f6",
            "7916796bd02c49cb97561d8ca0100d44",
            "99b747978c504461bd18c31b0f1bceb3",
            "1b6498cff8514706a172254d4a10b819",
            "b54b21691b0546469f40cb04a1857294",
            "52037f76fd4d4bf48e7eede8bb958283",
            "007714eb6fa4429b95fd11f16af6e5a7",
            "ac70d665f78c44a7a7a5453551cc5dbb",
            "1abaf8945d474328a38d9b442f257ec8",
            "bcd1c359794047aea2de1557912a1ba0",
            "ba5683d55ded43caba766cfe34cc1a18",
            "e26bc785145641de9b59063f1de7ce78",
            "eece31ecf16041c8bda3d02153b8887e",
            "188fbe6f37b54db4bdaaaa1f3b392a25",
            "c3a6601b35aa47b7a90085d027edb2f1",
            "138c5104f01f4518bb14ecaa1539a7f3",
            "64e1a9b6dde343ceb85a28333037f37b",
            "1dfcd4a176094b3cada6efb880824c69",
            "1e0140c5ba31488cb4364f58b9538269",
            "6fbd053567554fc4af2f5cc6a4dec2b2",
            "0b59a69a1dcf48dbaed4fb7b5793b141",
            "bb34fbcd21154ccd902e4be7d9652c52",
            "e02eedec5a92468eb55989a2d1f9213d",
            "32a31ed68bb9443e9786f3ae05a90cac",
            "a0e71636dd284b50956a6035c7592996",
            "2da5e699d980477fb8f53e052e42a773",
            "ba02bc12cdfb48f59b3f69c18cf5dbd5",
            "ca4ef33e257d42e4b9f97107c375b7f1",
            "d62f119be3824eccb0227876845ee1ed",
            "9a34eebe76114de0abad04adf8d6052c",
            "d44fcf3acc0942adba83492fbb39d2a7",
            "85eec87a77514b8aa96d197f9013791a",
            "e0bb669551434ae69e56ff3b21c38d7c"
          ]
        },
        "outputId": "015c1335-abc5-4c8a-e38d-812a4bb253e7"
      },
      "execution_count": null,
      "outputs": [
        {
          "output_type": "stream",
          "name": "stderr",
          "text": [
            "PyTorch: setting up devices\n",
            "loading configuration file config.json from cache at /root/.cache/huggingface/hub/models--xlnet-base-cased/snapshots/593a21e8b79948a7f952811aa44f37d76e23d586/config.json\n",
            "Model config XLNetConfig {\n",
            "  \"_name_or_path\": \"xlnet-base-cased\",\n",
            "  \"architectures\": [\n",
            "    \"XLNetLMHeadModel\"\n",
            "  ],\n",
            "  \"attn_type\": \"bi\",\n",
            "  \"bi_data\": false,\n",
            "  \"bos_token_id\": 1,\n",
            "  \"clamp_len\": -1,\n",
            "  \"d_head\": 64,\n",
            "  \"d_inner\": 3072,\n",
            "  \"d_model\": 768,\n",
            "  \"dropout\": 0.1,\n",
            "  \"end_n_top\": 5,\n",
            "  \"eos_token_id\": 2,\n",
            "  \"ff_activation\": \"gelu\",\n",
            "  \"id2label\": {\n",
            "    \"0\": \"Self-direction: thought\",\n",
            "    \"1\": \"Self-direction: action\",\n",
            "    \"2\": \"Stimulation\",\n",
            "    \"3\": \"Hedonism\",\n",
            "    \"4\": \"Achievement\",\n",
            "    \"5\": \"Power: dominance\",\n",
            "    \"6\": \"Power: resources\",\n",
            "    \"7\": \"Face\",\n",
            "    \"8\": \"Security: personal\",\n",
            "    \"9\": \"Security: societal\",\n",
            "    \"10\": \"Tradition\",\n",
            "    \"11\": \"Conformity: rules\",\n",
            "    \"12\": \"Conformity: interpersonal\",\n",
            "    \"13\": \"Humility\",\n",
            "    \"14\": \"Benevolence: caring\",\n",
            "    \"15\": \"Benevolence: dependability\",\n",
            "    \"16\": \"Universalism: concern\",\n",
            "    \"17\": \"Universalism: nature\",\n",
            "    \"18\": \"Universalism: tolerance\",\n",
            "    \"19\": \"Universalism: objectivity\"\n",
            "  },\n",
            "  \"initializer_range\": 0.02,\n",
            "  \"label2id\": {\n",
            "    \"Achievement\": 4,\n",
            "    \"Benevolence: caring\": 14,\n",
            "    \"Benevolence: dependability\": 15,\n",
            "    \"Conformity: interpersonal\": 12,\n",
            "    \"Conformity: rules\": 11,\n",
            "    \"Face\": 7,\n",
            "    \"Hedonism\": 3,\n",
            "    \"Humility\": 13,\n",
            "    \"Power: dominance\": 5,\n",
            "    \"Power: resources\": 6,\n",
            "    \"Security: personal\": 8,\n",
            "    \"Security: societal\": 9,\n",
            "    \"Self-direction: action\": 1,\n",
            "    \"Self-direction: thought\": 0,\n",
            "    \"Stimulation\": 2,\n",
            "    \"Tradition\": 10,\n",
            "    \"Universalism: concern\": 16,\n",
            "    \"Universalism: nature\": 17,\n",
            "    \"Universalism: objectivity\": 19,\n",
            "    \"Universalism: tolerance\": 18\n",
            "  },\n",
            "  \"layer_norm_eps\": 1e-12,\n",
            "  \"mem_len\": null,\n",
            "  \"model_type\": \"xlnet\",\n",
            "  \"n_head\": 12,\n",
            "  \"n_layer\": 12,\n",
            "  \"pad_token_id\": 5,\n",
            "  \"reuse_len\": null,\n",
            "  \"same_length\": false,\n",
            "  \"start_n_top\": 5,\n",
            "  \"summary_activation\": \"tanh\",\n",
            "  \"summary_last_dropout\": 0.1,\n",
            "  \"summary_type\": \"last\",\n",
            "  \"summary_use_proj\": true,\n",
            "  \"task_specific_params\": {\n",
            "    \"text-generation\": {\n",
            "      \"do_sample\": true,\n",
            "      \"max_length\": 250\n",
            "    }\n",
            "  },\n",
            "  \"transformers_version\": \"4.25.1\",\n",
            "  \"untie_r\": true,\n",
            "  \"use_mems_eval\": true,\n",
            "  \"use_mems_train\": false,\n",
            "  \"vocab_size\": 32000\n",
            "}\n",
            "\n",
            "loading weights file pytorch_model.bin from cache at /root/.cache/huggingface/hub/models--xlnet-base-cased/snapshots/593a21e8b79948a7f952811aa44f37d76e23d586/pytorch_model.bin\n"
          ]
        },
        {
          "output_type": "stream",
          "name": "stdout",
          "text": [
            "Loading the model and tokenizer\n"
          ]
        },
        {
          "output_type": "stream",
          "name": "stderr",
          "text": [
            "Some weights of the model checkpoint at xlnet-base-cased were not used when initializing XLNetForSequenceClassification: ['lm_loss.bias', 'lm_loss.weight']\n",
            "- This IS expected if you are initializing XLNetForSequenceClassification from the checkpoint of a model trained on another task or with another architecture (e.g. initializing a BertForSequenceClassification model from a BertForPreTraining model).\n",
            "- This IS NOT expected if you are initializing XLNetForSequenceClassification from the checkpoint of a model that you expect to be exactly identical (initializing a BertForSequenceClassification model from a BertForSequenceClassification model).\n",
            "Some weights of XLNetForSequenceClassification were not initialized from the model checkpoint at xlnet-base-cased and are newly initialized: ['logits_proj.bias', 'sequence_summary.summary.weight', 'logits_proj.weight', 'sequence_summary.summary.bias']\n",
            "You should probably TRAIN this model on a down-stream task to be able to use it for predictions and inference.\n",
            "Could not locate the tokenizer configuration file, will try to use the model config instead.\n",
            "loading configuration file config.json from cache at /root/.cache/huggingface/hub/models--xlnet-base-cased/snapshots/593a21e8b79948a7f952811aa44f37d76e23d586/config.json\n",
            "Model config XLNetConfig {\n",
            "  \"_name_or_path\": \"xlnet-base-cased\",\n",
            "  \"architectures\": [\n",
            "    \"XLNetLMHeadModel\"\n",
            "  ],\n",
            "  \"attn_type\": \"bi\",\n",
            "  \"bi_data\": false,\n",
            "  \"bos_token_id\": 1,\n",
            "  \"clamp_len\": -1,\n",
            "  \"d_head\": 64,\n",
            "  \"d_inner\": 3072,\n",
            "  \"d_model\": 768,\n",
            "  \"dropout\": 0.1,\n",
            "  \"end_n_top\": 5,\n",
            "  \"eos_token_id\": 2,\n",
            "  \"ff_activation\": \"gelu\",\n",
            "  \"initializer_range\": 0.02,\n",
            "  \"layer_norm_eps\": 1e-12,\n",
            "  \"mem_len\": null,\n",
            "  \"model_type\": \"xlnet\",\n",
            "  \"n_head\": 12,\n",
            "  \"n_layer\": 12,\n",
            "  \"pad_token_id\": 5,\n",
            "  \"reuse_len\": null,\n",
            "  \"same_length\": false,\n",
            "  \"start_n_top\": 5,\n",
            "  \"summary_activation\": \"tanh\",\n",
            "  \"summary_last_dropout\": 0.1,\n",
            "  \"summary_type\": \"last\",\n",
            "  \"summary_use_proj\": true,\n",
            "  \"task_specific_params\": {\n",
            "    \"text-generation\": {\n",
            "      \"do_sample\": true,\n",
            "      \"max_length\": 250\n",
            "    }\n",
            "  },\n",
            "  \"transformers_version\": \"4.25.1\",\n",
            "  \"untie_r\": true,\n",
            "  \"use_mems_eval\": true,\n",
            "  \"use_mems_train\": false,\n",
            "  \"vocab_size\": 32000\n",
            "}\n",
            "\n",
            "loading file spiece.model from cache at /root/.cache/huggingface/hub/models--xlnet-base-cased/snapshots/593a21e8b79948a7f952811aa44f37d76e23d586/spiece.model\n",
            "loading file tokenizer.json from cache at /root/.cache/huggingface/hub/models--xlnet-base-cased/snapshots/593a21e8b79948a7f952811aa44f37d76e23d586/tokenizer.json\n",
            "loading file added_tokens.json from cache at None\n",
            "loading file special_tokens_map.json from cache at None\n",
            "loading file tokenizer_config.json from cache at None\n",
            "loading configuration file config.json from cache at /root/.cache/huggingface/hub/models--xlnet-base-cased/snapshots/593a21e8b79948a7f952811aa44f37d76e23d586/config.json\n",
            "Model config XLNetConfig {\n",
            "  \"_name_or_path\": \"xlnet-base-cased\",\n",
            "  \"architectures\": [\n",
            "    \"XLNetLMHeadModel\"\n",
            "  ],\n",
            "  \"attn_type\": \"bi\",\n",
            "  \"bi_data\": false,\n",
            "  \"bos_token_id\": 1,\n",
            "  \"clamp_len\": -1,\n",
            "  \"d_head\": 64,\n",
            "  \"d_inner\": 3072,\n",
            "  \"d_model\": 768,\n",
            "  \"dropout\": 0.1,\n",
            "  \"end_n_top\": 5,\n",
            "  \"eos_token_id\": 2,\n",
            "  \"ff_activation\": \"gelu\",\n",
            "  \"initializer_range\": 0.02,\n",
            "  \"layer_norm_eps\": 1e-12,\n",
            "  \"mem_len\": null,\n",
            "  \"model_type\": \"xlnet\",\n",
            "  \"n_head\": 12,\n",
            "  \"n_layer\": 12,\n",
            "  \"pad_token_id\": 5,\n",
            "  \"reuse_len\": null,\n",
            "  \"same_length\": false,\n",
            "  \"start_n_top\": 5,\n",
            "  \"summary_activation\": \"tanh\",\n",
            "  \"summary_last_dropout\": 0.1,\n",
            "  \"summary_type\": \"last\",\n",
            "  \"summary_use_proj\": true,\n",
            "  \"task_specific_params\": {\n",
            "    \"text-generation\": {\n",
            "      \"do_sample\": true,\n",
            "      \"max_length\": 250\n",
            "    }\n",
            "  },\n",
            "  \"transformers_version\": \"4.25.1\",\n",
            "  \"untie_r\": true,\n",
            "  \"use_mems_eval\": true,\n",
            "  \"use_mems_train\": false,\n",
            "  \"vocab_size\": 32000\n",
            "}\n",
            "\n"
          ]
        },
        {
          "output_type": "stream",
          "name": "stdout",
          "text": [
            "Model xlnet-base-cased downloaded\n",
            "************ DATASETS TOKENIZATION *******\n"
          ]
        },
        {
          "output_type": "display_data",
          "data": {
            "text/plain": [
              "  0%|          | 0/196 [00:00<?, ?ba/s]"
            ],
            "application/vnd.jupyter.widget-view+json": {
              "version_major": 2,
              "version_minor": 0,
              "model_id": "d7c34121b8084192a534bd88119f2992"
            }
          },
          "metadata": {}
        },
        {
          "output_type": "display_data",
          "data": {
            "text/plain": [
              "Casting the dataset:   0%|          | 0/13 [00:00<?, ?ba/s]"
            ],
            "application/vnd.jupyter.widget-view+json": {
              "version_major": 2,
              "version_minor": 0,
              "model_id": "5a0e37069beb438db763bab1a59f47f6"
            }
          },
          "metadata": {}
        },
        {
          "output_type": "display_data",
          "data": {
            "text/plain": [
              "  0%|          | 0/17 [00:00<?, ?ba/s]"
            ],
            "application/vnd.jupyter.widget-view+json": {
              "version_major": 2,
              "version_minor": 0,
              "model_id": "e26bc785145641de9b59063f1de7ce78"
            }
          },
          "metadata": {}
        },
        {
          "output_type": "display_data",
          "data": {
            "text/plain": [
              "Casting the dataset:   0%|          | 0/2 [00:00<?, ?ba/s]"
            ],
            "application/vnd.jupyter.widget-view+json": {
              "version_major": 2,
              "version_minor": 0,
              "model_id": "e02eedec5a92468eb55989a2d1f9213d"
            }
          },
          "metadata": {}
        },
        {
          "output_type": "stream",
          "name": "stderr",
          "text": [
            "***** Running Evaluation *****\n",
            "  Num examples = 1079\n",
            "  Batch size = 64\n",
            "You're using a XLNetTokenizerFast tokenizer. Please note that with a fast tokenizer, using the `__call__` method is faster than using a method to encode the text followed by a call to the `pad` method to get a padded encoding.\n"
          ]
        },
        {
          "output_type": "stream",
          "name": "stdout",
          "text": [
            "*********sanity check that we can run evaluation***********\n"
          ]
        },
        {
          "output_type": "display_data",
          "data": {
            "text/plain": [
              "<IPython.core.display.HTML object>"
            ],
            "text/html": [
              "\n",
              "    <div>\n",
              "      \n",
              "      <progress value='34' max='17' style='width:300px; height:20px; vertical-align: middle;'></progress>\n",
              "      [17/17 06:11]\n",
              "    </div>\n",
              "    "
            ]
          },
          "metadata": {}
        },
        {
          "output_type": "stream",
          "name": "stderr",
          "text": [
            "***** Running training *****\n",
            "  Num examples = 12540\n",
            "  Num Epochs = 4\n",
            "  Instantaneous batch size per device = 64\n",
            "  Total train batch size (w. parallel, distributed & accumulation) = 64\n",
            "  Gradient Accumulation steps = 1\n",
            "  Total optimization steps = 784\n",
            "  Number of trainable parameters = 117324308\n"
          ]
        },
        {
          "output_type": "stream",
          "name": "stdout",
          "text": [
            "************ TRAINING START ************\n"
          ]
        },
        {
          "output_type": "display_data",
          "data": {
            "text/plain": [
              "<IPython.core.display.HTML object>"
            ],
            "text/html": [
              "\n",
              "    <div>\n",
              "      \n",
              "      <progress value='784' max='784' style='width:300px; height:20px; vertical-align: middle;'></progress>\n",
              "      [784/784 23:53, Epoch 4/4]\n",
              "    </div>\n",
              "    <table border=\"1\" class=\"dataframe\">\n",
              "  <thead>\n",
              " <tr style=\"text-align: left;\">\n",
              "      <th>Epoch</th>\n",
              "      <th>Training Loss</th>\n",
              "      <th>Validation Loss</th>\n",
              "      <th>Macro f1</th>\n",
              "      <th>Roc Auc</th>\n",
              "    </tr>\n",
              "  </thead>\n",
              "  <tbody>\n",
              "    <tr>\n",
              "      <td>1</td>\n",
              "      <td>0.361700</td>\n",
              "      <td>0.334515</td>\n",
              "      <td>0.284640</td>\n",
              "      <td>0.598942</td>\n",
              "    </tr>\n",
              "    <tr>\n",
              "      <td>2</td>\n",
              "      <td>0.282800</td>\n",
              "      <td>0.312770</td>\n",
              "      <td>0.376376</td>\n",
              "      <td>0.636905</td>\n",
              "    </tr>\n",
              "    <tr>\n",
              "      <td>3</td>\n",
              "      <td>0.252700</td>\n",
              "      <td>0.308120</td>\n",
              "      <td>0.401652</td>\n",
              "      <td>0.647816</td>\n",
              "    </tr>\n",
              "    <tr>\n",
              "      <td>4</td>\n",
              "      <td>0.240600</td>\n",
              "      <td>0.307158</td>\n",
              "      <td>0.405812</td>\n",
              "      <td>0.648656</td>\n",
              "    </tr>\n",
              "  </tbody>\n",
              "</table><p>"
            ]
          },
          "metadata": {}
        },
        {
          "output_type": "stream",
          "name": "stderr",
          "text": [
            "***** Running Evaluation *****\n",
            "  Num examples = 1079\n",
            "  Batch size = 64\n",
            "***** Running Evaluation *****\n",
            "  Num examples = 1079\n",
            "  Batch size = 64\n",
            "***** Running Evaluation *****\n",
            "  Num examples = 1079\n",
            "  Batch size = 64\n",
            "***** Running Evaluation *****\n",
            "  Num examples = 1079\n",
            "  Batch size = 64\n",
            "\n",
            "\n",
            "Training completed. Do not forget to share your model on huggingface.co/models =)\n",
            "\n",
            "\n",
            "Saving model checkpoint to /content/gdrive/MyDrive/unibo/NLP/projectWork/trained_model/xlnet-base-cased\n",
            "Configuration saved in /content/gdrive/MyDrive/unibo/NLP/projectWork/trained_model/xlnet-base-cased/config.json\n",
            "Model weights saved in /content/gdrive/MyDrive/unibo/NLP/projectWork/trained_model/xlnet-base-cased/pytorch_model.bin\n",
            "tokenizer config file saved in /content/gdrive/MyDrive/unibo/NLP/projectWork/trained_model/xlnet-base-cased/tokenizer_config.json\n",
            "Special tokens file saved in /content/gdrive/MyDrive/unibo/NLP/projectWork/trained_model/xlnet-base-cased/special_tokens_map.json\n"
          ]
        },
        {
          "output_type": "stream",
          "name": "stdout",
          "text": [
            "********** TRAINING END *************\n"
          ]
        }
      ]
    },
    {
      "cell_type": "markdown",
      "source": [
        "#### Model evaluation\n"
      ],
      "metadata": {
        "id": "IsS9nyqPX4EJ"
      }
    },
    {
      "cell_type": "code",
      "source": [
        "BATCH_SIZE = 64\n",
        "model_name = 'xlnet-base-cased'\n",
        "save_model_path = PROJECT_WORK_LOCAL_PATH + \"/trained_model/\" + model_name\n",
        "\n",
        "model = AutoModelMultilabelSequenceClassification.from_pretrained(save_model_path).to(device)\n",
        "tokenizer = AutoTokenizer.from_pretrained(model_name)"
      ],
      "metadata": {
        "id": "4khvOwZTX4EJ"
      },
      "execution_count": null,
      "outputs": []
    },
    {
      "cell_type": "markdown",
      "source": [
        "#####Global Threshold"
      ],
      "metadata": {
        "id": "brcbSVBomuA6"
      }
    },
    {
      "cell_type": "code",
      "source": [
        "print('************ Test set tokenization*******')\n",
        "df_test_tokenized = tokenize_dataset(df_test, tokenizer)\n",
        "model1_metrics, df_with_results = compute_evaluation_metrics(model,tokenizer,df_test_tokenized, treshold = 0.5 )"
      ],
      "metadata": {
        "id": "rgJrsFxvX4EK",
        "colab": {
          "base_uri": "https://localhost:8080/",
          "height": 616,
          "referenced_widgets": [
            "0d8ecfd920b34a259443d8203184a3aa",
            "1a004481e2a34d3d8cc338fe9de3459d",
            "6c43a2030ab84c1ca75d35405727c288",
            "13003965f7c142a2a6be4338041b26e0",
            "96c50ba04d1e483a9c1dee5be9032ba0",
            "2df667d1d3b04cee935df2b38a92130f",
            "c53740a87b804041ade033b37e939b74",
            "598e8fc451e84f7fa3b71e9f6eaff2b4",
            "c530600ac57845fc8bcca6366d418dd5",
            "05a666d6e0f841e69a182b4afb574957",
            "ed891b1d38a24724b0224aecd58c4b52",
            "19ba2f2e9c74442c8351c5455fe7fe05",
            "54e5b1187ca74e0698a9e3615ddb293d",
            "a726d739a0c54177946e8b6f4a9e62cf",
            "fcb59475c4e2422788d2133bba1ea3e1",
            "f582df5311054a228d829ed11150c1ca",
            "c605a7a2e4f04b1ebd0793cbc8bb2e59",
            "1d04fafa6c9f421f93371e4c62550d52",
            "7ef15af715d645228f1f01226597ace9",
            "557095c8146446dc9115e983fd2fb197",
            "f8488ad1871b415bb360f36fcf8ee4a6",
            "0706d1ea470d415781f9f52adc7b0ed9",
            "34d417d5b9e34493b879f43f1fb5defb",
            "4050a6c438084cbd8eabf18acb35186e",
            "a90e229a552343f9a44e84f23757cb78",
            "9b5b3c08950d45e8aa3996b3da1811f6",
            "3421c83a73784e6688ead8bbe9c232cd",
            "9a95836f64ca443ea36c8729dded8c09",
            "25a988de273a42a9b6a7af7866af9574",
            "6a07e4605876401ea9aa5df7784b69a6",
            "a8f57bbee6b24d4c8a85029bb2601d15",
            "ebb7245a542249fb890750b4faea2251",
            "72bcae6a32134b6bad5017fa997641df"
          ]
        },
        "outputId": "78ed4311-8f15-4c7b-840b-bec23ae78025"
      },
      "execution_count": null,
      "outputs": [
        {
          "output_type": "stream",
          "name": "stdout",
          "text": [
            "************ Test set tokenization*******\n"
          ]
        },
        {
          "output_type": "display_data",
          "data": {
            "text/plain": [
              "  0%|          | 0/30 [00:00<?, ?ba/s]"
            ],
            "application/vnd.jupyter.widget-view+json": {
              "version_major": 2,
              "version_minor": 0,
              "model_id": "0d8ecfd920b34a259443d8203184a3aa"
            }
          },
          "metadata": {}
        },
        {
          "output_type": "display_data",
          "data": {
            "text/plain": [
              "Casting the dataset:   0%|          | 0/2 [00:00<?, ?ba/s]"
            ],
            "application/vnd.jupyter.widget-view+json": {
              "version_major": 2,
              "version_minor": 0,
              "model_id": "19ba2f2e9c74442c8351c5455fe7fe05"
            }
          },
          "metadata": {}
        },
        {
          "output_type": "display_data",
          "data": {
            "text/plain": [
              "  0%|          | 0/30 [00:00<?, ?ba/s]"
            ],
            "application/vnd.jupyter.widget-view+json": {
              "version_major": 2,
              "version_minor": 0,
              "model_id": "34d417d5b9e34493b879f43f1fb5defb"
            }
          },
          "metadata": {}
        },
        {
          "output_type": "stream",
          "name": "stdout",
          "text": [
            "              precision    recall  f1-score   support\n",
            "\n",
            "           0       0.58      0.34      0.43       251\n",
            "           1       0.71      0.37      0.48       496\n",
            "           2       1.00      0.00      0.00       138\n",
            "           3       1.00      0.00      0.00       103\n",
            "           4       0.79      0.48      0.59       575\n",
            "           5       0.64      0.04      0.08       164\n",
            "           6       0.45      0.16      0.23       132\n",
            "           7       1.00      0.00      0.00       130\n",
            "           8       0.70      0.80      0.75       759\n",
            "           9       0.73      0.54      0.62       488\n",
            "          10       0.81      0.24      0.38       172\n",
            "          11       0.57      0.33      0.42       455\n",
            "          12       1.00      0.00      0.00        60\n",
            "          13       0.00      0.00      0.00       127\n",
            "          14       0.71      0.34      0.46       633\n",
            "          15       0.75      0.01      0.02       268\n",
            "          16       0.67      0.59      0.63       687\n",
            "          17       0.77      0.54      0.64       127\n",
            "          18       0.36      0.02      0.03       223\n",
            "          19       0.62      0.23      0.34       371\n",
            "\n",
            "   micro avg       0.69      0.38      0.49      6359\n",
            "   macro avg       0.69      0.25      0.31      6359\n",
            "weighted avg       0.68      0.38      0.44      6359\n",
            " samples avg       0.72      0.44      0.50      6359\n",
            "\n"
          ]
        }
      ]
    },
    {
      "cell_type": "markdown",
      "source": [
        "##### Individual Treshold"
      ],
      "metadata": {
        "id": "IcjuYHEzX4EM"
      }
    },
    {
      "cell_type": "code",
      "source": [
        "df_train_val= pd.concat([df_train, df_val], axis=0)\n",
        "df_train_val_tokenized = tokenize_dataset(df_train_val, tokenizer)\n",
        "\n",
        "_, df_train_val_results = compute_evaluation_metrics(model,tokenizer,df_train_val_tokenized, treshold = 0.5, verbose = False )\n",
        "\n",
        "probabilities = df_train_val_results['probabilities'].cpu().data.numpy()\n",
        "labels = df_train_val_results['labels'].cpu().data.numpy()\n",
        "\n",
        "tresholds = np.linspace(0.01, 0.5, 50)\n",
        "best_tresholds = {}\n",
        "\n",
        "idx = 0\n",
        "for probabilities, labels in zip(probabilities.T, labels.T):\n",
        "  f1_scores = []\n",
        "  for treshold in tresholds:\n",
        "    pred_labels = np.where(probabilities > treshold, 1, 0)\n",
        "    f1_scores.append(f1_score(y_true=labels, y_pred=pred_labels))\n",
        "\n",
        "  best_tresholds.update({ LABELS_LIST[idx] : tresholds[np.argmax(f1_scores)]})\n",
        "  idx +=1\n",
        "\n",
        "print('Best individual tresholds founded:')\n",
        "best_tresholds  "
      ],
      "metadata": {
        "id": "mPc_UWmwX4EM",
        "colab": {
          "base_uri": "https://localhost:8080/",
          "height": 477,
          "referenced_widgets": [
            "dbbc55919fae41b99a501c1ad20fa1cc",
            "c80073b57713450380c85a2fb59528f8",
            "8134eedfe59a4b78b2787b1a4f68169a",
            "30420a6332cb4c02855867da7713c513",
            "264cf08f6de843a3b8b3e2edc74b3c0f",
            "3b925a358bde485492723da6a4cc5912",
            "02ff43ec305c4c22b51fe4f5b815295a",
            "e0c67dfcddc448e194f5b881d3b17406",
            "40ab9fb2f27c455f91d90709924de53e",
            "f550bedbf1664f518743f3de711b7937",
            "5dc9cce8cf81404c97d42b0d7cd4ddb3",
            "95fc5b78b432499986b1c765cdaceb72",
            "f8af5b9ea67e421bb9ed9944d6abc41a",
            "cfb27a01370448918641d611049a2f7f",
            "f65c009157a344e5aa0984c21c7a455f",
            "c8d143c008624dc598c5d6eaa130e16c",
            "2e64480a38e048d9a38c447c82a30b91",
            "4ed446a4c410499d9e9790fe33d08d2d",
            "43707d040f874366908c430469720826",
            "8926db8500cc48cd961275e3529e96ac",
            "7d070c8fc0654abea7e7f019ca3688f8",
            "85b070d790c74bcdaf40d720e5f4c5c7",
            "351b50fd5e884d59911a1bf7de3ab5b3",
            "52a9881e19fe4b71a929dff50a2ec498",
            "3f0c0d036c764a889b80ef4229a2dab4",
            "6aed8f13dc284bdbb9ffbc5355dbd959",
            "d14172f199114837a17784965d4b7688",
            "9f3d2659cf334914bffd2676191348fb",
            "9ecd9a0ed904460786a2fb3a55ec0b38",
            "a73a6454bd804eb79902b68db09ed30a",
            "c3f9793cd356456996c312b37d67fda6",
            "c07755cbf9b54f41b62bdd2d54d31dcc",
            "4073373ca1564b35856e685004d081a3"
          ]
        },
        "outputId": "3944bb0e-feaa-4a92-f2ab-9d1054f68215"
      },
      "execution_count": null,
      "outputs": [
        {
          "output_type": "display_data",
          "data": {
            "text/plain": [
              "  0%|          | 0/213 [00:00<?, ?ba/s]"
            ],
            "application/vnd.jupyter.widget-view+json": {
              "version_major": 2,
              "version_minor": 0,
              "model_id": "dbbc55919fae41b99a501c1ad20fa1cc"
            }
          },
          "metadata": {}
        },
        {
          "output_type": "display_data",
          "data": {
            "text/plain": [
              "Casting the dataset:   0%|          | 0/14 [00:00<?, ?ba/s]"
            ],
            "application/vnd.jupyter.widget-view+json": {
              "version_major": 2,
              "version_minor": 0,
              "model_id": "95fc5b78b432499986b1c765cdaceb72"
            }
          },
          "metadata": {}
        },
        {
          "output_type": "display_data",
          "data": {
            "text/plain": [
              "  0%|          | 0/213 [00:00<?, ?ba/s]"
            ],
            "application/vnd.jupyter.widget-view+json": {
              "version_major": 2,
              "version_minor": 0,
              "model_id": "351b50fd5e884d59911a1bf7de3ab5b3"
            }
          },
          "metadata": {}
        },
        {
          "output_type": "stream",
          "name": "stdout",
          "text": [
            "Best individual tresholds founded:\n"
          ]
        },
        {
          "output_type": "execute_result",
          "data": {
            "text/plain": [
              "{'Self-direction: thought': 0.33,\n",
              " 'Self-direction: action': 0.36000000000000004,\n",
              " 'Stimulation': 0.01,\n",
              " 'Hedonism': 0.01,\n",
              " 'Achievement': 0.35000000000000003,\n",
              " 'Power: dominance': 0.2,\n",
              " 'Power: resources': 0.36000000000000004,\n",
              " 'Face': 0.18000000000000002,\n",
              " 'Security: personal': 0.45,\n",
              " 'Security: societal': 0.41000000000000003,\n",
              " 'Tradition': 0.25,\n",
              " 'Conformity: rules': 0.3,\n",
              " 'Conformity: interpersonal': 0.03,\n",
              " 'Humility': 0.15000000000000002,\n",
              " 'Benevolence: caring': 0.3,\n",
              " 'Benevolence: dependability': 0.25,\n",
              " 'Universalism: concern': 0.41000000000000003,\n",
              " 'Universalism: nature': 0.38,\n",
              " 'Universalism: tolerance': 0.26,\n",
              " 'Universalism: objectivity': 0.21000000000000002}"
            ]
          },
          "metadata": {},
          "execution_count": 24
        }
      ]
    },
    {
      "cell_type": "markdown",
      "source": [
        "Test with individual tresholds on test set"
      ],
      "metadata": {
        "id": "TTZNaU0OX4EN"
      }
    },
    {
      "cell_type": "code",
      "source": [
        "probabilities = df_with_results['probabilities'].cpu().data.numpy()\n",
        "labels = df_with_results['labels'].cpu().data.numpy()\n",
        "\n",
        "for i, prob in enumerate(probabilities):\n",
        "  for j, p in enumerate(prob):\n",
        "    probabilities[i][j] = np.where(probabilities[i][j] >= best_tresholds[LABELS_LIST[j]], 1, 0)\n",
        "\n",
        "print(sklearn.metrics.classification_report(labels,probabilities))"
      ],
      "metadata": {
        "id": "eK_akBHqX4EN",
        "colab": {
          "base_uri": "https://localhost:8080/"
        },
        "outputId": "64d0cc07-2473-492f-8b98-1060c5409a55"
      },
      "execution_count": null,
      "outputs": [
        {
          "output_type": "stream",
          "name": "stdout",
          "text": [
            "              precision    recall  f1-score   support\n",
            "\n",
            "           0       0.46      0.52      0.49       251\n",
            "           1       0.63      0.49      0.55       496\n",
            "           2       0.05      0.22      0.08       138\n",
            "           3       0.05      0.29      0.08       103\n",
            "           4       0.69      0.59      0.64       575\n",
            "           5       0.36      0.23      0.28       164\n",
            "           6       0.42      0.32      0.36       132\n",
            "           7       0.20      0.07      0.10       130\n",
            "           8       0.67      0.84      0.74       759\n",
            "           9       0.68      0.61      0.65       488\n",
            "          10       0.53      0.40      0.45       172\n",
            "          11       0.51      0.53      0.52       455\n",
            "          12       0.00      0.00      0.00        60\n",
            "          13       0.14      0.13      0.14       127\n",
            "          14       0.51      0.66      0.58       633\n",
            "          15       0.29      0.34      0.31       268\n",
            "          16       0.61      0.66      0.64       687\n",
            "          17       0.76      0.57      0.65       127\n",
            "          18       0.25      0.13      0.17       223\n",
            "          19       0.42      0.60      0.49       371\n",
            "\n",
            "   micro avg       0.46      0.54      0.50      6359\n",
            "   macro avg       0.41      0.41      0.40      6359\n",
            "weighted avg       0.52      0.54      0.52      6359\n",
            " samples avg       0.49      0.59      0.50      6359\n",
            "\n"
          ]
        },
        {
          "output_type": "stream",
          "name": "stderr",
          "text": [
            "/usr/local/lib/python3.8/dist-packages/sklearn/metrics/_classification.py:1318: UndefinedMetricWarning: Precision and F-score are ill-defined and being set to 0.0 in samples with no predicted labels. Use `zero_division` parameter to control this behavior.\n",
            "  _warn_prf(average, modifier, msg_start, len(result))\n"
          ]
        }
      ]
    },
    {
      "cell_type": "markdown",
      "source": [
        "### Conclusion\n",
        "\n",
        "The model that managed to obtain better results, both with global and individual thresholding, is RoBERTa base, with the configuration aforementioned.  <br>\n",
        "We compared the models using as metric Macro F1-Score as stated in the paper of the challenge: with global thresholding we obtained a score of 0.34 and with individual tresholding the score went up to 0.42. <br>\n",
        "In the folllowing section we show some of the predictions made by the model."
      ],
      "metadata": {
        "id": "6KzWSbdHmbrH"
      }
    },
    {
      "cell_type": "code",
      "source": [
        "BATCH_SIZE = 32\n",
        "model_name = 'roberta-base'\n",
        "save_model_path = PROJECT_WORK_LOCAL_PATH + \"/trained_model/\" + model_name\n",
        "\n",
        "model = AutoModelMultilabelSequenceClassification.from_pretrained(save_model_path).to(device)\n",
        "tokenizer = AutoTokenizer.from_pretrained(model_name)"
      ],
      "metadata": {
        "colab": {
          "base_uri": "https://localhost:8080/"
        },
        "outputId": "15908cb2-6ba3-4617-beed-f6cef27200b4",
        "id": "i2tcdQ5enNZ5"
      },
      "execution_count": null,
      "outputs": [
        {
          "output_type": "stream",
          "name": "stderr",
          "text": [
            "loading configuration file /content/gdrive/MyDrive/unibo/NLP/projectWork/trained_model/roberta-base/config.json\n",
            "Model config RobertaConfig {\n",
            "  \"_name_or_path\": \"/content/gdrive/MyDrive/unibo/NLP/projectWork/trained_model/roberta-base\",\n",
            "  \"architectures\": [\n",
            "    \"RobertaForSequenceClassification\"\n",
            "  ],\n",
            "  \"attention_probs_dropout_prob\": 0.1,\n",
            "  \"bos_token_id\": 0,\n",
            "  \"classifier_dropout\": null,\n",
            "  \"cls_token_id\": 0,\n",
            "  \"early_stopping\": true,\n",
            "  \"eos_token_id\": 2,\n",
            "  \"hidden_act\": \"gelu\",\n",
            "  \"hidden_dropout_prob\": 0.1,\n",
            "  \"hidden_size\": 768,\n",
            "  \"id2label\": {\n",
            "    \"0\": \"Self-direction: thought\",\n",
            "    \"1\": \"Self-direction: action\",\n",
            "    \"2\": \"Stimulation\",\n",
            "    \"3\": \"Hedonism\",\n",
            "    \"4\": \"Achievement\",\n",
            "    \"5\": \"Power: dominance\",\n",
            "    \"6\": \"Power: resources\",\n",
            "    \"7\": \"Face\",\n",
            "    \"8\": \"Security: personal\",\n",
            "    \"9\": \"Security: societal\",\n",
            "    \"10\": \"Tradition\",\n",
            "    \"11\": \"Conformity: rules\",\n",
            "    \"12\": \"Conformity: interpersonal\",\n",
            "    \"13\": \"Humility\",\n",
            "    \"14\": \"Benevolence: caring\",\n",
            "    \"15\": \"Benevolence: dependability\",\n",
            "    \"16\": \"Universalism: concern\",\n",
            "    \"17\": \"Universalism: nature\",\n",
            "    \"18\": \"Universalism: tolerance\",\n",
            "    \"19\": \"Universalism: objectivity\"\n",
            "  },\n",
            "  \"initializer_range\": 0.02,\n",
            "  \"intermediate_size\": 3072,\n",
            "  \"label2id\": {\n",
            "    \"Achievement\": 4,\n",
            "    \"Benevolence: caring\": 14,\n",
            "    \"Benevolence: dependability\": 15,\n",
            "    \"Conformity: interpersonal\": 12,\n",
            "    \"Conformity: rules\": 11,\n",
            "    \"Face\": 7,\n",
            "    \"Hedonism\": 3,\n",
            "    \"Humility\": 13,\n",
            "    \"Power: dominance\": 5,\n",
            "    \"Power: resources\": 6,\n",
            "    \"Security: personal\": 8,\n",
            "    \"Security: societal\": 9,\n",
            "    \"Self-direction: action\": 1,\n",
            "    \"Self-direction: thought\": 0,\n",
            "    \"Stimulation\": 2,\n",
            "    \"Tradition\": 10,\n",
            "    \"Universalism: concern\": 16,\n",
            "    \"Universalism: nature\": 17,\n",
            "    \"Universalism: objectivity\": 19,\n",
            "    \"Universalism: tolerance\": 18\n",
            "  },\n",
            "  \"layer_norm_eps\": 1e-05,\n",
            "  \"max_position_embeddings\": 514,\n",
            "  \"model_type\": \"roberta\",\n",
            "  \"num_attention_heads\": 12,\n",
            "  \"num_hidden_layers\": 12,\n",
            "  \"pad_token_id\": 1,\n",
            "  \"position_embedding_type\": \"absolute\",\n",
            "  \"problem_type\": \"multi_label_classification\",\n",
            "  \"torch_dtype\": \"float32\",\n",
            "  \"transformers_version\": \"4.25.1\",\n",
            "  \"type_vocab_size\": 1,\n",
            "  \"use_cache\": true,\n",
            "  \"vocab_size\": 50265\n",
            "}\n",
            "\n",
            "loading weights file /content/gdrive/MyDrive/unibo/NLP/projectWork/trained_model/roberta-base/pytorch_model.bin\n",
            "All model checkpoint weights were used when initializing RobertaForSequenceClassification.\n",
            "\n",
            "All the weights of RobertaForSequenceClassification were initialized from the model checkpoint at /content/gdrive/MyDrive/unibo/NLP/projectWork/trained_model/roberta-base.\n",
            "If your task is similar to the task the model of the checkpoint was trained on, you can already use RobertaForSequenceClassification for predictions without further training.\n",
            "Could not locate the tokenizer configuration file, will try to use the model config instead.\n",
            "loading configuration file config.json from cache at /root/.cache/huggingface/hub/models--roberta-base/snapshots/ff46155979338ff8063cdad90908b498ab91b181/config.json\n",
            "Model config RobertaConfig {\n",
            "  \"_name_or_path\": \"roberta-base\",\n",
            "  \"architectures\": [\n",
            "    \"RobertaForMaskedLM\"\n",
            "  ],\n",
            "  \"attention_probs_dropout_prob\": 0.1,\n",
            "  \"bos_token_id\": 0,\n",
            "  \"classifier_dropout\": null,\n",
            "  \"eos_token_id\": 2,\n",
            "  \"hidden_act\": \"gelu\",\n",
            "  \"hidden_dropout_prob\": 0.1,\n",
            "  \"hidden_size\": 768,\n",
            "  \"initializer_range\": 0.02,\n",
            "  \"intermediate_size\": 3072,\n",
            "  \"layer_norm_eps\": 1e-05,\n",
            "  \"max_position_embeddings\": 514,\n",
            "  \"model_type\": \"roberta\",\n",
            "  \"num_attention_heads\": 12,\n",
            "  \"num_hidden_layers\": 12,\n",
            "  \"pad_token_id\": 1,\n",
            "  \"position_embedding_type\": \"absolute\",\n",
            "  \"transformers_version\": \"4.25.1\",\n",
            "  \"type_vocab_size\": 1,\n",
            "  \"use_cache\": true,\n",
            "  \"vocab_size\": 50265\n",
            "}\n",
            "\n",
            "loading file vocab.json from cache at /root/.cache/huggingface/hub/models--roberta-base/snapshots/ff46155979338ff8063cdad90908b498ab91b181/vocab.json\n",
            "loading file merges.txt from cache at /root/.cache/huggingface/hub/models--roberta-base/snapshots/ff46155979338ff8063cdad90908b498ab91b181/merges.txt\n",
            "loading file tokenizer.json from cache at /root/.cache/huggingface/hub/models--roberta-base/snapshots/ff46155979338ff8063cdad90908b498ab91b181/tokenizer.json\n",
            "loading file added_tokens.json from cache at None\n",
            "loading file special_tokens_map.json from cache at None\n",
            "loading file tokenizer_config.json from cache at None\n",
            "loading configuration file config.json from cache at /root/.cache/huggingface/hub/models--roberta-base/snapshots/ff46155979338ff8063cdad90908b498ab91b181/config.json\n",
            "Model config RobertaConfig {\n",
            "  \"_name_or_path\": \"roberta-base\",\n",
            "  \"architectures\": [\n",
            "    \"RobertaForMaskedLM\"\n",
            "  ],\n",
            "  \"attention_probs_dropout_prob\": 0.1,\n",
            "  \"bos_token_id\": 0,\n",
            "  \"classifier_dropout\": null,\n",
            "  \"eos_token_id\": 2,\n",
            "  \"hidden_act\": \"gelu\",\n",
            "  \"hidden_dropout_prob\": 0.1,\n",
            "  \"hidden_size\": 768,\n",
            "  \"initializer_range\": 0.02,\n",
            "  \"intermediate_size\": 3072,\n",
            "  \"layer_norm_eps\": 1e-05,\n",
            "  \"max_position_embeddings\": 514,\n",
            "  \"model_type\": \"roberta\",\n",
            "  \"num_attention_heads\": 12,\n",
            "  \"num_hidden_layers\": 12,\n",
            "  \"pad_token_id\": 1,\n",
            "  \"position_embedding_type\": \"absolute\",\n",
            "  \"transformers_version\": \"4.25.1\",\n",
            "  \"type_vocab_size\": 1,\n",
            "  \"use_cache\": true,\n",
            "  \"vocab_size\": 50265\n",
            "}\n",
            "\n"
          ]
        }
      ]
    },
    {
      "cell_type": "code",
      "source": [
        "samples = df_with_results.select(random.sample(range(1, len(df_with_results)), 3))\n",
        "\n",
        "for row in samples:\n",
        "  input_ids = row['input_ids'].cpu().data.numpy()\n",
        "  labels = row['labels'].cpu().data.numpy()\n",
        "  predictions = row['predictions'].cpu().data.numpy()\n",
        "  input_str = tokenizer.decode(input_ids, skip_special_tokens=False) \n",
        "\n",
        "  print(f\"Input: Conclusion: {input_str} \") \n",
        "  print(f\"Groud truth labels: {decode_labels(labels)}\")\n",
        "  print(f\"predicted labels: {decode_labels(predictions)}\")\n",
        "  print('----------------------------------------------------')"
      ],
      "metadata": {
        "colab": {
          "base_uri": "https://localhost:8080/"
        },
        "outputId": "818eb2a4-ab48-4dbe-f5f0-aafadcb36c19",
        "id": "tWPSvAacmJmc"
      },
      "execution_count": null,
      "outputs": [
        {
          "output_type": "stream",
          "name": "stdout",
          "text": [
            "Input: Conclusion: <s>if entrapment can be used to get criminals off the streets, why should it be banned?</s> this is in favor of Entrapment should be legalized</s><pad><pad><pad><pad><pad><pad><pad><pad><pad><pad><pad><pad><pad><pad><pad><pad><pad><pad><pad><pad><pad><pad><pad><pad><pad><pad><pad><pad><pad><pad><pad><pad><pad><pad><pad><pad><pad><pad><pad><pad><pad><pad><pad><pad><pad><pad><pad><pad><pad><pad><pad><pad><pad><pad><pad><pad><pad><pad><pad><pad><pad><pad><pad><pad><pad><pad><pad><pad><pad><pad><pad><pad><pad><pad><pad><pad><pad><pad><pad><pad><pad><pad><pad><pad><pad><pad><pad><pad><pad><pad><pad><pad><pad><pad> \n",
            "Groud truth labels: ['Security: societal', 'Conformity: rules', 'Universalism: concern']\n",
            "predicted labels: ['Security: societal', 'Conformity: rules', 'Universalism: concern']\n",
            "----------------------------------------------------\n",
            "Input: Conclusion: <s>social media gives it users a place to seek support when in need whether emotional or financially, things that would be more difficult if not impossible to do outside of their home.</s> this is against Social media brings more harm than good</s><pad><pad><pad><pad><pad><pad><pad><pad><pad><pad><pad><pad><pad><pad><pad><pad><pad><pad><pad><pad><pad><pad><pad><pad><pad><pad><pad><pad><pad><pad><pad><pad><pad><pad><pad><pad><pad><pad><pad><pad><pad><pad><pad><pad><pad><pad><pad><pad><pad><pad><pad><pad><pad><pad><pad><pad><pad><pad><pad><pad><pad><pad><pad><pad><pad><pad><pad><pad><pad><pad><pad><pad><pad><pad><pad><pad><pad><pad><pad><pad><pad> \n",
            "Groud truth labels: ['Self-direction: action', 'Face', 'Security: personal', 'Benevolence: caring', 'Benevolence: dependability']\n",
            "predicted labels: ['Security: personal', 'Benevolence: caring']\n",
            "----------------------------------------------------\n",
            "Input: Conclusion: <s>The use of public defenders should be mandatory because it would encourage more of the best law students to become public defenders, if they want to be defense attorneys.</s> this is in favor of The use of public defenders should be mandatory</s><pad><pad><pad><pad><pad><pad><pad><pad><pad><pad><pad><pad><pad><pad><pad><pad><pad><pad><pad><pad><pad><pad><pad><pad><pad><pad><pad><pad><pad><pad><pad><pad><pad><pad><pad><pad><pad><pad><pad><pad><pad><pad><pad><pad><pad><pad><pad><pad><pad><pad><pad><pad><pad><pad><pad><pad><pad><pad><pad><pad><pad><pad><pad><pad><pad><pad><pad><pad><pad><pad><pad><pad><pad><pad><pad><pad><pad><pad><pad><pad><pad> \n",
            "Groud truth labels: ['Achievement']\n",
            "predicted labels: ['Achievement']\n",
            "----------------------------------------------------\n"
          ]
        }
      ]
    }
  ]
}